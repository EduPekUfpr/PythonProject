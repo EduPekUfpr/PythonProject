{
  "nbformat": 4,
  "nbformat_minor": 0,
  "metadata": {
    "colab": {
      "provenance": []
    },
    "kernelspec": {
      "name": "python3",
      "display_name": "Python 3"
    },
    "language_info": {
      "name": "python"
    }
  },
  "cells": [
    {
      "cell_type": "markdown",
      "source": [
        "\n",
        "<p style =\"text-align:center\">\n",
        "    <img src=\"http://epecora.com.br/DataFiles/BannerUFPR.png\" width=\"700\" alt=\"PPGOLD/PPGMNE Python:INTRO\"  />\n",
        "</p>\n",
        "\n",
        "# Modelagem Matemática\n",
        "\n",
        "## Eduardo Pécora, Ph.D.\n",
        "\n",
        "## Modelos de Programação Inteira Mista\n",
        "\n",
        "### Objetivos:\n",
        "\n",
        "* Introduzir os conceitos de programação matemática em Python\n",
        "* Declarar, variáveis, restrições e função objetivo\n",
        "* Otimizar o Modelo\n",
        "\n",
        "---\n",
        "\n",
        "## Modelo Básico"
      ],
      "metadata": {
        "id": "zKUvFKdsf_DE"
      }
    },
    {
      "cell_type": "code",
      "execution_count": 1,
      "metadata": {
        "id": "UtP3GfxjELOG"
      },
      "outputs": [],
      "source": [
        "# Instala silenciosamente a biblioteca Pyomo, usada para otimização\n",
        "%%capture\n",
        "!pip install -q pyomo\n",
        "# Instala o solver GLPK (GNU Linear Programming Kit) no ambiente\n",
        "!apt-get install -y -qq glpk-utils"
      ]
    },
    {
      "cell_type": "code",
      "source": [
        "# Importa os principais elementos do Pyomo e Numpy\n",
        "from pyomo.environ import *\n",
        "import numpy as np\n",
        "\n",
        "# Parâmetrors do modelo como Numpy Array\n",
        "A = np.array([[1, 0], [1, 1],[2,1]])\n",
        "b = np.array([40, 80,100])\n",
        "c = np.array([40,30])\n",
        "\n",
        "# Índices\n",
        "I = range(len(A))\n",
        "print(I)\n",
        "\n",
        "# Índices\n",
        "J = range(len(A.T))\n",
        "print(J)"
      ],
      "metadata": {
        "id": "QovtZDYCENuo",
        "colab": {
          "base_uri": "https://localhost:8080/"
        },
        "outputId": "e893f84e-af12-4e78-efd4-162d740d4d37"
      },
      "execution_count": 2,
      "outputs": [
        {
          "output_type": "stream",
          "name": "stdout",
          "text": [
            "range(0, 3)\n",
            "range(0, 2)\n"
          ]
        }
      ]
    },
    {
      "cell_type": "code",
      "source": [
        "# Cria um modelo concreto (instância de um problema de otimização)\n",
        "model = ConcreteModel()\n",
        "\n",
        "# Define as variáveis de decisão x\n",
        "model.x = Var(J)"
      ],
      "metadata": {
        "id": "X8lNvyIjER_L"
      },
      "execution_count": 3,
      "outputs": []
    },
    {
      "cell_type": "code",
      "source": [
        "# Adiciona as restrições:\n",
        "model.constraints = ConstraintList()\n",
        "for i in I:\n",
        "    model.constraints.add(sum(A[i,j]*model.x[j] for j in J) <= b[i])"
      ],
      "metadata": {
        "id": "32uLsY7nEnJp"
      },
      "execution_count": 4,
      "outputs": []
    },
    {
      "cell_type": "code",
      "source": [
        "# Define a função objetivo:\n",
        "model.objective = Objective(expr = sum(c[j]*model.x[j] for j in J), sense=maximize)\n",
        "\n",
        "# Cria uma instancia do solver\n",
        "solver = SolverFactory('glpk')\n",
        "\n",
        "# Resolve\n",
        "solver.solve(model)\n",
        "\n",
        "# Imprime Soluções\n",
        "for j in J:\n",
        "    print(\"x[\", j, \"] =\", model.x[j].value)"
      ],
      "metadata": {
        "colab": {
          "base_uri": "https://localhost:8080/"
        },
        "id": "rdCEdW1dEpjm",
        "outputId": "a083aca8-ced0-4e22-a93c-8cb242a511ed"
      },
      "execution_count": 5,
      "outputs": [
        {
          "output_type": "stream",
          "name": "stdout",
          "text": [
            "x[ 0 ] = 20.0\n",
            "x[ 1 ] = 60.0\n"
          ]
        }
      ]
    },
    {
      "cell_type": "code",
      "source": [
        "# Imprime Restrições\n",
        "model.constraints.display()"
      ],
      "metadata": {
        "id": "VhMvw6VSEtMd",
        "colab": {
          "base_uri": "https://localhost:8080/"
        },
        "outputId": "5416b916-7b79-40ee-990b-93cba8b49fdf"
      },
      "execution_count": 6,
      "outputs": [
        {
          "output_type": "stream",
          "name": "stdout",
          "text": [
            "constraints : Size=3\n",
            "    Key : Lower : Body  : Upper\n",
            "      1 :  None :  20.0 :  40.0\n",
            "      2 :  None :  80.0 :  80.0\n",
            "      3 :  None : 100.0 : 100.0\n"
          ]
        }
      ]
    },
    {
      "cell_type": "code",
      "source": [
        "# Se o status do solver for 'ok', imprime a estrutura do modelo (variáveis, restrições e objetivo)\n",
        "if results.solver.status == 'ok':\n",
        "  model.constraints.pprint()"
      ],
      "metadata": {
        "colab": {
          "base_uri": "https://localhost:8080/"
        },
        "id": "_PiHKu2ru7tb",
        "outputId": "c26712b7-886d-43a5-e8f5-ce19fda3806a"
      },
      "execution_count": 7,
      "outputs": [
        {
          "output_type": "stream",
          "name": "stdout",
          "text": [
            "constraints : Size=3, Index={1, 2, 3}, Active=True\n",
            "    Key : Lower : Body          : Upper : Active\n",
            "      1 :  -Inf : x[0] + 0*x[1] :  40.0 :   True\n",
            "      2 :  -Inf :   x[0] + x[1] :  80.0 :   True\n",
            "      3 :  -Inf : 2*x[0] + x[1] : 100.0 :   True\n"
          ]
        }
      ]
    },
    {
      "cell_type": "code",
      "source": [
        "# Imprime valor FO\n",
        "model.objective.display()"
      ],
      "metadata": {
        "colab": {
          "base_uri": "https://localhost:8080/"
        },
        "id": "cwe35W19u-De",
        "outputId": "df78ed90-c653-4538-9dc9-01bfc03be7b1"
      },
      "execution_count": 8,
      "outputs": [
        {
          "output_type": "stream",
          "name": "stdout",
          "text": [
            "objective : Size=1, Index=None, Active=True\n",
            "    Key  : Active : Value\n",
            "    None :   True : 2600.0\n"
          ]
        }
      ]
    },
    {
      "cell_type": "code",
      "source": [
        "model.objective.pprint()"
      ],
      "metadata": {
        "colab": {
          "base_uri": "https://localhost:8080/"
        },
        "id": "azej0jWHvFiX",
        "outputId": "fa54fdcc-00c3-4d9a-954c-24022e4b4fd7"
      },
      "execution_count": 9,
      "outputs": [
        {
          "output_type": "stream",
          "name": "stdout",
          "text": [
            "objective : Size=1, Index=None, Active=True\n",
            "    Key  : Active : Sense    : Expression\n",
            "    None :   True : maximize : 40*x[0] + 30*x[1]\n"
          ]
        }
      ]
    },
    {
      "cell_type": "code",
      "source": [
        "# Imprime Variáveis\n",
        "model.x.display()"
      ],
      "metadata": {
        "colab": {
          "base_uri": "https://localhost:8080/"
        },
        "id": "_vgg6WmZvECV",
        "outputId": "2ec485aa-4bf7-4965-8112-464d8734b025"
      },
      "execution_count": 10,
      "outputs": [
        {
          "output_type": "stream",
          "name": "stdout",
          "text": [
            "x : Size=2, Index={0, 1}\n",
            "    Key : Lower : Value : Upper : Fixed : Stale : Domain\n",
            "      0 :  None :  20.0 :  None : False : False :  Reals\n",
            "      1 :  None :  60.0 :  None : False : False :  Reals\n"
          ]
        }
      ]
    },
    {
      "cell_type": "code",
      "source": [
        "model.x.pprint()"
      ],
      "metadata": {
        "colab": {
          "base_uri": "https://localhost:8080/"
        },
        "id": "SvWiGVsIvVhY",
        "outputId": "bc831991-519e-4abb-d5e4-4b6b49f52ec0"
      },
      "execution_count": 11,
      "outputs": [
        {
          "output_type": "stream",
          "name": "stdout",
          "text": [
            "x : Size=2, Index={0, 1}\n",
            "    Key : Lower : Value : Upper : Fixed : Stale : Domain\n",
            "      0 :  None :  20.0 :  None : False : False :  Reals\n",
            "      1 :  None :  60.0 :  None : False : False :  Reals\n"
          ]
        }
      ]
    },
    {
      "cell_type": "markdown",
      "source": [
        "## Fique Conectado\n",
        "\n",
        "- [![YouTube](https://img.icons8.com/?size=40&id=19318&format=png&color=000000)](https://www.youtube.com/@LigaDataScience/videos)  \n",
        "  Explore nossos vídeos educacionais e webinars sobre ciência de dados, machine learning e inteligência artificial. Inscreva-se para não perder nenhuma atualização!\n",
        "\n",
        "- [![LinkedIn](https://img.icons8.com/?size=40&id=13930&format=png&color=000000)](https://www.linkedin.com/company/liga-data-science-ufpr/)  \n",
        "  Siga-nos no LinkedIn para as últimas novidades, oportunidades de carreira e networking profissional no campo da ciência de dados.\n",
        "\n",
        "- [![Instagram](https://img.icons8.com/?size=40&id=32323&format=png&color=000000)](https://www.instagram.com/ligadatascience/)  \n",
        "  Confira nosso Instagram para conteúdos dos bastidores, destaques de eventos e o dia a dia da Liga Data Science. Faça parte da nossa jornada!\n",
        "  \n",
        "  \n",
        "## Autor\n",
        "\n",
        "<a href=\"https://www.linkedin.com/in/eduardopecora/\" target=\"_blank\">Eduardo Pecora</a>\n",
        "\n",
        "## Log de modificações\n",
        "\n",
        "| Data | Versão | Modificado por | Descrição |\n",
        "| ----------------- | ------- | ---------- | ---------------------------------- |\n",
        "| 23-06-2025       | 1.0     | Eduardo Pecora    | Inicial               |\n",
        "<hr>\n",
        "\n",
        "&copy; Eduardo Pécora 2025\n"
      ],
      "metadata": {
        "id": "Hnyjh8TGgE87"
      }
    },
    {
      "cell_type": "code",
      "source": [],
      "metadata": {
        "id": "OlJztn2jgFbY"
      },
      "execution_count": null,
      "outputs": []
    }
  ]
}