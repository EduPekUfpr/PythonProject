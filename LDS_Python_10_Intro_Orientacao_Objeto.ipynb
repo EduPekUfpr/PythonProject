{
  "nbformat": 4,
  "nbformat_minor": 0,
  "metadata": {
    "colab": {
      "provenance": []
    },
    "kernelspec": {
      "name": "python3",
      "display_name": "Python 3"
    },
    "language_info": {
      "name": "python"
    }
  },
  "cells": [
    {
      "cell_type": "markdown",
      "source": [
        "\n",
        "<p style =\"text-align:center\">\n",
        "    <img src=\"http://epecora.com.br/DataFiles/BannerUFPR.png\" width=\"700\" alt=\"PPGOLD/PPGMNE Python:INTRO\"  />\n",
        "</p>\n",
        "# Orientação a Objeto\n",
        "\n",
        "## Eduardo Pécora, Ph.D.\n",
        "\n",
        "## Introdução à Programação Orientada a Objetos (POO) em Python\n",
        "\n",
        "Objetivos:\n",
        "1.\tCompreender os princípios fundamentais da POO\n",
        "2.\tSer capaz de definir e utilizar classes e objetos em Python.\n",
        "3.\tAprender a aplicar métodos, atributos e construtores (método init).\n",
        "4.\tCompreender o conceito de herança e como estender classes.\n",
        "\n",
        "### Classe\n",
        "\n",
        "Uma classe é como se fosse uma `blueprint` ou `template` para um objeto que você irá usar no seu código.\n",
        "\n",
        "**Vamos começar definindo a nossa primeira classe `Carro`**"
      ],
      "metadata": {
        "id": "-GRejk5xK-6c"
      }
    },
    {
      "cell_type": "code",
      "execution_count": 68,
      "metadata": {
        "id": "ryNCstpeKlew"
      },
      "outputs": [],
      "source": [
        "class Carro:\n",
        "    pass"
      ]
    },
    {
      "cell_type": "markdown",
      "source": [
        "## Crio um objeto `carro01` pertencente à classe `Carro`"
      ],
      "metadata": {
        "id": "WRojVl1gLuaD"
      }
    },
    {
      "cell_type": "code",
      "source": [
        "carro01 = Carro()\n",
        "print(carro01)"
      ],
      "metadata": {
        "colab": {
          "base_uri": "https://localhost:8080/"
        },
        "id": "JzzFfdH7KuVG",
        "outputId": "ab802811-02e7-49c8-c766-1a399ef1cf84"
      },
      "execution_count": 69,
      "outputs": [
        {
          "output_type": "stream",
          "name": "stdout",
          "text": [
            "<__main__.Carro object at 0x7ac85c170bb0>\n"
          ]
        }
      ]
    },
    {
      "cell_type": "markdown",
      "source": [
        "O Objeto está vazio, pois a classe `Carro` não tem nenhum atributo nem método."
      ],
      "metadata": {
        "id": "V73K3suhL-SG"
      }
    },
    {
      "cell_type": "markdown",
      "source": [
        "## Atributos"
      ],
      "metadata": {
        "id": "crTfoaaZMH1l"
      }
    },
    {
      "cell_type": "code",
      "source": [
        "class Carro:\n",
        "    def __init__(self, fabricante, modelo, ano):\n",
        "        self.fabricante = fabricante\n",
        "        self.modelo = modelo\n",
        "        self.ano = ano"
      ],
      "metadata": {
        "id": "q-848FagKwtP"
      },
      "execution_count": 70,
      "outputs": []
    },
    {
      "cell_type": "code",
      "source": [
        "carro02 = Carro(\"Toyota\", \"Corolla\", 2020)\n",
        "print(carro02)\n",
        "print(carro02.fabricante)\n",
        "print(carro02.modelo)\n",
        "print(carro02.ano)"
      ],
      "metadata": {
        "colab": {
          "base_uri": "https://localhost:8080/"
        },
        "id": "cN5Zlvj9L8nh",
        "outputId": "d2dc2c22-3c31-43c7-9430-ccdb12621f9d"
      },
      "execution_count": 71,
      "outputs": [
        {
          "output_type": "stream",
          "name": "stdout",
          "text": [
            "<__main__.Carro object at 0x7ac85c172c20>\n",
            "Toyota\n",
            "Corolla\n",
            "2020\n"
          ]
        }
      ]
    },
    {
      "cell_type": "markdown",
      "source": [
        "## Método"
      ],
      "metadata": {
        "id": "mwV_PRAJM64T"
      }
    },
    {
      "cell_type": "code",
      "source": [
        "class Carro:\n",
        "    def __init__(self, fabricante, modelo, ano): #inicializa o objeto\n",
        "        self.fabricante = fabricante\n",
        "        self.modelo = modelo\n",
        "        self.ano = ano\n",
        "\n",
        "    def descricao(self):\n",
        "        print(f\"O carro é um {self.fabricante} {self.modelo} ano {self.ano}.\")"
      ],
      "metadata": {
        "id": "yOtkQyrdMk86"
      },
      "execution_count": 72,
      "outputs": []
    },
    {
      "cell_type": "code",
      "source": [
        "carro02.descricao() #erro"
      ],
      "metadata": {
        "colab": {
          "base_uri": "https://localhost:8080/",
          "height": 141
        },
        "id": "8PeyyuXgNIO0",
        "outputId": "d406dd63-04f5-4fec-d9b5-804af317e3b7"
      },
      "execution_count": 73,
      "outputs": [
        {
          "output_type": "error",
          "ename": "AttributeError",
          "evalue": "'Carro' object has no attribute 'descricao'",
          "traceback": [
            "\u001b[0;31m---------------------------------------------------------------------------\u001b[0m",
            "\u001b[0;31mAttributeError\u001b[0m                            Traceback (most recent call last)",
            "\u001b[0;32m<ipython-input-73-4a4c9a843d48>\u001b[0m in \u001b[0;36m<cell line: 1>\u001b[0;34m()\u001b[0m\n\u001b[0;32m----> 1\u001b[0;31m \u001b[0mcarro02\u001b[0m\u001b[0;34m.\u001b[0m\u001b[0mdescricao\u001b[0m\u001b[0;34m(\u001b[0m\u001b[0;34m)\u001b[0m \u001b[0;31m#erro\u001b[0m\u001b[0;34m\u001b[0m\u001b[0;34m\u001b[0m\u001b[0m\n\u001b[0m",
            "\u001b[0;31mAttributeError\u001b[0m: 'Carro' object has no attribute 'descricao'"
          ]
        }
      ]
    },
    {
      "cell_type": "code",
      "source": [
        "carro02 = Carro(\"Toyota\", \"Corolla\", 2020)\n",
        "carro02.descricao()"
      ],
      "metadata": {
        "id": "-9ge8SnLNNnY"
      },
      "execution_count": null,
      "outputs": []
    },
    {
      "cell_type": "code",
      "source": [
        "carro03 = Carro(\"Ford\", \"Mustang\", 2024)\n",
        "carro03.descricao()"
      ],
      "metadata": {
        "id": "biayQ3fZNmIY"
      },
      "execution_count": null,
      "outputs": []
    },
    {
      "cell_type": "code",
      "source": [
        "carro04 = Carro(\"VW\",\"Fusca\",\"1967\")\n",
        "carro04.descricao()"
      ],
      "metadata": {
        "id": "F_oJJKAtNpMN"
      },
      "execution_count": null,
      "outputs": []
    },
    {
      "cell_type": "markdown",
      "source": [
        "## Herança\n",
        "\n",
        "### Sub-classe `CarroEletrico`"
      ],
      "metadata": {
        "id": "g4jn1ql0OOKy"
      }
    },
    {
      "cell_type": "code",
      "source": [
        "class CarroEletrico(Carro):\n",
        "    def __init__(self, fabricante, modelo, ano, bateria):\n",
        "        super().__init__(fabricante, modelo, ano)\n",
        "        self.bateria = bateria\n",
        "\n",
        "    def charge(self):\n",
        "        print(f\"O {self.modelo} está carregando.\")"
      ],
      "metadata": {
        "id": "OGWkVUshN5ci"
      },
      "execution_count": null,
      "outputs": []
    },
    {
      "cell_type": "code",
      "source": [
        "CarroEletrico01 = CarroEletrico(\"Tesla\", \"Modelo S\", 2023, 75)\n",
        "CarroEletrico01.charge()"
      ],
      "metadata": {
        "id": "C8KvBLzeOfoY"
      },
      "execution_count": null,
      "outputs": []
    },
    {
      "cell_type": "code",
      "source": [
        "CarroEletrico01.descricao()"
      ],
      "metadata": {
        "id": "J33YJmI0OiKy"
      },
      "execution_count": null,
      "outputs": []
    },
    {
      "cell_type": "code",
      "source": [
        "class CarroEletrico(Carro):\n",
        "    def __init__(self, fabricante, modelo, ano, bateria):\n",
        "        super().__init__(fabricante, modelo, ano)\n",
        "        self.bateria = bateria\n",
        "\n",
        "    def charge(self):\n",
        "        print(f\"O {self.modelo} está carregando.\")\n",
        "\n",
        "    def descricao(self):\n",
        "        print(f\"O carro é um {self.fabricante} {self.modelo} ano {self.ano} com bateria {self.bateria}.\")"
      ],
      "metadata": {
        "id": "LImNt58SOtXO"
      },
      "execution_count": null,
      "outputs": []
    },
    {
      "cell_type": "code",
      "source": [
        "CarroEletrico01 = CarroEletrico(\"Tesla\", \"Model S\", 2023, 75)\n",
        "CarroEletrico01.descricao()"
      ],
      "metadata": {
        "id": "1tOfew-pO3in"
      },
      "execution_count": null,
      "outputs": []
    },
    {
      "cell_type": "markdown",
      "source": [
        "## Para testar os seus conhecimentos\n",
        "\n",
        "Instruções:\n",
        "* Crie uma classe mãe chamada `Forma` com um método `area()` que retorne 0.\n",
        "* Crie duas subclasses, `Retangulo` e `Circulo`, cada uma sobrescrevendo o método area() para calcular suas respectivas áreas.\n",
        "* Teste criando chamando area() em diferentes objetos.\n"
      ],
      "metadata": {
        "id": "dOy7cbCuafso"
      }
    },
    {
      "cell_type": "markdown",
      "source": [
        "## Fique Conectado\n",
        "\n",
        "- [![YouTube](https://img.icons8.com/?size=40&id=19318&format=png&color=000000)](https://www.youtube.com/@LigaDataScience/videos)  \n",
        "  Explore nossos vídeos educacionais e webinars sobre ciência de dados, machine learning e inteligência artificial. Inscreva-se para não perder nenhuma atualização!\n",
        "\n",
        "- [![LinkedIn](https://img.icons8.com/?size=40&id=13930&format=png&color=000000)](https://www.linkedin.com/company/liga-data-science-ufpr/)  \n",
        "  Siga-nos no LinkedIn para as últimas novidades, oportunidades de carreira e networking profissional no campo da ciência de dados.\n",
        "\n",
        "- [![Instagram](https://img.icons8.com/?size=40&id=32323&format=png&color=000000)](https://www.instagram.com/ligadatascience/)  \n",
        "  Confira nosso Instagram para conteúdos dos bastidores, destaques de eventos e o dia a dia da Liga Data Science. Faça parte da nossa jornada!\n",
        "  \n",
        "  ## Autores\n",
        "\n",
        "<a href=\"https://www.linkedin.com/in/eduardopecora/\" target=\"_blank\">Eduardo Pecora</a>\n",
        "\n",
        "<a href=\"https://www.linkedin.com/in/jo%C3%A3o-gabriel-santin-botelho-618244222/\" target=\"_blank\">João Gabriel Santin Botelho</a>\n",
        "\n",
        "## Log de modificações\n",
        "\n",
        "| Data | Versão | Modificado por | Descrição |\n",
        "| ----------------- | ------- | ---------- | ---------------------------------- |\n",
        "| 07-11-2024       | 1.0     | Eduardo Pecora & João Gabriel| Inicial               |\n",
        "\n",
        "<hr>\n",
        "\n",
        "## <h3 align=\"center\"> (c) Liga Data Science/ UFPR 2024. All rights reserved. <h3/>"
      ],
      "metadata": {
        "id": "GMwWQsSeZmTc"
      }
    },
    {
      "cell_type": "code",
      "source": [],
      "metadata": {
        "id": "vw-Aawhja-Ny"
      },
      "execution_count": null,
      "outputs": []
    }
  ]
}