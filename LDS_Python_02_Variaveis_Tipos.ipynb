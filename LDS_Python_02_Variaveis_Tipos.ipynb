{
  "cells": [
    {
      "cell_type": "markdown",
      "metadata": {
        "id": "kxQ0h6rEsuR9"
      },
      "source": [
        "<p style =\"text-align:center\">\n",
        "    <img src=\"http://epecora.com.br/DataFiles/BannerUFPR.png\" width=\"700\" alt=\"PPGOLD/PPGMNE Python:INTRO\"  />\n",
        "</p>\n",
        "\n",
        "\n",
        "# **Python Básico**\n",
        "\n",
        "<a id=\"data\"></a>\n",
        "\n",
        "# **Variáveis e Tipos de Dados**\n",
        "\n",
        "Em Python, uma variável é um espaço na memória que armazena um valor, o qual pode ser acessado e manipulado ao longo de um programa. O valor de uma variável pode ser alterado durante a execução do programa, daí o nome “variável”.\n",
        "\n",
        "Características de uma Variável:\n",
        "\n",
        "* Nome\n",
        "* Tipo de Dados\n",
        "* Valor\n",
        "\n",
        "Variáveis em Python são de tipagem dinâmica, o que significa que você não precisa declarar seu tipo, então o tipo é inferido pelo interpretador quando um valor é atribuído a uma variável. O mesmo ocorre para as demais estruturas de dados.\n",
        "\n",
        "### Temos diversas estruturas de dados no python:\n",
        "- Escalar: inteiros e floats;\n",
        "- Booleana: binário. Possítivo ou negativo;\n",
        "- Strings: caracteres. Criado usando `\" \"` ou `' '`;\n",
        "- Listas: Conjunto de ordenado de objetos, sendo mutável;\n",
        "- Conjuntos: conjuntos no sentido matemático, onde não existe repetição de objetos;\n",
        "- Tuplas: Conjunto de ordenado de objetos, sendo imutável;\n",
        "- Dicionários: Conjunto de pares chave-objeto.\n",
        "\n",
        "### Inteiros"
      ]
    },
    {
      "cell_type": "code",
      "execution_count": null,
      "metadata": {
        "id": "8ztGZe2Kg-QR",
        "colab": {
          "base_uri": "https://localhost:8080/"
        },
        "outputId": "098df172-a876-4160-ee5b-baf5c4a78103"
      },
      "outputs": [
        {
          "output_type": "execute_result",
          "data": {
            "text/plain": [
              "int"
            ]
          },
          "metadata": {},
          "execution_count": 14
        }
      ],
      "source": [
        "a = 50\n",
        "type(a)"
      ]
    },
    {
      "cell_type": "markdown",
      "metadata": {
        "id": "iuh6wU6MT0Il"
      },
      "source": [
        "### Float"
      ]
    },
    {
      "cell_type": "code",
      "execution_count": null,
      "metadata": {
        "id": "xjsPCismT2CR",
        "colab": {
          "base_uri": "https://localhost:8080/"
        },
        "outputId": "b938e351-0163-4410-9ba4-4b5086186f6f"
      },
      "outputs": [
        {
          "output_type": "execute_result",
          "data": {
            "text/plain": [
              "float"
            ]
          },
          "metadata": {},
          "execution_count": 15
        }
      ],
      "source": [
        "a = 5.0\n",
        "type(a)"
      ]
    },
    {
      "cell_type": "markdown",
      "metadata": {
        "id": "DqShNIpMT1tq"
      },
      "source": [
        "### String"
      ]
    },
    {
      "cell_type": "code",
      "execution_count": null,
      "metadata": {
        "id": "6UJVzUnxUBa3",
        "colab": {
          "base_uri": "https://localhost:8080/"
        },
        "outputId": "f95c585e-7148-48f9-a9cf-b0bc969b7806"
      },
      "outputs": [
        {
          "output_type": "execute_result",
          "data": {
            "text/plain": [
              "str"
            ]
          },
          "metadata": {},
          "execution_count": 17
        }
      ],
      "source": [
        "a = \"Liga Data Science\"\n",
        "type(a)"
      ]
    },
    {
      "cell_type": "markdown",
      "metadata": {
        "id": "T72ByRfcUGm5"
      },
      "source": [
        "### Bool"
      ]
    },
    {
      "cell_type": "code",
      "execution_count": null,
      "metadata": {
        "id": "lxH8hDPzUGMA",
        "colab": {
          "base_uri": "https://localhost:8080/"
        },
        "outputId": "e0b0cc1f-f588-42ac-bbb8-9b7773797720"
      },
      "outputs": [
        {
          "output_type": "stream",
          "name": "stdout",
          "text": [
            "<class 'bool'>\n",
            "<class 'bool'>\n"
          ]
        }
      ],
      "source": [
        "a = True\n",
        "b = False\n",
        "print(type(a))\n",
        "print(type(b))"
      ]
    },
    {
      "cell_type": "markdown",
      "metadata": {
        "id": "DhObx6moqg5a"
      },
      "source": [
        "### Inteiros e floats\n",
        "Cuidado com as conversões"
      ]
    },
    {
      "cell_type": "code",
      "execution_count": null,
      "metadata": {
        "id": "vK0mQwraqnC3",
        "colab": {
          "base_uri": "https://localhost:8080/"
        },
        "outputId": "ad1e3ab2-0cb4-4a2e-e441-7d95b68bc8df"
      },
      "outputs": [
        {
          "output_type": "stream",
          "name": "stdout",
          "text": [
            "3\n",
            "2.0\n"
          ]
        }
      ],
      "source": [
        "# de 'float' para 'int' você perde informações\n",
        "a = int(3.74)\n",
        "print(a)\n",
        "\n",
        "# de 'int' para 'float' você ganha precisão\n",
        "b = float(2)\n",
        "print(b)"
      ]
    },
    {
      "cell_type": "markdown",
      "metadata": {
        "id": "f-EJKmekhLvr"
      },
      "source": [
        "## Operações Básicas\n",
        "Para operações entre as variáveis temos os seguintes simbolos:\n",
        "- Adição: `+`\n",
        "- Subtração: `-`\n",
        "- Multiplicação: `*`\n",
        "- Divisão: `/`\n",
        "- Exponenciação: `**`\n",
        "- Modulo: `%`"
      ]
    },
    {
      "cell_type": "markdown",
      "metadata": {
        "id": "I35-hJW4haS5"
      },
      "source": [
        "### Soma e Multiplicação"
      ]
    },
    {
      "cell_type": "code",
      "execution_count": null,
      "metadata": {
        "id": "eCf8Vn7aUxKY",
        "colab": {
          "base_uri": "https://localhost:8080/"
        },
        "outputId": "a8032ee1-8ae5-4843-c33b-542d0683ea15"
      },
      "outputs": [
        {
          "output_type": "stream",
          "name": "stdout",
          "text": [
            "<class 'float'>\n",
            "<class 'int'>\n",
            "8.0\n",
            "<class 'float'>\n"
          ]
        }
      ],
      "source": [
        "a = 3.0\n",
        "print(type(a))\n",
        "b = 5\n",
        "print(type(b))\n",
        "\n",
        "print(a+b)\n",
        "print(type(a+b))"
      ]
    },
    {
      "cell_type": "code",
      "execution_count": null,
      "metadata": {
        "id": "sY6wjc-tU4Bu",
        "colab": {
          "base_uri": "https://localhost:8080/"
        },
        "outputId": "aeb73bbf-c67d-4ddd-971f-e084c1bb08f1"
      },
      "outputs": [
        {
          "output_type": "stream",
          "name": "stdout",
          "text": [
            "15.0\n",
            "<class 'float'>\n"
          ]
        }
      ],
      "source": [
        "print(a*b)\n",
        "print(type(a*b))"
      ]
    },
    {
      "cell_type": "markdown",
      "source": [
        "### Divisão inteira \"//\" e divisão clássica \"/\""
      ],
      "metadata": {
        "id": "LxSR0f7Hx5QS"
      }
    },
    {
      "cell_type": "code",
      "execution_count": null,
      "metadata": {
        "id": "Fk7-jTbkhAGN",
        "colab": {
          "base_uri": "https://localhost:8080/"
        },
        "outputId": "470b6eeb-2438-4c5d-d891-f5322ceb63dd"
      },
      "outputs": [
        {
          "output_type": "execute_result",
          "data": {
            "text/plain": [
              "8"
            ]
          },
          "metadata": {},
          "execution_count": 26
        }
      ],
      "source": [
        "a = 50\n",
        "a // 6"
      ]
    },
    {
      "cell_type": "code",
      "execution_count": null,
      "metadata": {
        "colab": {
          "base_uri": "https://localhost:8080/"
        },
        "id": "wNgx3NyMhWIl",
        "outputId": "756c398a-f090-4762-bfe7-3b3888c72aa5"
      },
      "outputs": [
        {
          "output_type": "execute_result",
          "data": {
            "text/plain": [
              "8.333333333333334"
            ]
          },
          "metadata": {},
          "execution_count": 27
        }
      ],
      "source": [
        "a / 6"
      ]
    },
    {
      "cell_type": "markdown",
      "metadata": {
        "id": "nvXYvykgqQi0"
      },
      "source": [
        "### Resto"
      ]
    },
    {
      "cell_type": "code",
      "execution_count": null,
      "metadata": {
        "id": "6A7q_T9HGP2s",
        "colab": {
          "base_uri": "https://localhost:8080/"
        },
        "outputId": "d7fc5aa9-a655-46c7-8878-0fc00f4a72ff"
      },
      "outputs": [
        {
          "output_type": "stream",
          "name": "stdout",
          "text": [
            "1\n"
          ]
        }
      ],
      "source": [
        "a = 50\n",
        "print(a%7)"
      ]
    },
    {
      "cell_type": "markdown",
      "metadata": {
        "id": "K1p1DG1_VQi0"
      },
      "source": [
        "## Expoentes"
      ]
    },
    {
      "cell_type": "code",
      "execution_count": null,
      "metadata": {
        "id": "UjPc9xCGVSwI",
        "colab": {
          "base_uri": "https://localhost:8080/"
        },
        "outputId": "a9ca4eb9-c7c3-409f-a7a7-4e1e3a49fe6b"
      },
      "outputs": [
        {
          "output_type": "stream",
          "name": "stdout",
          "text": [
            "81\n",
            "7\n"
          ]
        }
      ],
      "source": [
        "a = 3\n",
        "b = 4\n",
        "\n",
        "c = a**b\n",
        "print(c)\n",
        "\n",
        "print(a^b)"
      ]
    },
    {
      "cell_type": "markdown",
      "source": [
        "### Tipagem dinâmica"
      ],
      "metadata": {
        "id": "Ti8OoyCyyGcm"
      }
    },
    {
      "cell_type": "code",
      "execution_count": null,
      "metadata": {
        "colab": {
          "base_uri": "https://localhost:8080/"
        },
        "id": "0UDnQsttsuSD",
        "outputId": "9a91fb42-a9e1-41be-c24c-9c6ae0c8fbcc"
      },
      "outputs": [
        {
          "output_type": "stream",
          "name": "stdout",
          "text": [
            "<class 'int'>\n",
            "<class 'float'>\n",
            "<class 'str'>\n",
            "<class 'bool'>\n"
          ]
        }
      ],
      "source": [
        "i = 10\n",
        "print(type(i))\n",
        "f = 10.0\n",
        "print(type(f))\n",
        "s = '10.0'\n",
        "print(type(s))\n",
        "b = True\n",
        "print(type(b))"
      ]
    },
    {
      "cell_type": "markdown",
      "source": [
        "## Autores\n",
        "\n",
        "<a href=\"https://www.linkedin.com/in/eduardopecora/\" target=\"_blank\">Eduardo Pecora</a>\n",
        "\n",
        "<a href=\"https://www.linkedin.com/in/jo%C3%A3o-gabriel-santin-botelho-618244222/\" target=\"_blank\">João Gabriel Santin Botelho</a>\n",
        "\n",
        "\n",
        "## Log de modificações\n",
        "\n",
        "| Data | Versão | Modificado por | Descrição |\n",
        "| ----------------- | ------- | ---------- | ---------------------------------- |\n",
        "| 29-08-2024       | 1.0     | Eduardo Pecora & João Gabriel| Inicial               |\n",
        "\n",
        "<hr>\n",
        "\n",
        "## <h3 align=\"center\"> (c) Liga Data Science/ UFPR 2024. All rights reserved. <h3/>"
      ],
      "metadata": {
        "id": "bwfBdIyGQqSK"
      }
    }
  ],
  "metadata": {
    "kernelspec": {
      "display_name": "Python 3 (ipykernel)",
      "language": "python",
      "name": "python3"
    },
    "language_info": {
      "codemirror_mode": {
        "name": "ipython",
        "version": 3
      },
      "file_extension": ".py",
      "mimetype": "text/x-python",
      "name": "python",
      "nbconvert_exporter": "python",
      "pygments_lexer": "ipython3",
      "version": "3.10.14"
    },
    "colab": {
      "provenance": []
    }
  },
  "nbformat": 4,
  "nbformat_minor": 0
}