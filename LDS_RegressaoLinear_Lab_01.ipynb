{
 "cells": [
  {
   "cell_type": "markdown",
   "metadata": {
    "id": "uk4NcJeUHZan"
   },
   "source": [
    "<p style =\"text-align:center\">\n",
    "    <img src=\"http://epecora.com.br/DataFiles/BannerUFPR.png\" width=\"700\" alt=\"PPGOLD/PPGMNE Python:INTRO\"  />\n",
    "</p>\n",
    "\n",
    "\n",
    "# SAOP09 - Data Science For Business\n",
    "## Prof. Eduardo Pécora\n",
    "\n",
    "## LAB - Regressão Linear\n",
    "Tempo estimado: **60** minutos\n",
    "\n",
    "### Objetivos\n",
    "\n",
    "Após completar esta tarefa, você será capaz de:\n",
    "\n",
    "* Criar um modelo de regressão linear múltipla com variáveis categóricas\n",
    "* Calcular o erro R^2\n",
    "* Calcular o MAE, MSE, MSRE e MAPE"
   ]
  },
  {
   "cell_type": "markdown",
   "metadata": {
    "id": "iWcJF3CFHi0d"
   },
   "source": [
    "## Instalando a biblioteca da base de dados\n",
    "### UCI-Machine Learning Repository"
   ]
  },
  {
   "cell_type": "code",
   "execution_count": 2,
   "metadata": {
    "colab": {
     "base_uri": "https://localhost:8080/"
    },
    "id": "KxlAIKKqHGMt",
    "outputId": "313c4d4b-c93f-4f7d-f732-261197f4938b"
   },
   "outputs": [
    {
     "name": "stdout",
     "output_type": "stream",
     "text": [
      "Collecting ucimlrepo\n",
      "  Downloading ucimlrepo-0.0.7-py3-none-any.whl.metadata (5.5 kB)\n",
      "Requirement already satisfied: pandas>=1.0.0 in /usr/local/lib/python3.10/dist-packages (from ucimlrepo) (2.1.4)\n",
      "Requirement already satisfied: certifi>=2020.12.5 in /usr/local/lib/python3.10/dist-packages (from ucimlrepo) (2024.8.30)\n",
      "Requirement already satisfied: numpy<2,>=1.22.4 in /usr/local/lib/python3.10/dist-packages (from pandas>=1.0.0->ucimlrepo) (1.26.4)\n",
      "Requirement already satisfied: python-dateutil>=2.8.2 in /usr/local/lib/python3.10/dist-packages (from pandas>=1.0.0->ucimlrepo) (2.8.2)\n",
      "Requirement already satisfied: pytz>=2020.1 in /usr/local/lib/python3.10/dist-packages (from pandas>=1.0.0->ucimlrepo) (2024.2)\n",
      "Requirement already satisfied: tzdata>=2022.1 in /usr/local/lib/python3.10/dist-packages (from pandas>=1.0.0->ucimlrepo) (2024.1)\n",
      "Requirement already satisfied: six>=1.5 in /usr/local/lib/python3.10/dist-packages (from python-dateutil>=2.8.2->pandas>=1.0.0->ucimlrepo) (1.16.0)\n",
      "Downloading ucimlrepo-0.0.7-py3-none-any.whl (8.0 kB)\n",
      "Installing collected packages: ucimlrepo\n",
      "Successfully installed ucimlrepo-0.0.7\n"
     ]
    }
   ],
   "source": [
    "!pip install ucimlrepo"
   ]
  },
  {
   "cell_type": "markdown",
   "metadata": {
    "id": "QI5ZKun2HpQ3"
   },
   "source": [
    "## Importanto a base de dados\n",
    "\n",
    "Agradeço aos autores P. Cortez, A. de J. R. Morais por disponibilizarem os dados da sua pesquisa, o link para artigo original está na lista de referências."
   ]
  },
  {
   "cell_type": "code",
   "execution_count": 3,
   "metadata": {
    "colab": {
     "base_uri": "https://localhost:8080/"
    },
    "id": "gmYRoIAHHBLL",
    "outputId": "acfda1ac-f8ab-4824-e9c3-3cd0c03d21b9"
   },
   "outputs": [
    {
     "name": "stdout",
     "output_type": "stream",
     "text": [
      "{'uci_id': 162, 'name': 'Forest Fires', 'repository_url': 'https://archive.ics.uci.edu/dataset/162/forest+fires', 'data_url': 'https://archive.ics.uci.edu/static/public/162/data.csv', 'abstract': 'This is a difficult regression task, where the aim is to predict the burned area of forest fires, in the northeast region of Portugal, by using meteorological and other data (see details at: http://www.dsi.uminho.pt/~pcortez/forestfires).', 'area': 'Climate and Environment', 'tasks': ['Regression'], 'characteristics': ['Multivariate'], 'num_instances': 517, 'num_features': 12, 'feature_types': ['Real'], 'demographics': [], 'target_col': ['area'], 'index_col': None, 'has_missing_values': 'no', 'missing_values_symbol': None, 'year_of_dataset_creation': 2007, 'last_updated': 'Thu Jan 11 2024', 'dataset_doi': '10.24432/C5D88D', 'creators': ['Paulo Cortez', 'Anbal Morais'], 'intro_paper': {'ID': 368, 'type': 'NATIVE', 'title': 'A data mining approach to predict forest fires using meteorological data', 'authors': 'P. Cortez, Aníbal de Jesus Raimundo Morais', 'venue': 'New Trends in Artificial Intelligence, Proceedings of the 13th EPIA 2007 - Portuguese Conference on Artificial Intelligence', 'year': 2007, 'journal': None, 'DOI': None, 'URL': 'https://www.semanticscholar.org/paper/A-data-mining-approach-to-predict-forest-fires-data-Cortez-Morais/0f529dc2b2b2bad22394454d4cba79e2c319f0b0', 'sha': None, 'corpus': None, 'arxiv': None, 'mag': None, 'acl': None, 'pmid': None, 'pmcid': None}, 'additional_info': {'summary': \"In [Cortez and Morais, 2007], the output 'area' was first transformed with a ln(x+1) function.\\r\\n   Then, several Data Mining methods were applied. After fitting the models, the outputs were\\r\\n   post-processed with the inverse of the ln(x+1) transform. Four different input setups were\\r\\n   used. The experiments were conducted using a 10-fold (cross-validation) x 30 runs. Two\\r\\n   regression metrics were measured: MAD and RMSE. A Gaussian support vector machine (SVM) fed\\r\\n   with only 4 direct weather conditions (temp, RH, wind and rain) obtained the best MAD value:\\r\\n   12.71 +- 0.01 (mean and confidence interval within 95% using a t-student distribution). The\\r\\n   best RMSE was attained by the naive mean predictor. An analysis to the regression error curve\\r\\n   (REC) shows that the SVM model predicts more examples within a lower admitted error. In effect,\\r\\n   the SVM model predicts better small fires, which are the majority. \", 'purpose': None, 'funded_by': None, 'instances_represent': None, 'recommended_data_splits': None, 'sensitive_data': None, 'preprocessing_description': None, 'variable_info': \"For more information, read [Cortez and Morais, 2007].\\r\\n   1. X - x-axis spatial coordinate within the Montesinho park map: 1 to 9\\r\\n   2. Y - y-axis spatial coordinate within the Montesinho park map: 2 to 9\\r\\n   3. month - month of the year: 'jan' to 'dec' \\r\\n   4. day - day of the week: 'mon' to 'sun'\\r\\n   5. FFMC - FFMC index from the FWI system: 18.7 to 96.20\\r\\n   6. DMC - DMC index from the FWI system: 1.1 to 291.3 \\r\\n   7. DC - DC index from the FWI system: 7.9 to 860.6 \\r\\n   8. ISI - ISI index from the FWI system: 0.0 to 56.10\\r\\n   9. temp - temperature in Celsius degrees: 2.2 to 33.30\\r\\n   10. RH - relative humidity in %: 15.0 to 100\\r\\n   11. wind - wind speed in km/h: 0.40 to 9.40 \\r\\n   12. rain - outside rain in mm/m2 : 0.0 to 6.4 \\r\\n   13. area - the burned area of the forest (in ha): 0.00 to 1090.84 \\r\\n   (this output variable is very skewed towards 0.0, thus it may make\\r\\n    sense to model with the logarithm transform).\", 'citation': None}}\n",
      "     name     role         type demographic  \\\n",
      "0       X  Feature      Integer        None   \n",
      "1       Y  Feature      Integer        None   \n",
      "2   month  Feature  Categorical        None   \n",
      "3     day  Feature  Categorical        None   \n",
      "4    FFMC  Feature   Continuous        None   \n",
      "5     DMC  Feature      Integer        None   \n",
      "6      DC  Feature   Continuous        None   \n",
      "7     ISI  Feature   Continuous        None   \n",
      "8    temp  Feature   Continuous        None   \n",
      "9      RH  Feature      Integer        None   \n",
      "10   wind  Feature   Continuous        None   \n",
      "11   rain  Feature      Integer        None   \n",
      "12   area   Target      Integer        None   \n",
      "\n",
      "                                          description            units  \\\n",
      "0   x-axis spatial coordinate within the Montesinh...             None   \n",
      "1   y-axis spatial coordinate within the Montesinh...             None   \n",
      "2                  month of the year: 'jan' to 'dec'              None   \n",
      "3                     day of the week: 'mon' to 'sun'             None   \n",
      "4       FFMC index from the FWI system: 18.7 to 96.20             None   \n",
      "5        DMC index from the FWI system: 1.1 to 291.3              None   \n",
      "6          DC index from the FWI system: 7.9 to 860.6             None   \n",
      "7         ISI index from the FWI system: 0.0 to 56.10             None   \n",
      "8                           temperature: 2.2 to 33.30  Celsius degrees   \n",
      "9                      relative humidity: 15.0 to 100                %   \n",
      "10                           wind speed: 0.40 to 9.40             km/h   \n",
      "11                          outside rain: 0.0 to 6.4             mm/m2   \n",
      "12  the burned area of the forest: 0.00 to 1090.84...               ha   \n",
      "\n",
      "   missing_values  \n",
      "0              no  \n",
      "1              no  \n",
      "2              no  \n",
      "3              no  \n",
      "4              no  \n",
      "5              no  \n",
      "6              no  \n",
      "7              no  \n",
      "8              no  \n",
      "9              no  \n",
      "10             no  \n",
      "11             no  \n",
      "12             no  \n"
     ]
    }
   ],
   "source": [
    "from ucimlrepo import fetch_ucirepo\n",
    "\n",
    "# fetch dataset\n",
    "forest_fires = fetch_ucirepo(id=162)\n",
    "\n",
    "# data (as pandas dataframes)\n",
    "X = forest_fires.data.features\n",
    "y = forest_fires.data.targets\n",
    "\n",
    "# metadata\n",
    "print(forest_fires.metadata)\n",
    "\n",
    "# variable information\n",
    "print(forest_fires.variables)"
   ]
  },
  {
   "cell_type": "markdown",
   "metadata": {
    "id": "640JonERJDmH"
   },
   "source": [
    "## Sua Missão\n",
    "\n",
    "Replique o que você aprendeu a aula de regressão linear e estime os erros da área afetada pelas queimadas.\n",
    "\n",
    "## Entrega\n",
    "\n",
    "* Jupyter Notebook com o código e as suas análises."
   ]
  },
  {
   "cell_type": "code",
   "execution_count": 5,
   "metadata": {
    "id": "aP14QxZ0Jb3v"
   },
   "outputs": [],
   "source": [
    "# Comece aqui"
   ]
  },
  {
   "cell_type": "markdown",
   "metadata": {
    "id": "AZ0Lkf0cIKzk"
   },
   "source": [
    "-------------\n",
    "-------------\n",
    "## Fique Conectado\n",
    "\n",
    "- [![YouTube](https://img.icons8.com/ios-filled/40/000000/youtube-play.png)](https://www.youtube.com/@LigaDataScience/videos)  \n",
    "  Explore nossos vídeos educacionais e webinars sobre ciência de dados, machine learning e inteligência artificial. Inscreva-se para não perder nenhuma atualização!\n",
    "\n",
    "- [![LinkedIn](https://img.icons8.com/ios-filled/40/000000/linkedin.png)](https://www.linkedin.com/company/liga-data-science-ufpr/)  \n",
    "  Siga-nos no LinkedIn para as últimas novidades, oportunidades de carreira e networking profissional no campo da ciência de dados.\n",
    "\n",
    "- [![Instagram](https://img.icons8.com/ios-filled/40/000000/instagram-new.png)](https://www.instagram.com/ligadatascience/)  \n",
    "  Confira nosso Instagram para conteúdos dos bastidores, destaques de eventos e o dia a dia da Liga Data Science. Faça parte da nossa jornada!\n",
    "\n",
    "\n",
    "## Autores\n",
    "\n",
    "<a href=\"https://www.linkedin.com/in/eduardopecora/\" target=\"_blank\">Eduardo Pecora</a>\n",
    "\n",
    "## Referências:\n",
    "\n",
    "* P. Cortez, Aníbal de Jesus Raimundo Morais. 2007, [A data mining approach to predict forest fires using meteorological data](https://www.semanticscholar.org/paper/A-data-mining-approach-to-predict-forest-fires-data-Cortez-Morais/0f529dc2b2b2bad22394454d4cba79e2c319f0b0) New Trends in Artificial Intelligence, Proceedings of the 13th EPIA 2007 - Portuguese Conference on Artificial Intelligence\n",
    "\n",
    "## Log de modificações\n",
    "\n",
    "| Data | Versão | Modificado por | Descrição |\n",
    "| -----------| ------- | ---------- | ---------------------------------- |\n",
    "| 26-09-2024       | 1.0     | Eduardo Pecora    | Inicial               |"
   ]
  }
 ],
 "metadata": {
  "colab": {
   "provenance": []
  },
  "kernelspec": {
   "display_name": "Python 3 (ipykernel)",
   "language": "python",
   "name": "python3"
  },
  "language_info": {
   "codemirror_mode": {
    "name": "ipython",
    "version": 3
   },
   "file_extension": ".py",
   "mimetype": "text/x-python",
   "name": "python",
   "nbconvert_exporter": "python",
   "pygments_lexer": "ipython3",
   "version": "3.10.14"
  }
 },
 "nbformat": 4,
 "nbformat_minor": 4
}
