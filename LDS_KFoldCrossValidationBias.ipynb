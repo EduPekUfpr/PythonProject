{
 "cells": [
  {
   "attachments": {},
   "cell_type": "markdown",
   "metadata": {},
   "source": [
    "<p style =\"text-align:center\">\n",
    "    <img src=\"http://epecora.com.br/DataFiles/BannerUFPR.png\" width=\"700\" alt=\"PPGOLD/PPGMNE Python:INTRO\"  />\n",
    "</p>\n",
    "\n",
    "# Data Science for Businnes - Aula 04\n",
    "\n",
    "## Prof. Eduardo Pécora\n",
    "\n",
    "# Bias and Variability (Viés e Variabilidade)\n",
    "Tempo estimado: **30** minutos\n",
    "\n",
    "## Objetivos\n",
    "\n",
    "Após completar esta aula, você será capaz de:\n",
    "\n",
    "* Entender os conceitos de um modelo com alto viés\n",
    "* Entender o “bias-variance tradeoff”"
   ]
  },
  {
   "cell_type": "markdown",
   "metadata": {},
   "source": [
    "## Bibliotecas"
   ]
  },
  {
   "cell_type": "code",
   "execution_count": 14,
   "metadata": {},
   "outputs": [],
   "source": [
    "# importando a biblioteca pandas para manipulação de dados\n",
    "import pandas as pd\n",
    "\n",
    "# importando as bibliotecas do matplotlib para gerar gráficos\n",
    "import matplotlib as mpl\n",
    "import matplotlib.pyplot as plt\n",
    "\n",
    "# Importando a biblioteca numpy e math que fornece funções matemáticas básicas\n",
    "import numpy as np\n",
    "import math \n",
    "\n",
    "# Importando biblioteca do seaborn para gerar gráficos mais atraentes e informativos\n",
    "import seaborn as sns\n",
    "\n",
    "# Importando a classe LinearRegression do sklearn \n",
    "# Essa classe implementa uma versão da regressão linear simples ou múltipla\n",
    "# Usado para modelar a relação entre uma variável dependente contínua e uma ou mais variáveis independentes.\n",
    "from sklearn.linear_model import LinearRegression\n",
    "from sklearn.metrics import mean_absolute_error, mean_squared_error, r2_score\n",
    "from sklearn.model_selection import KFold\n",
    "\n",
    "# Usado para exibir os gráficos gerados pela biblioteca Matplotlib diretamente no notebook, sem precisar abrir uma janela externa.\n",
    "%matplotlib inline\n"
   ]
  },
  {
   "cell_type": "markdown",
   "metadata": {},
   "source": [
    "## Obtendo dados"
   ]
  },
  {
   "cell_type": "code",
   "execution_count": 15,
   "metadata": {},
   "outputs": [],
   "source": [
    "# Caminho do arquivo csv\n",
    "caminho = \"https://raw.githubusercontent.com/EduPekUfpr/PythonProject/refs/heads/main/Dados/MeuAutoLimpo.csv\" \n",
    "\n",
    "#Obtendo arquivo e passando-o para um dataframe\n",
    "df = pd.read_csv(caminho) "
   ]
  },
  {
   "cell_type": "markdown",
   "metadata": {},
   "source": [
    "## Tranformação das variáveis"
   ]
  },
  {
   "cell_type": "code",
   "execution_count": 16,
   "metadata": {},
   "outputs": [
    {
     "name": "stdout",
     "output_type": "stream",
     "text": [
      "<class 'pandas.core.frame.DataFrame'>\n",
      "RangeIndex: 201 entries, 0 to 200\n",
      "Columns: 166 entries, symboling to Random_150\n",
      "dtypes: float64(10), int64(156)\n",
      "memory usage: 260.8 KB\n"
     ]
    }
   ],
   "source": [
    "df_dummy = df.copy()\n",
    "df_dummy.drop(['fuel-type', 'aspiration', 'body-style', 'drive-wheels','make','num-of-doors',\n",
    "               'engine-location', 'engine-type', 'num-of-cylinders', 'fuel-system'], axis =1, inplace = True)\n",
    "\n",
    "# Adicionando 150 colunas aleatórias no DF original (gerar um overfit)\n",
    "cols = 150\n",
    "# gera 150 colunas de uma só vez\n",
    "random_data = np.random.randint(1, 100, size=(len(df_dummy), cols))\n",
    "\n",
    "# lista de nomes para as colunas\n",
    "col_names = ['Random_' + str(i+1) for i in range(cols)]\n",
    "\n",
    "# cria um DF\n",
    "random_df = pd.DataFrame(random_data, columns=col_names)\n",
    "\n",
    "# concatenation com o Dummy\n",
    "df_dummy = pd.concat([df_dummy, random_df], axis=1)\n",
    "\n",
    "df_dummy.info()"
   ]
  },
  {
   "cell_type": "markdown",
   "metadata": {},
   "source": [
    "## KFOLD CrossValidation"
   ]
  },
  {
   "cell_type": "code",
   "execution_count": 19,
   "metadata": {},
   "outputs": [],
   "source": [
    "# Original Data\n",
    "X = df_dummy.drop(['price'], axis = 1)\n",
    "Y = df_dummy['price']\n",
    "\n",
    "# Separate features and target variable\n",
    "X = df_dummy.drop(columns=['price'])\n",
    "y = df_dummy['price']\n",
    "\n",
    "# Initialize the KFold object with 10 folds\n",
    "kf = KFold(n_splits=10, shuffle=True, random_state=42)\n"
   ]
  },
  {
   "cell_type": "markdown",
   "metadata": {},
   "source": [
    "## Avalia o modelo nas variáveis de treino e teste"
   ]
  },
  {
   "cell_type": "code",
   "execution_count": 49,
   "metadata": {},
   "outputs": [
    {
     "name": "stdout",
     "output_type": "stream",
     "text": [
      "Resultados dos dados de Treino\n",
      "Average MSE : 840620.546\n",
      "Average MAE : 719.547\n",
      "Average MAPE: 0.054\n",
      "Average R2  : 0.987\n",
      "\n",
      "\n",
      "Resultados dos dados de Teste\n",
      "Average MSE : 117809427.216\n",
      "Average MAE : 8861.396\n",
      "Average MAPE: 0.686\n",
      "Average R2  : -2.561\n"
     ]
    }
   ],
   "source": [
    "# Inicializa as listas para guardar os indicadores\n",
    "mse_scores = []\n",
    "mae_scores = []\n",
    "mape_scores = []\n",
    "r2_scores = []\n",
    "\n",
    "# Itera em cada FOLD\n",
    "for train_index, test_index in kf.split(X):\n",
    "    # Split data into train and test sets for this fold\n",
    "    X_train, X_test = X.iloc[train_index], X.iloc[test_index]\n",
    "    y_train, y_test = Y.iloc[train_index], Y.iloc[test_index]\n",
    "    \n",
    "    # Treina o Modelo\n",
    "    lm = LinearRegression()\n",
    "    lm.fit(X_train, y_train)\n",
    "    \n",
    "    # Predição\n",
    "    y_pred_train = lm.predict(X_train)\n",
    "    \n",
    "     # Calcula o Mean Squared Error\n",
    "    mse = mean_squared_error(y_train, y_pred_train)\n",
    "    mae = mean_absolute_error(y_train, y_pred_train)\n",
    "    mape= mae/y_train.mean()\n",
    "    \n",
    "    mse_scores.append(mse)\n",
    "    mae_scores.append(mae)\n",
    "    mape_scores.append(mape)\n",
    "    r2_scores.append(r2_score(y_train,y_pred_train))\n",
    "\n",
    "# Calcula as médias e imprime\n",
    "print(\"Resultados dos dados de Treino\")\n",
    "print(f\"Average MSE : {np.mean(mse_scores):.3f}\")\n",
    "print(f\"Average MAE : {np.mean(mae_scores):.3f}\")\n",
    "print(f\"Average MAPE: {np.mean(mape_scores):.3f}\")\n",
    "print(f\"Average R2  : {np.mean(r2_scores):.3f}\")\n",
    "r2_train = np.array(r2_scores)\n",
    "\n",
    "# ReInicializa as listas para guardar os indicadores\n",
    "mse_scores = []\n",
    "mae_scores = []\n",
    "mape_scores = []\n",
    "r2_scores = []\n",
    "\n",
    "# Itera em cada FOLD\n",
    "for train_index, test_index in kf.split(X):\n",
    "    # Split data into train and test sets for this fold\n",
    "    X_train, X_test = X.iloc[train_index], X.iloc[test_index]\n",
    "    y_train, y_test = Y.iloc[train_index], Y.iloc[test_index]\n",
    "    \n",
    "    # Treina o Modelo\n",
    "    lm = LinearRegression()\n",
    "    lm.fit(X_train, y_train)\n",
    "    \n",
    "    # Predição\n",
    "    y_pred_test = lm.predict(X_test)\n",
    "    \n",
    "    # Calcula o Mean Squared Error\n",
    "    mse = mean_squared_error(y_test, y_pred_test)\n",
    "    mae = mean_absolute_error(y_test, y_pred_test)\n",
    "    mape= mae/y_test.mean()\n",
    "    \n",
    "    mse_scores.append(mse)\n",
    "    mae_scores.append(mae)\n",
    "    mape_scores.append(mape)\n",
    "    r2_scores.append(r2_score(y_test,y_pred_test))\n",
    "\n",
    "# Calcula as médias e imprime\n",
    "print(\"\\n\\nResultados dos dados de Teste\")\n",
    "print(f\"Average MSE : {np.mean(mse_scores):.3f}\")\n",
    "print(f\"Average MAE : {np.mean(mae_scores):.3f}\")\n",
    "print(f\"Average MAPE: {np.mean(mape_scores):.3f}\")\n",
    "print(f\"Average R2  : {np.mean(r2_scores):.3f}\")\n",
    "r2_test = np.array(r2_scores)"
   ]
  },
  {
   "cell_type": "code",
   "execution_count": 50,
   "metadata": {},
   "outputs": [
    {
     "name": "stdout",
     "output_type": "stream",
     "text": [
      "[0.98689477 0.98525232 0.98947854 0.98846673 0.98542896 0.98012802\n",
      " 0.98272218 0.99076639 0.98559448 0.99099956]\n",
      "[ 1.53126970e-03  1.35667165e-01 -3.73302520e+00 -4.58745328e+00\n",
      " -2.99517237e+00 -1.16712858e-01 -4.00731238e+00 -3.89572514e+00\n",
      " -6.54023640e+00  1.24119559e-01]\n"
     ]
    }
   ],
   "source": [
    "print(r2_train)\n",
    "print(r2_test)"
   ]
  },
  {
   "cell_type": "code",
   "execution_count": 51,
   "metadata": {},
   "outputs": [
    {
     "data": {
      "image/png": "[encoded data removed]",
      "text/plain": [
       "<Figure size 800x600 with 1 Axes>"
      ]
     },
     "metadata": {},
     "output_type": "display_data"
    }
   ],
   "source": [
    "# Gera x para cada fold\n",
    "x = np.arange(1, len(r2_train) + 1)\n",
    "\n",
    "# Plot R² \n",
    "plt.figure(figsize=(8, 6))\n",
    "plt.plot(x, r2_train, label='R² Train', marker='o', color='blue')\n",
    "plt.plot(x, r2_test, label='R² Test', marker='o', color='red')\n",
    "\n",
    "# Nomes e eixos\n",
    "plt.xlabel('Fold Number')\n",
    "plt.ylabel('R² Score')\n",
    "plt.title('R² Scores for Train and Test Sets')\n",
    "\n",
    "# Legenda\n",
    "plt.legend()\n",
    "\n",
    "# ShowTime\n",
    "plt.grid(True)\n",
    "plt.show()"
   ]
  },
  {
   "attachments": {},
   "cell_type": "markdown",
   "metadata": {},
   "source": [
    "## Fique Conectado\n",
    "\n",
    "- [![YouTube](https://img.icons8.com/ios-filled/40/000000/youtube-play.png)](https://www.youtube.com/@LigaDataScience/videos)  \n",
    "  Explore nossos vídeos educacionais e webinars sobre ciência de dados, machine learning e inteligência artificial. Inscreva-se para não perder nenhuma atualização!\n",
    "\n",
    "- [![LinkedIn](https://img.icons8.com/ios-filled/40/000000/linkedin.png)](https://www.linkedin.com/company/liga-data-science-ufpr/)  \n",
    "  Siga-nos no LinkedIn para as últimas novidades, oportunidades de carreira e networking profissional no campo da ciência de dados.\n",
    "\n",
    "- [![Instagram](https://img.icons8.com/ios-filled/40/000000/instagram-new.png)](https://www.instagram.com/ligadatascience/)  \n",
    "  Confira nosso Instagram para conteúdos dos bastidores, destaques de eventos e o dia a dia da Liga Data Science. Faça parte da nossa jornada!\n",
    "\n",
    "\n",
    "## Autores\n",
    "\n",
    "<a href=\"https://www.linkedin.com/in/eduardopecora/\" target=\"_blank\">Eduardo Pecora</a>\n",
    "\n",
    "## Referências:\n",
    "\n",
    "* Documentação da biblioteca <a href=\"https://pandas.pydata.org/docs/\">Pandas</a>\n",
    "* Documentação do método <a href=https://scikit-learn.org/stable/modules/generated/sklearn.model_selection.cross_val_score.html>cross_val_score</a>\n",
    "* Documentação do método <a href=https://scikit-learn.org/dev/modules/generated/sklearn.model_selection.KFold.html>KFold</a>\n",
    "\n",
    "\n",
    "\n",
    "## Log de modificações\n",
    "\n",
    "| Data | Versão | Modificado por | Descrição |\n",
    "| -----------| ------- | ---------- | ---------------------------------- |\n",
    "| 24-04-2024       | 1.0     | Eduardo Pecora    | Inicial               |\n",
    "| 03-10-2024       | 1.1     | Eduardo Pecora    | Estrutura de Aula               |"
   ]
  }
 ],
 "metadata": {
  "kernelspec": {
   "display_name": "Python 3 (ipykernel)",
   "language": "python",
   "name": "python3"
  },
  "language_info": {
   "codemirror_mode": {
    "name": "ipython",
    "version": 3
   },
   "file_extension": ".py",
   "mimetype": "text/x-python",
   "name": "python",
   "nbconvert_exporter": "python",
   "pygments_lexer": "ipython3",
   "version": "3.10.14"
  },
  "vscode": {
   "interpreter": {
    "hash": "cf92aa13fedf815d5c8dd192b8d835913fde3e8bc926b2a0ad6cc74ef2ba3ca2"
   }
  }
 },
 "nbformat": 4,
 "nbformat_minor": 4
}
