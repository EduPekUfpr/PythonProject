{
  "cells": [
    {
      "cell_type": "markdown",
      "metadata": {
        "id": "view-in-github",
        "colab_type": "text"
      },
      "source": [
        "<a href=\"https://colab.research.google.com/github/EduPekUfpr/Python/blob/main/LDS_Python_09_Modulos_Pacotes.ipynb\" target=\"_parent\"><img src=\"https://colab.research.google.com/assets/colab-badge.svg\" alt=\"Open In Colab\"/></a>"
      ]
    },
    {
      "cell_type": "markdown",
      "metadata": {
        "id": "kxQ0h6rEsuR9"
      },
      "source": [
        "<p style =\"text-align:center\">\n",
        "    <img src=\"http://epecora.com.br/DataFiles/BannerUFPR.png\" width=\"700\" alt=\"PPGOLD/PPGMNE Python:INTRO\"  />\n",
        "</p>\n",
        "\n",
        "\n",
        "# **Python Básico**\n",
        "\n",
        "<a id=\"modules\"></a>\n",
        "# **Módulos e Pacotes**\n",
        "\n",
        "Os módulos e pacodes podem ser considerados os principais responsáveis pela grande popularidade que Python possui atualmente. Os pacotes e os módulos dentros dos pacotes permitem criação, compartilhamento e utilização de funções e métodos não originárias do Python.\n",
        "## Módulos\n",
        "\n",
        "Um módulo em Python é um arquivo que contém definições e implementações de funções, classes, variáveis, e pode também incluir código executável. Não entraremos aqui na criação de módulos próprios, mas na utilização de módulos padrão do Python.\n",
        "\n",
        "Módulos são estruturados em um único arquivo ```.py```\n",
        "\n",
        "Os príncipais módulos do Python são:\n",
        "- math: fornece funções matemáticas como seno, cosseno, logaritmos e operações aritméticas;\n",
        "- datetime: lida com datas e horas, permitindo manipulações como adicionar ou subtrair tempo, formatar datas, etc;\n",
        "- os: interage com o sistema operacional, permitindo manipulações de arquivos, diretórios, e variáveis de ambiente;\n",
        "- sys: fornece acesso a algumas variáveis e funções do interpretador Python, como argumentos de linha de comando e manipulação de módulos;\n",
        "- random: gera números aleatórios e executa outras operações aleatórias, como escolher itens aleatórios de uma lista;\n",
        "- time: trabalha com manipulações relacionadas ao tempo, como pausas na execução e obtenção de timestamps.\n",
        "\n",
        "Para usar um módulo é necessária a seguinte sintaxe:\n",
        "\n",
        "- `import` nome_do_modulo;\n",
        "- `import` nome_do_modulo `as` novo_nome;"
      ]
    },
    {
      "cell_type": "code",
      "execution_count": null,
      "metadata": {
        "colab": {
          "base_uri": "https://localhost:8080/"
        },
        "id": "XCT2FZ1qsuSO",
        "outputId": "9282795a-488c-4fb3-a475-c8e5a07b7c03"
      },
      "outputs": [
        {
          "output_type": "stream",
          "name": "stdout",
          "text": [
            "3.141592653589793\n",
            "2.718281828459045\n",
            "1.0\n",
            "2.718281828459045\n",
            "1.7320508075688772\n"
          ]
        }
      ],
      "source": [
        "import math\n",
        "\n",
        "#algumas funções do módulo math\n",
        "print(math.pi)\n",
        "print(math.e)\n",
        "print(math.log(math.e))\n",
        "print(math.exp(1))\n",
        "print(math.sqrt(3))"
      ]
    },
    {
      "cell_type": "code",
      "execution_count": null,
      "metadata": {
        "colab": {
          "base_uri": "https://localhost:8080/"
        },
        "id": "yoIO7Ec7suSO",
        "outputId": "278f4c6f-9151-42f1-be2b-c9006f73f222"
      },
      "outputs": [
        {
          "output_type": "stream",
          "name": "stdout",
          "text": [
            "2024-08-29 12:57:08.593023\n"
          ]
        }
      ],
      "source": [
        "import datetime\n",
        "\n",
        "agora = datetime.datetime.now()\n",
        "print(agora)"
      ]
    },
    {
      "cell_type": "code",
      "execution_count": null,
      "metadata": {
        "id": "CAa3hwrtsuSO"
      },
      "outputs": [],
      "source": [
        "import os\n",
        "\n",
        "diretorio = os.getcwd()\n",
        "#print(os.getcwd())"
      ]
    },
    {
      "cell_type": "code",
      "execution_count": null,
      "metadata": {
        "colab": {
          "base_uri": "https://localhost:8080/"
        },
        "id": "83pd6jBSsuSO",
        "outputId": "3a9f0dd5-f516-4528-aa5e-c0c7bed1ba0b"
      },
      "outputs": [
        {
          "output_type": "stream",
          "name": "stdout",
          "text": [
            "3.10.12 (main, Jul 29 2024, 16:56:48) [GCC 11.4.0]\n"
          ]
        }
      ],
      "source": [
        "import sys\n",
        "\n",
        "print(sys.version)  #Versão do Python em uso\n",
        "#print(sys.argv) #Lista de argumentos passados na linha de comando"
      ]
    },
    {
      "cell_type": "code",
      "execution_count": null,
      "metadata": {
        "colab": {
          "base_uri": "https://localhost:8080/"
        },
        "id": "As-cf3z6suSO",
        "outputId": "97a94932-ada9-42d8-aca6-47f9cc3ebdef"
      },
      "outputs": [
        {
          "output_type": "stream",
          "name": "stdout",
          "text": [
            "7\n",
            "7\n",
            "1\n",
            "5\n",
            "9\n"
          ]
        }
      ],
      "source": [
        "import random\n",
        "\n",
        "random.seed(0) #Permite repetibilidade\n",
        "\n",
        "for i in range(5):\n",
        "    print(random.randint(1, 10))  #Um número inteiro aleatório entre 1 e 10"
      ]
    },
    {
      "cell_type": "code",
      "execution_count": null,
      "metadata": {
        "colab": {
          "base_uri": "https://localhost:8080/"
        },
        "id": "BtZQq-K9suSO",
        "outputId": "6c040469-1d90-4128-9f00-9f362516359c"
      },
      "outputs": [
        {
          "output_type": "stream",
          "name": "stdout",
          "text": [
            "1724936244.0828216\n",
            "2.0016517639160156\n"
          ]
        }
      ],
      "source": [
        "import time\n",
        "\n",
        "t = time.time()\n",
        "print(t)  #Timestamp atual\n",
        "time.sleep(2)  # Pausa a execução por 2 segundos\n",
        "print(time.time() - t) #Timestamp atual menos o inicial"
      ]
    },
    {
      "cell_type": "code",
      "execution_count": null,
      "metadata": {
        "colab": {
          "base_uri": "https://localhost:8080/"
        },
        "id": "a9x3-ZHZsuSP",
        "outputId": "58edb902-a92c-4fc2-e06d-91e34dbc3506"
      },
      "outputs": [
        {
          "output_type": "stream",
          "name": "stdout",
          "text": [
            "Tempo de execução da função recursiva: 3.73706316947937s\n",
            "Tempo de execução da função não recursiva: 9.369850158691406e-05s\n"
          ]
        }
      ],
      "source": [
        "#Exemplo do uso do módulo time para comparar funções\n",
        "\n",
        "t = time.time()\n",
        "fibonacci_recursao(35)\n",
        "print(f\"Tempo de execução da função recursiva: {time.time() - t}s\")\n",
        "\n",
        "t = time.time()\n",
        "fibonacci_sem_recursao(35)\n",
        "print(f\"Tempo de execução da função não recursiva: {time.time() - t}s\")"
      ]
    },
    {
      "cell_type": "markdown",
      "metadata": {
        "id": "SIKy6VbWsuSP"
      },
      "source": [
        "## Pacotes\n",
        "\n",
        "Pacotes em Python são coleções de módulos que oferecem funcionalidades específicas e estendidas, que vão além do que está disponível na biblioteca padrão do Python. Eles podem ser instalados usando o gerenciador de pacotes `pip` e são amplamente utilizados para adicionar capacidades específicas aos projetos, como análise de dados, aprendizado de máquina, desenvolvimento web, entre outros.\n",
        "\n",
        "Os principais pacotes do Python que veremos são:\n",
        "- NumPy: permite a manipulação e cálculos de arrays e matrizes multidimensionais, possuindo também funções matemáticas avançadas, o tornando fundamental para o trabalho científico em Python;\n",
        "- Pandas: permite a manipulação e análise de dados, fornecendo estruturas de dados como DataFrames, que facilitam o trabalho com dados tabulares, como tabelas do Excel ou bancos de dados;\n",
        "- Matplotlib/Seaborn: permitem a criação de gráficos e a visualizações de dados, essenciais na criação de gráficos de linhas, barras, dispersão, histogramas, entre outros;\n",
        "- Scikit-learn: facilita a aplicação do aprendizado de máquina, fornecendo ferramentas para classificação, regressão, clustering, e outras tarefas de aprendizado de máquina.\n",
        "\n",
        "Quando o Python é instalado sem nenhuma distribuição como a Anaconda, esses pacotes não vem instalados. Logo, antes que eles possam ser importados e utilizado é necessária a instalação dos mesmos. A instalação pode ser feita da seguinte forma:\n",
        "\n",
        "- `pip install` nome_do_pacote. Para instalar pacotes utilizando o command shell;\n",
        "- `!pip install` nome_do_pacote. Para instalar pacotes dentro de um notebook."
      ]
    },
    {
      "cell_type": "code",
      "execution_count": null,
      "metadata": {
        "id": "fYRfOiWwsuSQ"
      },
      "outputs": [],
      "source": [
        "#!pip install numpy"
      ]
    },
    {
      "cell_type": "code",
      "execution_count": null,
      "metadata": {
        "colab": {
          "base_uri": "https://localhost:8080/"
        },
        "id": "Q7xuhDNbsuSR",
        "outputId": "bfe2e3be-d1cd-43ba-ef73-89366c36512d"
      },
      "outputs": [
        {
          "output_type": "stream",
          "name": "stdout",
          "text": [
            "[2 4 6]\n",
            "[5 7 9]\n",
            "[ 4 10 18]\n",
            "[[1 2 3]\n",
            " [4 5 6]]\n",
            "(2, 3)\n",
            "[[1 4]\n",
            " [2 5]\n",
            " [3 6]]\n",
            "(3, 2)\n"
          ]
        }
      ],
      "source": [
        "import numpy as np\n",
        "\n",
        "a = np.array([1, 2, 3])\n",
        "b = np.array([4, 5, 6])\n",
        "\n",
        "print(a * 2) #multiplicação elemento a elemento com um escalar\n",
        "print(a + b) #soma elemento a elemento com um outro array\n",
        "print(a * b) #multiplicação elemento a elemento com um outro array\n",
        "\n",
        "c = np.array([a,b]) #array multidimensional\n",
        "\n",
        "print(c)\n",
        "print(np.shape(c)) #dimensões do array\n",
        "print(c.T) #transposição do array\n",
        "print(np.shape(c.T))"
      ]
    },
    {
      "cell_type": "code",
      "execution_count": null,
      "metadata": {
        "colab": {
          "base_uri": "https://localhost:8080/",
          "height": 143
        },
        "id": "_9oTGT_dsuSR",
        "outputId": "1c015c79-71a8-451d-b071-e2fc0811bcd1"
      },
      "outputs": [
        {
          "output_type": "display_data",
          "data": {
            "text/plain": [
              "     Nome  Idade\n",
              "0     Ana     23\n",
              "1   Bruno     35\n",
              "2  Carlos     45"
            ],
            "text/html": [
              "\n",
              "  <div id=\"df-b128351e-4a7c-490f-a305-f72cbd5c1265\" class=\"colab-df-container\">\n",
              "    <div>\n",
              "<style scoped>\n",
              "    .dataframe tbody tr th:only-of-type {\n",
              "        vertical-align: middle;\n",
              "    }\n",
              "\n",
              "    .dataframe tbody tr th {\n",
              "        vertical-align: top;\n",
              "    }\n",
              "\n",
              "    .dataframe thead th {\n",
              "        text-align: right;\n",
              "    }\n",
              "</style>\n",
              "<table border=\"1\" class=\"dataframe\">\n",
              "  <thead>\n",
              "    <tr style=\"text-align: right;\">\n",
              "      <th></th>\n",
              "      <th>Nome</th>\n",
              "      <th>Idade</th>\n",
              "    </tr>\n",
              "  </thead>\n",
              "  <tbody>\n",
              "    <tr>\n",
              "      <th>0</th>\n",
              "      <td>Ana</td>\n",
              "      <td>23</td>\n",
              "    </tr>\n",
              "    <tr>\n",
              "      <th>1</th>\n",
              "      <td>Bruno</td>\n",
              "      <td>35</td>\n",
              "    </tr>\n",
              "    <tr>\n",
              "      <th>2</th>\n",
              "      <td>Carlos</td>\n",
              "      <td>45</td>\n",
              "    </tr>\n",
              "  </tbody>\n",
              "</table>\n",
              "</div>\n",
              "    <div class=\"colab-df-buttons\">\n",
              "\n",
              "  <div class=\"colab-df-container\">\n",
              "    <button class=\"colab-df-convert\" onclick=\"convertToInteractive('df-b128351e-4a7c-490f-a305-f72cbd5c1265')\"\n",
              "            title=\"Convert this dataframe to an interactive table.\"\n",
              "            style=\"display:none;\">\n",
              "\n",
              "  <svg xmlns=\"http://www.w3.org/2000/svg\" height=\"24px\" viewBox=\"0 -960 960 960\">\n",
              "    <path d=\"M120-120v-720h720v720H120Zm60-500h600v-160H180v160Zm220 220h160v-160H400v160Zm0 220h160v-160H400v160ZM180-400h160v-160H180v160Zm440 0h160v-160H620v160ZM180-180h160v-160H180v160Zm440 0h160v-160H620v160Z\"/>\n",
              "  </svg>\n",
              "    </button>\n",
              "\n",
              "  <style>\n",
              "    .colab-df-container {\n",
              "      display:flex;\n",
              "      gap: 12px;\n",
              "    }\n",
              "\n",
              "    .colab-df-convert {\n",
              "      background-color: #E8F0FE;\n",
              "      border: none;\n",
              "      border-radius: 50%;\n",
              "      cursor: pointer;\n",
              "      display: none;\n",
              "      fill: #1967D2;\n",
              "      height: 32px;\n",
              "      padding: 0 0 0 0;\n",
              "      width: 32px;\n",
              "    }\n",
              "\n",
              "    .colab-df-convert:hover {\n",
              "      background-color: #E2EBFA;\n",
              "      box-shadow: 0px 1px 2px rgba(60, 64, 67, 0.3), 0px 1px 3px 1px rgba(60, 64, 67, 0.15);\n",
              "      fill: #174EA6;\n",
              "    }\n",
              "\n",
              "    .colab-df-buttons div {\n",
              "      margin-bottom: 4px;\n",
              "    }\n",
              "\n",
              "    [theme=dark] .colab-df-convert {\n",
              "      background-color: #3B4455;\n",
              "      fill: #D2E3FC;\n",
              "    }\n",
              "\n",
              "    [theme=dark] .colab-df-convert:hover {\n",
              "      background-color: #434B5C;\n",
              "      box-shadow: 0px 1px 3px 1px rgba(0, 0, 0, 0.15);\n",
              "      filter: drop-shadow(0px 1px 2px rgba(0, 0, 0, 0.3));\n",
              "      fill: #FFFFFF;\n",
              "    }\n",
              "  </style>\n",
              "\n",
              "    <script>\n",
              "      const buttonEl =\n",
              "        document.querySelector('#df-b128351e-4a7c-490f-a305-f72cbd5c1265 button.colab-df-convert');\n",
              "      buttonEl.style.display =\n",
              "        google.colab.kernel.accessAllowed ? 'block' : 'none';\n",
              "\n",
              "      async function convertToInteractive(key) {\n",
              "        const element = document.querySelector('#df-b128351e-4a7c-490f-a305-f72cbd5c1265');\n",
              "        const dataTable =\n",
              "          await google.colab.kernel.invokeFunction('convertToInteractive',\n",
              "                                                    [key], {});\n",
              "        if (!dataTable) return;\n",
              "\n",
              "        const docLinkHtml = 'Like what you see? Visit the ' +\n",
              "          '<a target=\"_blank\" href=https://colab.research.google.com/notebooks/data_table.ipynb>data table notebook</a>'\n",
              "          + ' to learn more about interactive tables.';\n",
              "        element.innerHTML = '';\n",
              "        dataTable['output_type'] = 'display_data';\n",
              "        await google.colab.output.renderOutput(dataTable, element);\n",
              "        const docLink = document.createElement('div');\n",
              "        docLink.innerHTML = docLinkHtml;\n",
              "        element.appendChild(docLink);\n",
              "      }\n",
              "    </script>\n",
              "  </div>\n",
              "\n",
              "\n",
              "<div id=\"df-516096db-6513-4a29-b641-3062ba795cc4\">\n",
              "  <button class=\"colab-df-quickchart\" onclick=\"quickchart('df-516096db-6513-4a29-b641-3062ba795cc4')\"\n",
              "            title=\"Suggest charts\"\n",
              "            style=\"display:none;\">\n",
              "\n",
              "<svg xmlns=\"http://www.w3.org/2000/svg\" height=\"24px\"viewBox=\"0 0 24 24\"\n",
              "     width=\"24px\">\n",
              "    <g>\n",
              "        <path d=\"M19 3H5c-1.1 0-2 .9-2 2v14c0 1.1.9 2 2 2h14c1.1 0 2-.9 2-2V5c0-1.1-.9-2-2-2zM9 17H7v-7h2v7zm4 0h-2V7h2v10zm4 0h-2v-4h2v4z\"/>\n",
              "    </g>\n",
              "</svg>\n",
              "  </button>\n",
              "\n",
              "<style>\n",
              "  .colab-df-quickchart {\n",
              "      --bg-color: #E8F0FE;\n",
              "      --fill-color: #1967D2;\n",
              "      --hover-bg-color: #E2EBFA;\n",
              "      --hover-fill-color: #174EA6;\n",
              "      --disabled-fill-color: #AAA;\n",
              "      --disabled-bg-color: #DDD;\n",
              "  }\n",
              "\n",
              "  [theme=dark] .colab-df-quickchart {\n",
              "      --bg-color: #3B4455;\n",
              "      --fill-color: #D2E3FC;\n",
              "      --hover-bg-color: #434B5C;\n",
              "      --hover-fill-color: #FFFFFF;\n",
              "      --disabled-bg-color: #3B4455;\n",
              "      --disabled-fill-color: #666;\n",
              "  }\n",
              "\n",
              "  .colab-df-quickchart {\n",
              "    background-color: var(--bg-color);\n",
              "    border: none;\n",
              "    border-radius: 50%;\n",
              "    cursor: pointer;\n",
              "    display: none;\n",
              "    fill: var(--fill-color);\n",
              "    height: 32px;\n",
              "    padding: 0;\n",
              "    width: 32px;\n",
              "  }\n",
              "\n",
              "  .colab-df-quickchart:hover {\n",
              "    background-color: var(--hover-bg-color);\n",
              "    box-shadow: 0 1px 2px rgba(60, 64, 67, 0.3), 0 1px 3px 1px rgba(60, 64, 67, 0.15);\n",
              "    fill: var(--button-hover-fill-color);\n",
              "  }\n",
              "\n",
              "  .colab-df-quickchart-complete:disabled,\n",
              "  .colab-df-quickchart-complete:disabled:hover {\n",
              "    background-color: var(--disabled-bg-color);\n",
              "    fill: var(--disabled-fill-color);\n",
              "    box-shadow: none;\n",
              "  }\n",
              "\n",
              "  .colab-df-spinner {\n",
              "    border: 2px solid var(--fill-color);\n",
              "    border-color: transparent;\n",
              "    border-bottom-color: var(--fill-color);\n",
              "    animation:\n",
              "      spin 1s steps(1) infinite;\n",
              "  }\n",
              "\n",
              "  @keyframes spin {\n",
              "    0% {\n",
              "      border-color: transparent;\n",
              "      border-bottom-color: var(--fill-color);\n",
              "      border-left-color: var(--fill-color);\n",
              "    }\n",
              "    20% {\n",
              "      border-color: transparent;\n",
              "      border-left-color: var(--fill-color);\n",
              "      border-top-color: var(--fill-color);\n",
              "    }\n",
              "    30% {\n",
              "      border-color: transparent;\n",
              "      border-left-color: var(--fill-color);\n",
              "      border-top-color: var(--fill-color);\n",
              "      border-right-color: var(--fill-color);\n",
              "    }\n",
              "    40% {\n",
              "      border-color: transparent;\n",
              "      border-right-color: var(--fill-color);\n",
              "      border-top-color: var(--fill-color);\n",
              "    }\n",
              "    60% {\n",
              "      border-color: transparent;\n",
              "      border-right-color: var(--fill-color);\n",
              "    }\n",
              "    80% {\n",
              "      border-color: transparent;\n",
              "      border-right-color: var(--fill-color);\n",
              "      border-bottom-color: var(--fill-color);\n",
              "    }\n",
              "    90% {\n",
              "      border-color: transparent;\n",
              "      border-bottom-color: var(--fill-color);\n",
              "    }\n",
              "  }\n",
              "</style>\n",
              "\n",
              "  <script>\n",
              "    async function quickchart(key) {\n",
              "      const quickchartButtonEl =\n",
              "        document.querySelector('#' + key + ' button');\n",
              "      quickchartButtonEl.disabled = true;  // To prevent multiple clicks.\n",
              "      quickchartButtonEl.classList.add('colab-df-spinner');\n",
              "      try {\n",
              "        const charts = await google.colab.kernel.invokeFunction(\n",
              "            'suggestCharts', [key], {});\n",
              "      } catch (error) {\n",
              "        console.error('Error during call to suggestCharts:', error);\n",
              "      }\n",
              "      quickchartButtonEl.classList.remove('colab-df-spinner');\n",
              "      quickchartButtonEl.classList.add('colab-df-quickchart-complete');\n",
              "    }\n",
              "    (() => {\n",
              "      let quickchartButtonEl =\n",
              "        document.querySelector('#df-516096db-6513-4a29-b641-3062ba795cc4 button');\n",
              "      quickchartButtonEl.style.display =\n",
              "        google.colab.kernel.accessAllowed ? 'block' : 'none';\n",
              "    })();\n",
              "  </script>\n",
              "</div>\n",
              "\n",
              "  <div id=\"id_9528e22e-3d05-49cc-9ce7-8e60bdbccfc5\">\n",
              "    <style>\n",
              "      .colab-df-generate {\n",
              "        background-color: #E8F0FE;\n",
              "        border: none;\n",
              "        border-radius: 50%;\n",
              "        cursor: pointer;\n",
              "        display: none;\n",
              "        fill: #1967D2;\n",
              "        height: 32px;\n",
              "        padding: 0 0 0 0;\n",
              "        width: 32px;\n",
              "      }\n",
              "\n",
              "      .colab-df-generate:hover {\n",
              "        background-color: #E2EBFA;\n",
              "        box-shadow: 0px 1px 2px rgba(60, 64, 67, 0.3), 0px 1px 3px 1px rgba(60, 64, 67, 0.15);\n",
              "        fill: #174EA6;\n",
              "      }\n",
              "\n",
              "      [theme=dark] .colab-df-generate {\n",
              "        background-color: #3B4455;\n",
              "        fill: #D2E3FC;\n",
              "      }\n",
              "\n",
              "      [theme=dark] .colab-df-generate:hover {\n",
              "        background-color: #434B5C;\n",
              "        box-shadow: 0px 1px 3px 1px rgba(0, 0, 0, 0.15);\n",
              "        filter: drop-shadow(0px 1px 2px rgba(0, 0, 0, 0.3));\n",
              "        fill: #FFFFFF;\n",
              "      }\n",
              "    </style>\n",
              "    <button class=\"colab-df-generate\" onclick=\"generateWithVariable('df')\"\n",
              "            title=\"Generate code using this dataframe.\"\n",
              "            style=\"display:none;\">\n",
              "\n",
              "  <svg xmlns=\"http://www.w3.org/2000/svg\" height=\"24px\"viewBox=\"0 0 24 24\"\n",
              "       width=\"24px\">\n",
              "    <path d=\"M7,19H8.4L18.45,9,17,7.55,7,17.6ZM5,21V16.75L18.45,3.32a2,2,0,0,1,2.83,0l1.4,1.43a1.91,1.91,0,0,1,.58,1.4,1.91,1.91,0,0,1-.58,1.4L9.25,21ZM18.45,9,17,7.55Zm-12,3A5.31,5.31,0,0,0,4.9,8.1,5.31,5.31,0,0,0,1,6.5,5.31,5.31,0,0,0,4.9,4.9,5.31,5.31,0,0,0,6.5,1,5.31,5.31,0,0,0,8.1,4.9,5.31,5.31,0,0,0,12,6.5,5.46,5.46,0,0,0,6.5,12Z\"/>\n",
              "  </svg>\n",
              "    </button>\n",
              "    <script>\n",
              "      (() => {\n",
              "      const buttonEl =\n",
              "        document.querySelector('#id_9528e22e-3d05-49cc-9ce7-8e60bdbccfc5 button.colab-df-generate');\n",
              "      buttonEl.style.display =\n",
              "        google.colab.kernel.accessAllowed ? 'block' : 'none';\n",
              "\n",
              "      buttonEl.onclick = () => {\n",
              "        google.colab.notebook.generateWithVariable('df');\n",
              "      }\n",
              "      })();\n",
              "    </script>\n",
              "  </div>\n",
              "\n",
              "    </div>\n",
              "  </div>\n"
            ],
            "application/vnd.google.colaboratory.intrinsic+json": {
              "type": "dataframe",
              "variable_name": "df",
              "summary": "{\n  \"name\": \"df\",\n  \"rows\": 3,\n  \"fields\": [\n    {\n      \"column\": \"Nome\",\n      \"properties\": {\n        \"dtype\": \"string\",\n        \"num_unique_values\": 3,\n        \"samples\": [\n          \"Ana\",\n          \"Bruno\",\n          \"Carlos\"\n        ],\n        \"semantic_type\": \"\",\n        \"description\": \"\"\n      }\n    },\n    {\n      \"column\": \"Idade\",\n      \"properties\": {\n        \"dtype\": \"number\",\n        \"std\": 11,\n        \"min\": 23,\n        \"max\": 45,\n        \"num_unique_values\": 3,\n        \"samples\": [\n          23,\n          35,\n          45\n        ],\n        \"semantic_type\": \"\",\n        \"description\": \"\"\n      }\n    }\n  ]\n}"
            }
          },
          "metadata": {}
        }
      ],
      "source": [
        "import pandas as pd\n",
        "\n",
        "dados = {'Nome': ['Ana', 'Bruno', 'Carlos'], 'Idade': [23, 35, 45]} #cria um dicionário\n",
        "\n",
        "df = pd.DataFrame(dados) #transforma o dicionário em dataframe\n",
        "\n",
        "display(df) #mostra o dataframe"
      ]
    },
    {
      "cell_type": "code",
      "execution_count": null,
      "metadata": {
        "colab": {
          "base_uri": "https://localhost:8080/",
          "height": 843
        },
        "id": "1inWcgoUsuSR",
        "outputId": "4861f300-006a-4632-c167-7a99431ae42d"
      },
      "outputs": [
        {
          "output_type": "display_data",
          "data": {
            "text/plain": [
              "<Figure size 640x480 with 1 Axes>"
            ],
            "image/png": "[encoded data removed]"
          },
          "metadata": {}
        },
        {
          "output_type": "display_data",
          "data": {
            "text/plain": [
              "<Figure size 640x480 with 1 Axes>"
            ],
            "image/png": "[encoded data removed]"
          },
          "metadata": {}
        }
      ],
      "source": [
        "import matplotlib.pyplot as plt\n",
        "\n",
        "plt.plot([1, 2, 3], [4, 5, 6]) #cria o plot de linha\n",
        "plt.show() #mostra o plot\n",
        "\n",
        "plt.scatter([1, 2, 3], [4, 5, 6]) #cria o plot de pontos\n",
        "plt.show()"
      ]
    },
    {
      "cell_type": "markdown",
      "source": [
        "## Autores\n",
        "\n",
        "<a href=\"https://www.linkedin.com/in/eduardopecora/\" target=\"_blank\">Eduardo Pecora</a>\n",
        "\n",
        "<a href=\"https://www.linkedin.com/in/jo%C3%A3o-gabriel-santin-botelho-618244222/\" target=\"_blank\">João Gabriel Santin Botelho</a>\n",
        "\n",
        "\n",
        "## Log de modificações\n",
        "\n",
        "| Data | Versão | Modificado por | Descrição |\n",
        "| ----------------- | ------- | ---------- | ---------------------------------- |\n",
        "| 29-08-2024       | 1.0     | Eduardo Pecora & João Gabriel| Inicial               |\n",
        "\n",
        "<hr>\n",
        "\n",
        "## <h3 align=\"center\"> (c) Liga Data Science/ UFPR 2024. All rights reserved. <h3/>"
      ],
      "metadata": {
        "id": "bwfBdIyGQqSK"
      }
    }
  ],
  "metadata": {
    "kernelspec": {
      "display_name": "Python 3 (ipykernel)",
      "language": "python",
      "name": "python3"
    },
    "language_info": {
      "codemirror_mode": {
        "name": "ipython",
        "version": 3
      },
      "file_extension": ".py",
      "mimetype": "text/x-python",
      "name": "python",
      "nbconvert_exporter": "python",
      "pygments_lexer": "ipython3",
      "version": "3.10.14"
    },
    "colab": {
      "provenance": [],
      "include_colab_link": true
    }
  },
  "nbformat": 4,
  "nbformat_minor": 0
}