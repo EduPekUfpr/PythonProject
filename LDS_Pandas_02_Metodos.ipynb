{
  "cells": [
    {
      "cell_type": "markdown",
      "metadata": {
        "id": "BjsaTixGRXdk"
      },
      "source": [
        "<p style =\"text-align:center\">\n",
        "    <img src=\"http://epecora.com.br/DataFiles/BannerUFPR.png\" width=\"700\" alt=\"PPGOLD/PPGMNE Python:INTRO\"  />\n",
        "</p>\n",
        "\n",
        "# Pandas: Manipulações do Data Frame\n",
        "<a href=\"https://www.linkedin.com/in/eduardopecora/\" target=\"_blank\">Eduardo Pecora</a>\n",
        "\n",
        "Nesta aula apresentaremos mais de 25 métodos do Pandas para manipulação dos dados do DataFrame"
      ]
    },
    {
      "cell_type": "code",
      "execution_count": null,
      "metadata": {
        "id": "LHHPw6DO1tE3"
      },
      "outputs": [],
      "source": [
        "import pandas as pd\n",
        "import numpy as np\n",
        "\n",
        "# Sample data\n",
        "data1 = {'Country': ['USA', 'China', 'India', 'Brazil'],\n",
        "         'Population_2000': [281421906, 1262645000, 1056570000, 174468575],\n",
        "         'Population_2010': [308745538, 1337705000, 1230985000, 190755799],\n",
        "         'Population_2020': [335946003,1424798421 , 1383112050, 213196304]}\n",
        "\n",
        "data2 = {'Country': ['Russia', 'Japan', 'Germany', 'United Kingdom'],\n",
        "         'Population_2000': [14676276, 126911000, 82431300, 59615200],\n",
        "         'Population_2010': [142958000, 128057352, 81802257, 62766365],\n",
        "         'Population_2020': [145617329,125244761 , 83328988, 66788659]}\n",
        "\n",
        "# https://www.worldometers.info/world-population/population-by-country/\n",
        "\n",
        "df1 = pd.DataFrame(data1)\n",
        "df2 = pd.DataFrame(data2)"
      ]
    },
    {
      "cell_type": "markdown",
      "metadata": {
        "id": "QJ8lM-_y4OYp"
      },
      "source": [
        "## Concatenate two or more DFs"
      ]
    },
    {
      "cell_type": "code",
      "execution_count": null,
      "metadata": {
        "colab": {
          "base_uri": "https://localhost:8080/",
          "height": 300
        },
        "id": "r31egGdF2Ts3",
        "outputId": "98744df9-8454-43e0-c98d-8bfaad65f065"
      },
      "outputs": [
        {
          "data": {
            "text/html": [
              "<div>\n",
              "<style scoped>\n",
              "    .dataframe tbody tr th:only-of-type {\n",
              "        vertical-align: middle;\n",
              "    }\n",
              "\n",
              "    .dataframe tbody tr th {\n",
              "        vertical-align: top;\n",
              "    }\n",
              "\n",
              "    .dataframe thead th {\n",
              "        text-align: right;\n",
              "    }\n",
              "</style>\n",
              "<table border=\"1\" class=\"dataframe\">\n",
              "  <thead>\n",
              "    <tr style=\"text-align: right;\">\n",
              "      <th></th>\n",
              "      <th>Country</th>\n",
              "      <th>Population_2000</th>\n",
              "      <th>Population_2010</th>\n",
              "      <th>Population_2020</th>\n",
              "    </tr>\n",
              "  </thead>\n",
              "  <tbody>\n",
              "    <tr>\n",
              "      <th>0</th>\n",
              "      <td>USA</td>\n",
              "      <td>281421906</td>\n",
              "      <td>308745538</td>\n",
              "      <td>335946003</td>\n",
              "    </tr>\n",
              "    <tr>\n",
              "      <th>1</th>\n",
              "      <td>China</td>\n",
              "      <td>1262645000</td>\n",
              "      <td>1337705000</td>\n",
              "      <td>1424798421</td>\n",
              "    </tr>\n",
              "    <tr>\n",
              "      <th>2</th>\n",
              "      <td>India</td>\n",
              "      <td>1056570000</td>\n",
              "      <td>1230985000</td>\n",
              "      <td>1383112050</td>\n",
              "    </tr>\n",
              "    <tr>\n",
              "      <th>3</th>\n",
              "      <td>Brazil</td>\n",
              "      <td>174468575</td>\n",
              "      <td>190755799</td>\n",
              "      <td>213196304</td>\n",
              "    </tr>\n",
              "    <tr>\n",
              "      <th>4</th>\n",
              "      <td>Russia</td>\n",
              "      <td>14676276</td>\n",
              "      <td>142958000</td>\n",
              "      <td>145617329</td>\n",
              "    </tr>\n",
              "    <tr>\n",
              "      <th>5</th>\n",
              "      <td>Japan</td>\n",
              "      <td>126911000</td>\n",
              "      <td>128057352</td>\n",
              "      <td>125244761</td>\n",
              "    </tr>\n",
              "    <tr>\n",
              "      <th>6</th>\n",
              "      <td>Germany</td>\n",
              "      <td>82431300</td>\n",
              "      <td>81802257</td>\n",
              "      <td>83328988</td>\n",
              "    </tr>\n",
              "    <tr>\n",
              "      <th>7</th>\n",
              "      <td>United Kingdom</td>\n",
              "      <td>59615200</td>\n",
              "      <td>62766365</td>\n",
              "      <td>66788659</td>\n",
              "    </tr>\n",
              "  </tbody>\n",
              "</table>\n",
              "</div>"
            ],
            "text/plain": [
              "          Country  Population_2000  Population_2010  Population_2020\n",
              "0             USA        281421906        308745538        335946003\n",
              "1           China       1262645000       1337705000       1424798421\n",
              "2           India       1056570000       1230985000       1383112050\n",
              "3          Brazil        174468575        190755799        213196304\n",
              "4          Russia         14676276        142958000        145617329\n",
              "5           Japan        126911000        128057352        125244761\n",
              "6         Germany         82431300         81802257         83328988\n",
              "7  United Kingdom         59615200         62766365         66788659"
            ]
          },
          "execution_count": 3,
          "metadata": {},
          "output_type": "execute_result"
        }
      ],
      "source": [
        "# Concatenating DataFrames\n",
        "combined_df = pd.concat([df1, df2], ignore_index=True)\n",
        "combined_df"
      ]
    },
    {
      "cell_type": "markdown",
      "metadata": {
        "id": "BxOoGER14t6C"
      },
      "source": [
        "### Add a new row at the end"
      ]
    },
    {
      "cell_type": "code",
      "execution_count": null,
      "metadata": {
        "colab": {
          "base_uri": "https://localhost:8080/"
        },
        "id": "zTifr8F46heR",
        "outputId": "f4ccdcb8-e050-47f6-c4c7-90f82b278789"
      },
      "outputs": [
        {
          "data": {
            "text/plain": [
              "Country            object\n",
              "Population_2000     int64\n",
              "Population_2010     int64\n",
              "Population_2020     int64\n",
              "dtype: object"
            ]
          },
          "execution_count": 4,
          "metadata": {},
          "output_type": "execute_result"
        }
      ],
      "source": [
        "combined_df.dtypes"
      ]
    },
    {
      "cell_type": "code",
      "execution_count": null,
      "metadata": {
        "colab": {
          "base_uri": "https://localhost:8080/",
          "height": 331
        },
        "id": "pYu480eU4XPh",
        "outputId": "0f6275ea-35af-407d-cecb-738c9db14fa0"
      },
      "outputs": [
        {
          "data": {
            "text/html": [
              "<div>\n",
              "<style scoped>\n",
              "    .dataframe tbody tr th:only-of-type {\n",
              "        vertical-align: middle;\n",
              "    }\n",
              "\n",
              "    .dataframe tbody tr th {\n",
              "        vertical-align: top;\n",
              "    }\n",
              "\n",
              "    .dataframe thead th {\n",
              "        text-align: right;\n",
              "    }\n",
              "</style>\n",
              "<table border=\"1\" class=\"dataframe\">\n",
              "  <thead>\n",
              "    <tr style=\"text-align: right;\">\n",
              "      <th></th>\n",
              "      <th>Country</th>\n",
              "      <th>Population_2000</th>\n",
              "      <th>Population_2010</th>\n",
              "      <th>Population_2020</th>\n",
              "    </tr>\n",
              "  </thead>\n",
              "  <tbody>\n",
              "    <tr>\n",
              "      <th>0</th>\n",
              "      <td>USA</td>\n",
              "      <td>2.814219e+08</td>\n",
              "      <td>3.087455e+08</td>\n",
              "      <td>3.359460e+08</td>\n",
              "    </tr>\n",
              "    <tr>\n",
              "      <th>1</th>\n",
              "      <td>China</td>\n",
              "      <td>1.262645e+09</td>\n",
              "      <td>1.337705e+09</td>\n",
              "      <td>1.424798e+09</td>\n",
              "    </tr>\n",
              "    <tr>\n",
              "      <th>2</th>\n",
              "      <td>India</td>\n",
              "      <td>1.056570e+09</td>\n",
              "      <td>1.230985e+09</td>\n",
              "      <td>1.383112e+09</td>\n",
              "    </tr>\n",
              "    <tr>\n",
              "      <th>3</th>\n",
              "      <td>Brazil</td>\n",
              "      <td>1.744686e+08</td>\n",
              "      <td>1.907558e+08</td>\n",
              "      <td>2.131963e+08</td>\n",
              "    </tr>\n",
              "    <tr>\n",
              "      <th>4</th>\n",
              "      <td>Russia</td>\n",
              "      <td>1.467628e+07</td>\n",
              "      <td>1.429580e+08</td>\n",
              "      <td>1.456173e+08</td>\n",
              "    </tr>\n",
              "    <tr>\n",
              "      <th>5</th>\n",
              "      <td>Japan</td>\n",
              "      <td>1.269110e+08</td>\n",
              "      <td>1.280574e+08</td>\n",
              "      <td>1.252448e+08</td>\n",
              "    </tr>\n",
              "    <tr>\n",
              "      <th>6</th>\n",
              "      <td>Germany</td>\n",
              "      <td>8.243130e+07</td>\n",
              "      <td>8.180226e+07</td>\n",
              "      <td>8.332899e+07</td>\n",
              "    </tr>\n",
              "    <tr>\n",
              "      <th>7</th>\n",
              "      <td>United Kingdom</td>\n",
              "      <td>5.961520e+07</td>\n",
              "      <td>6.276636e+07</td>\n",
              "      <td>6.678866e+07</td>\n",
              "    </tr>\n",
              "    <tr>\n",
              "      <th>8</th>\n",
              "      <td>France</td>\n",
              "      <td>NaN</td>\n",
              "      <td>NaN</td>\n",
              "      <td>NaN</td>\n",
              "    </tr>\n",
              "  </tbody>\n",
              "</table>\n",
              "</div>"
            ],
            "text/plain": [
              "          Country  Population_2000  Population_2010  Population_2020\n",
              "0             USA     2.814219e+08     3.087455e+08     3.359460e+08\n",
              "1           China     1.262645e+09     1.337705e+09     1.424798e+09\n",
              "2           India     1.056570e+09     1.230985e+09     1.383112e+09\n",
              "3          Brazil     1.744686e+08     1.907558e+08     2.131963e+08\n",
              "4          Russia     1.467628e+07     1.429580e+08     1.456173e+08\n",
              "5           Japan     1.269110e+08     1.280574e+08     1.252448e+08\n",
              "6         Germany     8.243130e+07     8.180226e+07     8.332899e+07\n",
              "7  United Kingdom     5.961520e+07     6.276636e+07     6.678866e+07\n",
              "8          France              NaN              NaN              NaN"
            ]
          },
          "execution_count": 5,
          "metadata": {},
          "output_type": "execute_result"
        }
      ],
      "source": [
        "# Adding a row value\n",
        "combined_df.loc[combined_df.shape[0]] = ['France', np.nan, np.nan,np.nan]\n",
        "combined_df"
      ]
    },
    {
      "cell_type": "code",
      "execution_count": null,
      "metadata": {
        "colab": {
          "base_uri": "https://localhost:8080/"
        },
        "id": "5_7b6MPk72yN",
        "outputId": "704cbe18-697c-4ed7-a15e-32a23a992fd1"
      },
      "outputs": [
        {
          "data": {
            "text/plain": [
              "Country             object\n",
              "Population_2000    float64\n",
              "Population_2010    float64\n",
              "Population_2020    float64\n",
              "dtype: object"
            ]
          },
          "execution_count": 6,
          "metadata": {},
          "output_type": "execute_result"
        }
      ],
      "source": [
        "combined_df.dtypes"
      ]
    },
    {
      "cell_type": "markdown",
      "metadata": {
        "id": "jKJqxtO14wk_"
      },
      "source": [
        "### Fill the missing values with Zero"
      ]
    },
    {
      "cell_type": "code",
      "execution_count": null,
      "metadata": {
        "colab": {
          "base_uri": "https://localhost:8080/",
          "height": 331
        },
        "id": "GibDibdZ4eu3",
        "outputId": "f863acf2-3db0-469b-91c5-eeca8e39b2f9"
      },
      "outputs": [
        {
          "data": {
            "text/html": [
              "<div>\n",
              "<style scoped>\n",
              "    .dataframe tbody tr th:only-of-type {\n",
              "        vertical-align: middle;\n",
              "    }\n",
              "\n",
              "    .dataframe tbody tr th {\n",
              "        vertical-align: top;\n",
              "    }\n",
              "\n",
              "    .dataframe thead th {\n",
              "        text-align: right;\n",
              "    }\n",
              "</style>\n",
              "<table border=\"1\" class=\"dataframe\">\n",
              "  <thead>\n",
              "    <tr style=\"text-align: right;\">\n",
              "      <th></th>\n",
              "      <th>Country</th>\n",
              "      <th>Population_2000</th>\n",
              "      <th>Population_2010</th>\n",
              "      <th>Population_2020</th>\n",
              "    </tr>\n",
              "  </thead>\n",
              "  <tbody>\n",
              "    <tr>\n",
              "      <th>0</th>\n",
              "      <td>USA</td>\n",
              "      <td>2.814219e+08</td>\n",
              "      <td>3.087455e+08</td>\n",
              "      <td>3.359460e+08</td>\n",
              "    </tr>\n",
              "    <tr>\n",
              "      <th>1</th>\n",
              "      <td>China</td>\n",
              "      <td>1.262645e+09</td>\n",
              "      <td>1.337705e+09</td>\n",
              "      <td>1.424798e+09</td>\n",
              "    </tr>\n",
              "    <tr>\n",
              "      <th>2</th>\n",
              "      <td>India</td>\n",
              "      <td>1.056570e+09</td>\n",
              "      <td>1.230985e+09</td>\n",
              "      <td>1.383112e+09</td>\n",
              "    </tr>\n",
              "    <tr>\n",
              "      <th>3</th>\n",
              "      <td>Brazil</td>\n",
              "      <td>1.744686e+08</td>\n",
              "      <td>1.907558e+08</td>\n",
              "      <td>2.131963e+08</td>\n",
              "    </tr>\n",
              "    <tr>\n",
              "      <th>4</th>\n",
              "      <td>Russia</td>\n",
              "      <td>1.467628e+07</td>\n",
              "      <td>1.429580e+08</td>\n",
              "      <td>1.456173e+08</td>\n",
              "    </tr>\n",
              "    <tr>\n",
              "      <th>5</th>\n",
              "      <td>Japan</td>\n",
              "      <td>1.269110e+08</td>\n",
              "      <td>1.280574e+08</td>\n",
              "      <td>1.252448e+08</td>\n",
              "    </tr>\n",
              "    <tr>\n",
              "      <th>6</th>\n",
              "      <td>Germany</td>\n",
              "      <td>8.243130e+07</td>\n",
              "      <td>8.180226e+07</td>\n",
              "      <td>8.332899e+07</td>\n",
              "    </tr>\n",
              "    <tr>\n",
              "      <th>7</th>\n",
              "      <td>United Kingdom</td>\n",
              "      <td>5.961520e+07</td>\n",
              "      <td>6.276636e+07</td>\n",
              "      <td>6.678866e+07</td>\n",
              "    </tr>\n",
              "    <tr>\n",
              "      <th>8</th>\n",
              "      <td>France</td>\n",
              "      <td>0.000000e+00</td>\n",
              "      <td>0.000000e+00</td>\n",
              "      <td>0.000000e+00</td>\n",
              "    </tr>\n",
              "  </tbody>\n",
              "</table>\n",
              "</div>"
            ],
            "text/plain": [
              "          Country  Population_2000  Population_2010  Population_2020\n",
              "0             USA     2.814219e+08     3.087455e+08     3.359460e+08\n",
              "1           China     1.262645e+09     1.337705e+09     1.424798e+09\n",
              "2           India     1.056570e+09     1.230985e+09     1.383112e+09\n",
              "3          Brazil     1.744686e+08     1.907558e+08     2.131963e+08\n",
              "4          Russia     1.467628e+07     1.429580e+08     1.456173e+08\n",
              "5           Japan     1.269110e+08     1.280574e+08     1.252448e+08\n",
              "6         Germany     8.243130e+07     8.180226e+07     8.332899e+07\n",
              "7  United Kingdom     5.961520e+07     6.276636e+07     6.678866e+07\n",
              "8          France     0.000000e+00     0.000000e+00     0.000000e+00"
            ]
          },
          "execution_count": 7,
          "metadata": {},
          "output_type": "execute_result"
        }
      ],
      "source": [
        "# Filling missing values with 0\n",
        "filled_df = combined_df.fillna(0)\n",
        "filled_df"
      ]
    },
    {
      "cell_type": "markdown",
      "metadata": {
        "id": "kM7y-NlN7J1q"
      },
      "source": [
        "### Select the `numeric` columns and compute their average"
      ]
    },
    {
      "cell_type": "code",
      "execution_count": null,
      "metadata": {
        "colab": {
          "base_uri": "https://localhost:8080/"
        },
        "id": "UM-aXQNd5v31",
        "outputId": "258ad4fe-bc74-43a1-f410-44164f1f48d9"
      },
      "outputs": [
        {
          "data": {
            "text/plain": [
              "Population_2000    3.823424e+08\n",
              "Population_2010    4.354719e+08\n",
              "Population_2020    4.722541e+08\n",
              "dtype: float64"
            ]
          },
          "execution_count": 8,
          "metadata": {},
          "output_type": "execute_result"
        }
      ],
      "source": [
        "mean_values = combined_df.select_dtypes(include='number').mean()\n",
        "mean_values"
      ]
    },
    {
      "cell_type": "markdown",
      "metadata": {
        "id": "AL6xvTdG7EHp"
      },
      "source": [
        "### Fill the missing values with the average of each column"
      ]
    },
    {
      "cell_type": "code",
      "execution_count": null,
      "metadata": {
        "colab": {
          "base_uri": "https://localhost:8080/",
          "height": 331
        },
        "id": "qX-5Klnf5Arv",
        "outputId": "905068f2-648a-4af7-e5d1-8e454d522b28"
      },
      "outputs": [
        {
          "data": {
            "text/html": [
              "<div>\n",
              "<style scoped>\n",
              "    .dataframe tbody tr th:only-of-type {\n",
              "        vertical-align: middle;\n",
              "    }\n",
              "\n",
              "    .dataframe tbody tr th {\n",
              "        vertical-align: top;\n",
              "    }\n",
              "\n",
              "    .dataframe thead th {\n",
              "        text-align: right;\n",
              "    }\n",
              "</style>\n",
              "<table border=\"1\" class=\"dataframe\">\n",
              "  <thead>\n",
              "    <tr style=\"text-align: right;\">\n",
              "      <th></th>\n",
              "      <th>Country</th>\n",
              "      <th>Population_2000</th>\n",
              "      <th>Population_2010</th>\n",
              "      <th>Population_2020</th>\n",
              "    </tr>\n",
              "  </thead>\n",
              "  <tbody>\n",
              "    <tr>\n",
              "      <th>0</th>\n",
              "      <td>USA</td>\n",
              "      <td>2.814219e+08</td>\n",
              "      <td>3.087455e+08</td>\n",
              "      <td>3.359460e+08</td>\n",
              "    </tr>\n",
              "    <tr>\n",
              "      <th>1</th>\n",
              "      <td>China</td>\n",
              "      <td>1.262645e+09</td>\n",
              "      <td>1.337705e+09</td>\n",
              "      <td>1.424798e+09</td>\n",
              "    </tr>\n",
              "    <tr>\n",
              "      <th>2</th>\n",
              "      <td>India</td>\n",
              "      <td>1.056570e+09</td>\n",
              "      <td>1.230985e+09</td>\n",
              "      <td>1.383112e+09</td>\n",
              "    </tr>\n",
              "    <tr>\n",
              "      <th>3</th>\n",
              "      <td>Brazil</td>\n",
              "      <td>1.744686e+08</td>\n",
              "      <td>1.907558e+08</td>\n",
              "      <td>2.131963e+08</td>\n",
              "    </tr>\n",
              "    <tr>\n",
              "      <th>4</th>\n",
              "      <td>Russia</td>\n",
              "      <td>1.467628e+07</td>\n",
              "      <td>1.429580e+08</td>\n",
              "      <td>1.456173e+08</td>\n",
              "    </tr>\n",
              "    <tr>\n",
              "      <th>5</th>\n",
              "      <td>Japan</td>\n",
              "      <td>1.269110e+08</td>\n",
              "      <td>1.280574e+08</td>\n",
              "      <td>1.252448e+08</td>\n",
              "    </tr>\n",
              "    <tr>\n",
              "      <th>6</th>\n",
              "      <td>Germany</td>\n",
              "      <td>8.243130e+07</td>\n",
              "      <td>8.180226e+07</td>\n",
              "      <td>8.332899e+07</td>\n",
              "    </tr>\n",
              "    <tr>\n",
              "      <th>7</th>\n",
              "      <td>United Kingdom</td>\n",
              "      <td>5.961520e+07</td>\n",
              "      <td>6.276636e+07</td>\n",
              "      <td>6.678866e+07</td>\n",
              "    </tr>\n",
              "    <tr>\n",
              "      <th>8</th>\n",
              "      <td>France</td>\n",
              "      <td>3.823424e+08</td>\n",
              "      <td>4.354719e+08</td>\n",
              "      <td>4.722541e+08</td>\n",
              "    </tr>\n",
              "  </tbody>\n",
              "</table>\n",
              "</div>"
            ],
            "text/plain": [
              "          Country  Population_2000  Population_2010  Population_2020\n",
              "0             USA     2.814219e+08     3.087455e+08     3.359460e+08\n",
              "1           China     1.262645e+09     1.337705e+09     1.424798e+09\n",
              "2           India     1.056570e+09     1.230985e+09     1.383112e+09\n",
              "3          Brazil     1.744686e+08     1.907558e+08     2.131963e+08\n",
              "4          Russia     1.467628e+07     1.429580e+08     1.456173e+08\n",
              "5           Japan     1.269110e+08     1.280574e+08     1.252448e+08\n",
              "6         Germany     8.243130e+07     8.180226e+07     8.332899e+07\n",
              "7  United Kingdom     5.961520e+07     6.276636e+07     6.678866e+07\n",
              "8          France     3.823424e+08     4.354719e+08     4.722541e+08"
            ]
          },
          "execution_count": 9,
          "metadata": {},
          "output_type": "execute_result"
        }
      ],
      "source": [
        "# Filling missing values with average\n",
        "filled_df = combined_df.fillna(mean_values)\n",
        "filled_df"
      ]
    },
    {
      "cell_type": "markdown",
      "metadata": {
        "id": "_fv9Ehml7bbr"
      },
      "source": [
        "## Melt a DF\n",
        "\n",
        "### Tranform columns into rows"
      ]
    },
    {
      "cell_type": "code",
      "execution_count": null,
      "metadata": {
        "colab": {
          "base_uri": "https://localhost:8080/"
        },
        "id": "du-IQjPJ411R",
        "outputId": "065a157b-065c-470e-e477-cb5076bb6c39"
      },
      "outputs": [
        {
          "name": "stdout",
          "output_type": "stream",
          "text": [
            "           Country             Year    Population\n",
            "0              USA  Population_2000  2.814219e+08\n",
            "1            China  Population_2000  1.262645e+09\n",
            "2            India  Population_2000  1.056570e+09\n",
            "3           Brazil  Population_2000  1.744686e+08\n",
            "4           Russia  Population_2000  1.467628e+07\n",
            "5            Japan  Population_2000  1.269110e+08\n",
            "6          Germany  Population_2000  8.243130e+07\n",
            "7   United Kingdom  Population_2000  5.961520e+07\n",
            "8           France  Population_2000  3.823424e+08\n",
            "9              USA  Population_2010  3.087455e+08\n",
            "10           China  Population_2010  1.337705e+09\n",
            "11           India  Population_2010  1.230985e+09\n",
            "12          Brazil  Population_2010  1.907558e+08\n",
            "13          Russia  Population_2010  1.429580e+08\n",
            "14           Japan  Population_2010  1.280574e+08\n",
            "15         Germany  Population_2010  8.180226e+07\n",
            "16  United Kingdom  Population_2010  6.276636e+07\n",
            "17          France  Population_2010  4.354719e+08\n",
            "18             USA  Population_2020  3.359460e+08\n",
            "19           China  Population_2020  1.424798e+09\n",
            "20           India  Population_2020  1.383112e+09\n",
            "21          Brazil  Population_2020  2.131963e+08\n",
            "22          Russia  Population_2020  1.456173e+08\n",
            "23           Japan  Population_2020  1.252448e+08\n",
            "24         Germany  Population_2020  8.332899e+07\n",
            "25  United Kingdom  Population_2020  6.678866e+07\n",
            "26          France  Population_2020  4.722541e+08\n"
          ]
        }
      ],
      "source": [
        "# Melting the DataFrame\n",
        "melted_df = pd.melt(filled_df, id_vars=['Country'], var_name='Year', value_name='Population')\n",
        "\n",
        "print(melted_df)"
      ]
    },
    {
      "cell_type": "markdown",
      "metadata": {
        "id": "LzI_prRc8SnA"
      },
      "source": [
        "### Apply a function"
      ]
    },
    {
      "cell_type": "code",
      "execution_count": null,
      "metadata": {
        "colab": {
          "base_uri": "https://localhost:8080/"
        },
        "id": "Gx2m2VXQ7fhE",
        "outputId": "9a531ec0-6927-4972-f214-df3f956b5bd2"
      },
      "outputs": [
        {
          "name": "stdout",
          "output_type": "stream",
          "text": [
            "          Country  Population_2000  Population_2010  Population_2020  \\\n",
            "0             USA     2.814219e+08     3.087455e+08     3.359460e+08   \n",
            "1           China     1.262645e+09     1.337705e+09     1.424798e+09   \n",
            "2           India     1.056570e+09     1.230985e+09     1.383112e+09   \n",
            "3          Brazil     1.744686e+08     1.907558e+08     2.131963e+08   \n",
            "4          Russia     1.467628e+07     1.429580e+08     1.456173e+08   \n",
            "5           Japan     1.269110e+08     1.280574e+08     1.252448e+08   \n",
            "6         Germany     8.243130e+07     8.180226e+07     8.332899e+07   \n",
            "7  United Kingdom     5.961520e+07     6.276636e+07     6.678866e+07   \n",
            "8          France     3.823424e+08     4.354719e+08     4.722541e+08   \n",
            "\n",
            "   Population_2000_Billion  Population_2010_Billion  Population_2020_Billion  \n",
            "0                 0.281422                 0.308746                 0.335946  \n",
            "1                 1.262645                 1.337705                 1.424798  \n",
            "2                 1.056570                 1.230985                 1.383112  \n",
            "3                 0.174469                 0.190756                 0.213196  \n",
            "4                 0.014676                 0.142958                 0.145617  \n",
            "5                 0.126911                 0.128057                 0.125245  \n",
            "6                 0.082431                 0.081802                 0.083329  \n",
            "7                 0.059615                 0.062766                 0.066789  \n",
            "8                 0.382342                 0.435472                 0.472254  \n"
          ]
        }
      ],
      "source": [
        "# Define a function to convert population to billions\n",
        "def to_billion(population):\n",
        "    return population / 1_000_000_000\n",
        "\n",
        "# Apply the function to Population columns\n",
        "filled_df['Population_2000_Billion'] = filled_df['Population_2000'].apply(to_billion)\n",
        "filled_df['Population_2010_Billion'] = filled_df['Population_2010'].apply(to_billion)\n",
        "filled_df['Population_2020_Billion'] = filled_df['Population_2020'].apply(to_billion)\n",
        "\n",
        "print(filled_df)"
      ]
    },
    {
      "cell_type": "markdown",
      "metadata": {
        "id": "aqOOc-4W8VNn"
      },
      "source": [
        "### Drop Columns"
      ]
    },
    {
      "cell_type": "code",
      "execution_count": null,
      "metadata": {
        "colab": {
          "base_uri": "https://localhost:8080/"
        },
        "id": "NqJqm3x08EXv",
        "outputId": "7ca1719e-9932-44c5-b469-2ed482145e48"
      },
      "outputs": [
        {
          "name": "stdout",
          "output_type": "stream",
          "text": [
            "          Country  Population_2000_Billion  Population_2010_Billion  \\\n",
            "0             USA                 0.281422                 0.308746   \n",
            "1           China                 1.262645                 1.337705   \n",
            "2           India                 1.056570                 1.230985   \n",
            "3          Brazil                 0.174469                 0.190756   \n",
            "4          Russia                 0.014676                 0.142958   \n",
            "5           Japan                 0.126911                 0.128057   \n",
            "6         Germany                 0.082431                 0.081802   \n",
            "7  United Kingdom                 0.059615                 0.062766   \n",
            "8          France                 0.382342                 0.435472   \n",
            "\n",
            "   Population_2020_Billion  \n",
            "0                 0.335946  \n",
            "1                 1.424798  \n",
            "2                 1.383112  \n",
            "3                 0.213196  \n",
            "4                 0.145617  \n",
            "5                 0.125245  \n",
            "6                 0.083329  \n",
            "7                 0.066789  \n",
            "8                 0.472254  \n"
          ]
        }
      ],
      "source": [
        "# Drop the Population columns\n",
        "dropped_df = filled_df.drop(columns=['Population_2000', 'Population_2010','Population_2020'])\n",
        "\n",
        "print(dropped_df)"
      ]
    },
    {
      "cell_type": "markdown",
      "metadata": {
        "id": "fdCLj8Ab9Teg"
      },
      "source": [
        "### loc[]"
      ]
    },
    {
      "cell_type": "code",
      "execution_count": null,
      "metadata": {
        "colab": {
          "base_uri": "https://localhost:8080/"
        },
        "id": "54BBjPnA9XYG",
        "outputId": "d8458203-395b-4704-d769-a4d0bd319b1e"
      },
      "outputs": [
        {
          "name": "stdout",
          "output_type": "stream",
          "text": [
            "  Country  Population_2000_Billion  Population_2010_Billion  \\\n",
            "0     USA                 0.281422                 0.308746   \n",
            "\n",
            "   Population_2020_Billion  \n",
            "0                 0.335946  \n"
          ]
        }
      ],
      "source": [
        "# Accessing data for 'USA' in 'Country' column\n",
        "usa_data = dropped_df.loc[dropped_df['Country'] == 'USA']\n",
        "\n",
        "print(usa_data)"
      ]
    },
    {
      "cell_type": "markdown",
      "metadata": {
        "id": "6CdqssgN96Fa"
      },
      "source": [
        "### isin"
      ]
    },
    {
      "cell_type": "code",
      "execution_count": null,
      "metadata": {
        "colab": {
          "base_uri": "https://localhost:8080/"
        },
        "id": "nNzBovvD9YAn",
        "outputId": "3cd66f50-e370-4850-a13d-1520e420d9b3"
      },
      "outputs": [
        {
          "name": "stdout",
          "output_type": "stream",
          "text": [
            "  Country  Population_2000_Billion  Population_2010_Billion  \\\n",
            "0     USA                 0.281422                 0.308746   \n",
            "3  Brazil                 0.174469                 0.190756   \n",
            "8  France                 0.382342                 0.435472   \n",
            "\n",
            "   Population_2020_Billion  \n",
            "0                 0.335946  \n",
            "3                 0.213196  \n",
            "8                 0.472254  \n"
          ]
        }
      ],
      "source": [
        "# Accessing data for 'USA','Brazil' and 'France' in 'Country' column\n",
        "UBF_data = dropped_df.loc[dropped_df['Country'].isin(['USA','Brazil',\"France\"])]\n",
        "\n",
        "print(UBF_data)"
      ]
    },
    {
      "cell_type": "markdown",
      "metadata": {
        "id": "eUFUwTTo-Ivv"
      },
      "source": [
        "### reset_index"
      ]
    },
    {
      "cell_type": "code",
      "execution_count": null,
      "metadata": {
        "colab": {
          "base_uri": "https://localhost:8080/"
        },
        "id": "ae3NqAHm9le1",
        "outputId": "2cd9614c-6693-46cd-b7c4-ecdf0b4da53d"
      },
      "outputs": [
        {
          "name": "stdout",
          "output_type": "stream",
          "text": [
            "Before Index Reseting\n",
            "   Country  Population_2000_Billion  Population_2010_Billion  \\\n",
            "0     USA                 0.281422                 0.308746   \n",
            "3  Brazil                 0.174469                 0.190756   \n",
            "8  France                 0.382342                 0.435472   \n",
            "\n",
            "   Population_2020_Billion  \n",
            "0                 0.335946  \n",
            "3                 0.213196  \n",
            "8                 0.472254  \n",
            "After Index Reseting\n",
            "   Country  Population_2000_Billion  Population_2010_Billion  \\\n",
            "0     USA                 0.281422                 0.308746   \n",
            "1  Brazil                 0.174469                 0.190756   \n",
            "2  France                 0.382342                 0.435472   \n",
            "\n",
            "   Population_2020_Billion  \n",
            "0                 0.335946  \n",
            "1                 0.213196  \n",
            "2                 0.472254  \n"
          ]
        }
      ],
      "source": [
        "print(\"Before Index Reseting\\n\", UBF_data)\n",
        "UBF_data.reset_index(inplace=True, drop=True)\n",
        "print(\"After Index Reseting\\n\", UBF_data)"
      ]
    },
    {
      "cell_type": "markdown",
      "metadata": {
        "id": "mQknGACQ-1kj"
      },
      "source": [
        "### Values_counts"
      ]
    },
    {
      "cell_type": "code",
      "execution_count": null,
      "metadata": {
        "colab": {
          "base_uri": "https://localhost:8080/",
          "height": 425
        },
        "id": "N9KC48VT_Ee-",
        "outputId": "23a9918d-5edf-4a06-9201-4b8d3c44230a"
      },
      "outputs": [
        {
          "data": {
            "text/html": [
              "<div>\n",
              "<style scoped>\n",
              "    .dataframe tbody tr th:only-of-type {\n",
              "        vertical-align: middle;\n",
              "    }\n",
              "\n",
              "    .dataframe tbody tr th {\n",
              "        vertical-align: top;\n",
              "    }\n",
              "\n",
              "    .dataframe thead th {\n",
              "        text-align: right;\n",
              "    }\n",
              "</style>\n",
              "<table border=\"1\" class=\"dataframe\">\n",
              "  <thead>\n",
              "    <tr style=\"text-align: right;\">\n",
              "      <th></th>\n",
              "      <th>Country</th>\n",
              "      <th>Population_2000_Billion</th>\n",
              "      <th>Population_2010_Billion</th>\n",
              "      <th>Population_2020_Billion</th>\n",
              "    </tr>\n",
              "  </thead>\n",
              "  <tbody>\n",
              "    <tr>\n",
              "      <th>0</th>\n",
              "      <td>USA</td>\n",
              "      <td>0.281422</td>\n",
              "      <td>0.308746</td>\n",
              "      <td>0.335946</td>\n",
              "    </tr>\n",
              "    <tr>\n",
              "      <th>1</th>\n",
              "      <td>China</td>\n",
              "      <td>1.262645</td>\n",
              "      <td>1.337705</td>\n",
              "      <td>1.424798</td>\n",
              "    </tr>\n",
              "    <tr>\n",
              "      <th>2</th>\n",
              "      <td>India</td>\n",
              "      <td>1.056570</td>\n",
              "      <td>1.230985</td>\n",
              "      <td>1.383112</td>\n",
              "    </tr>\n",
              "    <tr>\n",
              "      <th>3</th>\n",
              "      <td>Brazil</td>\n",
              "      <td>0.174469</td>\n",
              "      <td>0.190756</td>\n",
              "      <td>0.213196</td>\n",
              "    </tr>\n",
              "    <tr>\n",
              "      <th>4</th>\n",
              "      <td>Russia</td>\n",
              "      <td>0.014676</td>\n",
              "      <td>0.142958</td>\n",
              "      <td>0.145617</td>\n",
              "    </tr>\n",
              "    <tr>\n",
              "      <th>5</th>\n",
              "      <td>Japan</td>\n",
              "      <td>0.126911</td>\n",
              "      <td>0.128057</td>\n",
              "      <td>0.125245</td>\n",
              "    </tr>\n",
              "    <tr>\n",
              "      <th>6</th>\n",
              "      <td>Germany</td>\n",
              "      <td>0.082431</td>\n",
              "      <td>0.081802</td>\n",
              "      <td>0.083329</td>\n",
              "    </tr>\n",
              "    <tr>\n",
              "      <th>7</th>\n",
              "      <td>United Kingdom</td>\n",
              "      <td>0.059615</td>\n",
              "      <td>0.062766</td>\n",
              "      <td>0.066789</td>\n",
              "    </tr>\n",
              "    <tr>\n",
              "      <th>8</th>\n",
              "      <td>France</td>\n",
              "      <td>0.382342</td>\n",
              "      <td>0.435472</td>\n",
              "      <td>0.472254</td>\n",
              "    </tr>\n",
              "    <tr>\n",
              "      <th>0</th>\n",
              "      <td>USA</td>\n",
              "      <td>0.281422</td>\n",
              "      <td>0.308746</td>\n",
              "      <td>0.335946</td>\n",
              "    </tr>\n",
              "    <tr>\n",
              "      <th>1</th>\n",
              "      <td>Brazil</td>\n",
              "      <td>0.174469</td>\n",
              "      <td>0.190756</td>\n",
              "      <td>0.213196</td>\n",
              "    </tr>\n",
              "    <tr>\n",
              "      <th>2</th>\n",
              "      <td>France</td>\n",
              "      <td>0.382342</td>\n",
              "      <td>0.435472</td>\n",
              "      <td>0.472254</td>\n",
              "    </tr>\n",
              "  </tbody>\n",
              "</table>\n",
              "</div>"
            ],
            "text/plain": [
              "          Country  Population_2000_Billion  Population_2010_Billion  \\\n",
              "0             USA                 0.281422                 0.308746   \n",
              "1           China                 1.262645                 1.337705   \n",
              "2           India                 1.056570                 1.230985   \n",
              "3          Brazil                 0.174469                 0.190756   \n",
              "4          Russia                 0.014676                 0.142958   \n",
              "5           Japan                 0.126911                 0.128057   \n",
              "6         Germany                 0.082431                 0.081802   \n",
              "7  United Kingdom                 0.059615                 0.062766   \n",
              "8          France                 0.382342                 0.435472   \n",
              "0             USA                 0.281422                 0.308746   \n",
              "1          Brazil                 0.174469                 0.190756   \n",
              "2          France                 0.382342                 0.435472   \n",
              "\n",
              "   Population_2020_Billion  \n",
              "0                 0.335946  \n",
              "1                 1.424798  \n",
              "2                 1.383112  \n",
              "3                 0.213196  \n",
              "4                 0.145617  \n",
              "5                 0.125245  \n",
              "6                 0.083329  \n",
              "7                 0.066789  \n",
              "8                 0.472254  \n",
              "0                 0.335946  \n",
              "1                 0.213196  \n",
              "2                 0.472254  "
            ]
          },
          "execution_count": 16,
          "metadata": {},
          "output_type": "execute_result"
        }
      ],
      "source": [
        "#Double some rows\n",
        "df_double = pd.concat([dropped_df, UBF_data], axis=0)\n",
        "df_double"
      ]
    },
    {
      "cell_type": "code",
      "execution_count": null,
      "metadata": {
        "colab": {
          "base_uri": "https://localhost:8080/"
        },
        "id": "gnr_UshN-uTh",
        "outputId": "14962b76-439d-4f15-9f18-11f4e4adc58f"
      },
      "outputs": [
        {
          "name": "stdout",
          "output_type": "stream",
          "text": [
            "Country\n",
            "USA               2\n",
            "Brazil            2\n",
            "France            2\n",
            "China             1\n",
            "India             1\n",
            "Russia            1\n",
            "Japan             1\n",
            "Germany           1\n",
            "United Kingdom    1\n",
            "Name: count, dtype: int64\n"
          ]
        }
      ],
      "source": [
        "# Counting occurrences of each country\n",
        "country_counts = df_double['Country'].value_counts()\n",
        "print(country_counts)"
      ]
    },
    {
      "cell_type": "markdown",
      "metadata": {
        "id": "HJ7kwecB-ruy"
      },
      "source": [
        "### Unique"
      ]
    },
    {
      "cell_type": "code",
      "execution_count": null,
      "metadata": {
        "colab": {
          "base_uri": "https://localhost:8080/"
        },
        "id": "NPhK9LBH-MvO",
        "outputId": "87a860e7-6063-4cb3-fe9d-02c9933eb5aa"
      },
      "outputs": [
        {
          "name": "stdout",
          "output_type": "stream",
          "text": [
            "['USA' 'China' 'India' 'Brazil' 'Russia' 'Japan' 'Germany'\n",
            " 'United Kingdom' 'France']\n"
          ]
        }
      ],
      "source": [
        "# Getting unique countries\n",
        "unique_countries = df_double['Country'].unique()\n",
        "print(unique_countries)"
      ]
    },
    {
      "cell_type": "markdown",
      "metadata": {
        "id": "py-3gbvuMwmY"
      },
      "source": [
        "### Drop Duplicates"
      ]
    },
    {
      "cell_type": "code",
      "execution_count": null,
      "metadata": {
        "colab": {
          "base_uri": "https://localhost:8080/"
        },
        "id": "oy0ndP-Z-3o4",
        "outputId": "0f4b3270-0dc7-4dfa-8d29-805e6a1413ab"
      },
      "outputs": [
        {
          "name": "stdout",
          "output_type": "stream",
          "text": [
            "          Country  Population_2000_Billion  Population_2010_Billion  \\\n",
            "0             USA                 0.281422                 0.308746   \n",
            "1           China                 1.262645                 1.337705   \n",
            "2           India                 1.056570                 1.230985   \n",
            "3          Brazil                 0.174469                 0.190756   \n",
            "4          Russia                 0.014676                 0.142958   \n",
            "5           Japan                 0.126911                 0.128057   \n",
            "6         Germany                 0.082431                 0.081802   \n",
            "7  United Kingdom                 0.059615                 0.062766   \n",
            "8          France                 0.382342                 0.435472   \n",
            "\n",
            "   Population_2020_Billion  \n",
            "0                 0.335946  \n",
            "1                 1.424798  \n",
            "2                 1.383112  \n",
            "3                 0.213196  \n",
            "4                 0.145617  \n",
            "5                 0.125245  \n",
            "6                 0.083329  \n",
            "7                 0.066789  \n",
            "8                 0.472254  \n"
          ]
        }
      ],
      "source": [
        "# Removendo linhas duplicadas com base na coluna 'Country'\n",
        "base_df = df_double.drop_duplicates(subset='Country')\n",
        "\n",
        "print(base_df)"
      ]
    },
    {
      "cell_type": "markdown",
      "metadata": {
        "id": "4dPQGotsNDzb"
      },
      "source": [
        "### Astype"
      ]
    },
    {
      "cell_type": "code",
      "execution_count": null,
      "metadata": {
        "colab": {
          "base_uri": "https://localhost:8080/"
        },
        "id": "uRywO9yqM8Ep",
        "outputId": "e1845b01-beae-40ff-c3ac-8f3ba8c8b543"
      },
      "outputs": [
        {
          "name": "stdout",
          "output_type": "stream",
          "text": [
            "           Country                     Year  Population\n",
            "0              USA  Population_2000_Billion    0.281422\n",
            "1            China  Population_2000_Billion    1.262645\n",
            "2            India  Population_2000_Billion    1.056570\n",
            "3           Brazil  Population_2000_Billion    0.174469\n",
            "4           Russia  Population_2000_Billion    0.014676\n",
            "5            Japan  Population_2000_Billion    0.126911\n",
            "6          Germany  Population_2000_Billion    0.082431\n",
            "7   United Kingdom  Population_2000_Billion    0.059615\n",
            "8           France  Population_2000_Billion    0.382342\n",
            "9              USA  Population_2010_Billion    0.308746\n",
            "10           China  Population_2010_Billion    1.337705\n",
            "11           India  Population_2010_Billion    1.230985\n",
            "12          Brazil  Population_2010_Billion    0.190756\n",
            "13          Russia  Population_2010_Billion    0.142958\n",
            "14           Japan  Population_2010_Billion    0.128057\n",
            "15         Germany  Population_2010_Billion    0.081802\n",
            "16  United Kingdom  Population_2010_Billion    0.062766\n",
            "17          France  Population_2010_Billion    0.435472\n",
            "18             USA  Population_2020_Billion    0.335946\n",
            "19           China  Population_2020_Billion    1.424798\n",
            "20           India  Population_2020_Billion    1.383112\n",
            "21          Brazil  Population_2020_Billion    0.213196\n",
            "22          Russia  Population_2020_Billion    0.145617\n",
            "23           Japan  Population_2020_Billion    0.125245\n",
            "24         Germany  Population_2020_Billion    0.083329\n",
            "25  United Kingdom  Population_2020_Billion    0.066789\n",
            "26          France  Population_2020_Billion    0.472254\n",
            "           Country  Year  Population\n",
            "0              USA  2000    0.281422\n",
            "1            China  2000    1.262645\n",
            "2            India  2000    1.056570\n",
            "3           Brazil  2000    0.174469\n",
            "4           Russia  2000    0.014676\n",
            "5            Japan  2000    0.126911\n",
            "6          Germany  2000    0.082431\n",
            "7   United Kingdom  2000    0.059615\n",
            "8           France  2000    0.382342\n",
            "9              USA  2010    0.308746\n",
            "10           China  2010    1.337705\n",
            "11           India  2010    1.230985\n",
            "12          Brazil  2010    0.190756\n",
            "13          Russia  2010    0.142958\n",
            "14           Japan  2010    0.128057\n",
            "15         Germany  2010    0.081802\n",
            "16  United Kingdom  2010    0.062766\n",
            "17          France  2010    0.435472\n",
            "18             USA  2020    0.335946\n",
            "19           China  2020    1.424798\n",
            "20           India  2020    1.383112\n",
            "21          Brazil  2020    0.213196\n",
            "22          Russia  2020    0.145617\n",
            "23           Japan  2020    0.125245\n",
            "24         Germany  2020    0.083329\n",
            "25  United Kingdom  2020    0.066789\n",
            "26          France  2020    0.472254\n",
            "Tipos ANTES a conversão\n",
            " Country        object\n",
            "Year           object\n",
            "Population    float64\n",
            "dtype: object\n",
            "Tipos APÓS a conversão\n",
            " Country        object\n",
            "Year            int64\n",
            "Population    float64\n",
            "dtype: object\n"
          ]
        }
      ],
      "source": [
        "# Melting the DataFrame\n",
        "melted_df = pd.melt(base_df, id_vars=['Country'], var_name='Year', value_name='Population')\n",
        "print(melted_df)\n",
        "\n",
        "# Creating a new collumn with only the Year\n",
        "melted_df[\"Year\"]=melted_df[\"Year\"].str[11:15]\n",
        "print(melted_df)\n",
        "\n",
        "# Applying the new type in the `Year` column\n",
        "print(\"Tipos ANTES a conversão\\n\",melted_df.dtypes)\n",
        "melted_df['Year'] = melted_df['Year'].astype(int)\n",
        "print(\"Tipos APÓS a conversão\\n\",melted_df.dtypes)"
      ]
    },
    {
      "cell_type": "markdown",
      "metadata": {
        "id": "bH8YwRZKO1vo"
      },
      "source": [
        "### to_datetime"
      ]
    },
    {
      "cell_type": "code",
      "execution_count": null,
      "metadata": {
        "colab": {
          "base_uri": "https://localhost:8080/",
          "height": 293
        },
        "id": "PS5GO5J1NH7E",
        "outputId": "6b45c062-eaa7-4408-af1a-882bc73ec02f"
      },
      "outputs": [
        {
          "name": "stdout",
          "output_type": "stream",
          "text": [
            "Country               object\n",
            "Year                   int64\n",
            "Population           float64\n",
            "Year_date     datetime64[ns]\n",
            "dtype: object\n"
          ]
        },
        {
          "data": {
            "text/html": [
              "<div>\n",
              "<style scoped>\n",
              "    .dataframe tbody tr th:only-of-type {\n",
              "        vertical-align: middle;\n",
              "    }\n",
              "\n",
              "    .dataframe tbody tr th {\n",
              "        vertical-align: top;\n",
              "    }\n",
              "\n",
              "    .dataframe thead th {\n",
              "        text-align: right;\n",
              "    }\n",
              "</style>\n",
              "<table border=\"1\" class=\"dataframe\">\n",
              "  <thead>\n",
              "    <tr style=\"text-align: right;\">\n",
              "      <th></th>\n",
              "      <th>Country</th>\n",
              "      <th>Year</th>\n",
              "      <th>Population</th>\n",
              "      <th>Year_date</th>\n",
              "    </tr>\n",
              "  </thead>\n",
              "  <tbody>\n",
              "    <tr>\n",
              "      <th>0</th>\n",
              "      <td>USA</td>\n",
              "      <td>2000</td>\n",
              "      <td>0.281422</td>\n",
              "      <td>2000-01-01</td>\n",
              "    </tr>\n",
              "    <tr>\n",
              "      <th>1</th>\n",
              "      <td>China</td>\n",
              "      <td>2000</td>\n",
              "      <td>1.262645</td>\n",
              "      <td>2000-01-01</td>\n",
              "    </tr>\n",
              "    <tr>\n",
              "      <th>2</th>\n",
              "      <td>India</td>\n",
              "      <td>2000</td>\n",
              "      <td>1.056570</td>\n",
              "      <td>2000-01-01</td>\n",
              "    </tr>\n",
              "    <tr>\n",
              "      <th>3</th>\n",
              "      <td>Brazil</td>\n",
              "      <td>2000</td>\n",
              "      <td>0.174469</td>\n",
              "      <td>2000-01-01</td>\n",
              "    </tr>\n",
              "    <tr>\n",
              "      <th>4</th>\n",
              "      <td>Russia</td>\n",
              "      <td>2000</td>\n",
              "      <td>0.014676</td>\n",
              "      <td>2000-01-01</td>\n",
              "    </tr>\n",
              "  </tbody>\n",
              "</table>\n",
              "</div>"
            ],
            "text/plain": [
              "  Country  Year  Population  Year_date\n",
              "0     USA  2000    0.281422 2000-01-01\n",
              "1   China  2000    1.262645 2000-01-01\n",
              "2   India  2000    1.056570 2000-01-01\n",
              "3  Brazil  2000    0.174469 2000-01-01\n",
              "4  Russia  2000    0.014676 2000-01-01"
            ]
          },
          "execution_count": 21,
          "metadata": {},
          "output_type": "execute_result"
        }
      ],
      "source": [
        "# Criando uma nova coluna 'Year_date' e convertendo para tipo de dados datetime\n",
        "melted_df['Year_date'] = pd.to_datetime(melted_df['Year'], format='%Y', errors='coerce')\n",
        "\n",
        "print(melted_df.dtypes)\n",
        "melted_df.head()"
      ]
    },
    {
      "cell_type": "markdown",
      "metadata": {
        "id": "SsB8elskQCFA"
      },
      "source": [
        "## rename"
      ]
    },
    {
      "cell_type": "code",
      "execution_count": null,
      "metadata": {
        "colab": {
          "base_uri": "https://localhost:8080/"
        },
        "id": "3_QBVFZJQJpE",
        "outputId": "db4c9c65-39e4-4347-b57d-170e99500979"
      },
      "outputs": [
        {
          "name": "stdout",
          "output_type": "stream",
          "text": [
            "      Country_Name  Year  Population  Year_date\n",
            "0              USA  2000    0.281422 2000-01-01\n",
            "1            China  2000    1.262645 2000-01-01\n",
            "2            India  2000    1.056570 2000-01-01\n",
            "3           Brazil  2000    0.174469 2000-01-01\n",
            "4           Russia  2000    0.014676 2000-01-01\n",
            "5            Japan  2000    0.126911 2000-01-01\n",
            "6          Germany  2000    0.082431 2000-01-01\n",
            "7   United Kingdom  2000    0.059615 2000-01-01\n",
            "8           France  2000    0.382342 2000-01-01\n",
            "9              USA  2010    0.308746 2010-01-01\n",
            "10           China  2010    1.337705 2010-01-01\n",
            "11           India  2010    1.230985 2010-01-01\n",
            "12          Brazil  2010    0.190756 2010-01-01\n",
            "13          Russia  2010    0.142958 2010-01-01\n",
            "14           Japan  2010    0.128057 2010-01-01\n",
            "15         Germany  2010    0.081802 2010-01-01\n",
            "16  United Kingdom  2010    0.062766 2010-01-01\n",
            "17          France  2010    0.435472 2010-01-01\n",
            "18             USA  2020    0.335946 2020-01-01\n",
            "19           China  2020    1.424798 2020-01-01\n",
            "20           India  2020    1.383112 2020-01-01\n",
            "21          Brazil  2020    0.213196 2020-01-01\n",
            "22          Russia  2020    0.145617 2020-01-01\n",
            "23           Japan  2020    0.125245 2020-01-01\n",
            "24         Germany  2020    0.083329 2020-01-01\n",
            "25  United Kingdom  2020    0.066789 2020-01-01\n",
            "26          France  2020    0.472254 2020-01-01\n"
          ]
        }
      ],
      "source": [
        "# Renomeando a coluna 'Country' para 'Country_Name'\n",
        "renamed_df = melted_df.rename(columns={'Country': 'Country_Name'})\n",
        "\n",
        "print(renamed_df)"
      ]
    },
    {
      "cell_type": "markdown",
      "metadata": {
        "id": "H8aHfx-tT1aM"
      },
      "source": [
        "### sort_values"
      ]
    },
    {
      "cell_type": "code",
      "execution_count": null,
      "metadata": {
        "colab": {
          "base_uri": "https://localhost:8080/"
        },
        "id": "jjyMNt4dT0U2",
        "outputId": "75ad00c7-5c91-4f25-bc62-63d88046d0f3"
      },
      "outputs": [
        {
          "name": "stdout",
          "output_type": "stream",
          "text": [
            "      Country_Name  Year  Population  Year_date\n",
            "19           China  2020    1.424798 2020-01-01\n",
            "20           India  2020    1.383112 2020-01-01\n",
            "10           China  2010    1.337705 2010-01-01\n",
            "1            China  2000    1.262645 2000-01-01\n",
            "11           India  2010    1.230985 2010-01-01\n",
            "2            India  2000    1.056570 2000-01-01\n",
            "26          France  2020    0.472254 2020-01-01\n",
            "17          France  2010    0.435472 2010-01-01\n",
            "8           France  2000    0.382342 2000-01-01\n",
            "18             USA  2020    0.335946 2020-01-01\n",
            "9              USA  2010    0.308746 2010-01-01\n",
            "0              USA  2000    0.281422 2000-01-01\n",
            "21          Brazil  2020    0.213196 2020-01-01\n",
            "12          Brazil  2010    0.190756 2010-01-01\n",
            "3           Brazil  2000    0.174469 2000-01-01\n",
            "22          Russia  2020    0.145617 2020-01-01\n",
            "13          Russia  2010    0.142958 2010-01-01\n",
            "14           Japan  2010    0.128057 2010-01-01\n",
            "5            Japan  2000    0.126911 2000-01-01\n",
            "23           Japan  2020    0.125245 2020-01-01\n",
            "24         Germany  2020    0.083329 2020-01-01\n",
            "6          Germany  2000    0.082431 2000-01-01\n",
            "15         Germany  2010    0.081802 2010-01-01\n",
            "25  United Kingdom  2020    0.066789 2020-01-01\n",
            "16  United Kingdom  2010    0.062766 2010-01-01\n",
            "7   United Kingdom  2000    0.059615 2000-01-01\n",
            "4           Russia  2000    0.014676 2000-01-01\n"
          ]
        }
      ],
      "source": [
        "# Ordenando o DataFrame por 'Population_2010' em ordem decrescente\n",
        "sorted_df = renamed_df.sort_values(by='Population', ascending=False)\n",
        "\n",
        "print(sorted_df)"
      ]
    },
    {
      "cell_type": "markdown",
      "metadata": {
        "id": "iJqHEUKAU1tV"
      },
      "source": [
        "### reset_index"
      ]
    },
    {
      "cell_type": "code",
      "execution_count": null,
      "metadata": {
        "colab": {
          "base_uri": "https://localhost:8080/"
        },
        "id": "hcZjElhpU00D",
        "outputId": "ea40270f-1444-4e96-a8bb-8c16e174d0f0"
      },
      "outputs": [
        {
          "name": "stdout",
          "output_type": "stream",
          "text": [
            "      Country_Name  Year  Population  Year_date\n",
            "0            China  2020    1.424798 2020-01-01\n",
            "1            India  2020    1.383112 2020-01-01\n",
            "2            China  2010    1.337705 2010-01-01\n",
            "3            China  2000    1.262645 2000-01-01\n",
            "4            India  2010    1.230985 2010-01-01\n",
            "5            India  2000    1.056570 2000-01-01\n",
            "6           France  2020    0.472254 2020-01-01\n",
            "7           France  2010    0.435472 2010-01-01\n",
            "8           France  2000    0.382342 2000-01-01\n",
            "9              USA  2020    0.335946 2020-01-01\n",
            "10             USA  2010    0.308746 2010-01-01\n",
            "11             USA  2000    0.281422 2000-01-01\n",
            "12          Brazil  2020    0.213196 2020-01-01\n",
            "13          Brazil  2010    0.190756 2010-01-01\n",
            "14          Brazil  2000    0.174469 2000-01-01\n",
            "15          Russia  2020    0.145617 2020-01-01\n",
            "16          Russia  2010    0.142958 2010-01-01\n",
            "17           Japan  2010    0.128057 2010-01-01\n",
            "18           Japan  2000    0.126911 2000-01-01\n",
            "19           Japan  2020    0.125245 2020-01-01\n",
            "20         Germany  2020    0.083329 2020-01-01\n",
            "21         Germany  2000    0.082431 2000-01-01\n",
            "22         Germany  2010    0.081802 2010-01-01\n",
            "23  United Kingdom  2020    0.066789 2020-01-01\n",
            "24  United Kingdom  2010    0.062766 2010-01-01\n",
            "25  United Kingdom  2000    0.059615 2000-01-01\n",
            "26          Russia  2000    0.014676 2000-01-01\n"
          ]
        }
      ],
      "source": [
        "# Resetando o índice\n",
        "reset_df = sorted_df.reset_index(drop=True)\n",
        "print(reset_df)"
      ]
    },
    {
      "cell_type": "markdown",
      "metadata": {
        "id": "dPPMVMtmVLeI"
      },
      "source": [
        "### set_index"
      ]
    },
    {
      "cell_type": "code",
      "execution_count": null,
      "metadata": {
        "colab": {
          "base_uri": "https://localhost:8080/"
        },
        "id": "vqIaJ3EJVKXn",
        "outputId": "dd05f84f-eb5a-4399-c5e2-8c49e7f0d168"
      },
      "outputs": [
        {
          "name": "stdout",
          "output_type": "stream",
          "text": [
            "                Year  Population  Year_date\n",
            "Country_Name                               \n",
            "China           2020    1.424798 2020-01-01\n",
            "India           2020    1.383112 2020-01-01\n",
            "China           2010    1.337705 2010-01-01\n",
            "China           2000    1.262645 2000-01-01\n",
            "India           2010    1.230985 2010-01-01\n",
            "India           2000    1.056570 2000-01-01\n",
            "France          2020    0.472254 2020-01-01\n",
            "France          2010    0.435472 2010-01-01\n",
            "France          2000    0.382342 2000-01-01\n",
            "USA             2020    0.335946 2020-01-01\n",
            "USA             2010    0.308746 2010-01-01\n",
            "USA             2000    0.281422 2000-01-01\n",
            "Brazil          2020    0.213196 2020-01-01\n",
            "Brazil          2010    0.190756 2010-01-01\n",
            "Brazil          2000    0.174469 2000-01-01\n",
            "Russia          2020    0.145617 2020-01-01\n",
            "Russia          2010    0.142958 2010-01-01\n",
            "Japan           2010    0.128057 2010-01-01\n",
            "Japan           2000    0.126911 2000-01-01\n",
            "Japan           2020    0.125245 2020-01-01\n",
            "Germany         2020    0.083329 2020-01-01\n",
            "Germany         2000    0.082431 2000-01-01\n",
            "Germany         2010    0.081802 2010-01-01\n",
            "United Kingdom  2020    0.066789 2020-01-01\n",
            "United Kingdom  2010    0.062766 2010-01-01\n",
            "United Kingdom  2000    0.059615 2000-01-01\n",
            "Russia          2000    0.014676 2000-01-01\n"
          ]
        }
      ],
      "source": [
        "# Definindo 'Country_Name' como o novo índice\n",
        "indexed_df = reset_df.set_index('Country_Name')\n",
        "print(indexed_df)"
      ]
    },
    {
      "cell_type": "markdown",
      "metadata": {
        "id": "Gj_rR8gOWTvV"
      },
      "source": [
        "### merge"
      ]
    },
    {
      "cell_type": "code",
      "execution_count": null,
      "metadata": {
        "colab": {
          "base_uri": "https://localhost:8080/"
        },
        "id": "P_AzELA5WS49",
        "outputId": "ca951e26-deaa-4b26-9a1f-f75eb4ba3db6"
      },
      "outputs": [
        {
          "name": "stdout",
          "output_type": "stream",
          "text": [
            "Segundo data Frame\n",
            "  Country_Name Continent\n",
            "0          USA   America\n",
            "1        China      Asia\n",
            "2        India      Asia\n",
            "3       Brazil   America\n",
            "\n",
            "\n",
            "DataFrame após o Merge\n",
            "   Country_Name  Year  Population  Year_date Continent\n",
            "0         China  2020    1.424798 2020-01-01      Asia\n",
            "1         India  2020    1.383112 2020-01-01      Asia\n",
            "2         China  2010    1.337705 2010-01-01      Asia\n",
            "3         China  2000    1.262645 2000-01-01      Asia\n",
            "4         India  2010    1.230985 2010-01-01      Asia\n",
            "5         India  2000    1.056570 2000-01-01      Asia\n",
            "6           USA  2020    0.335946 2020-01-01   America\n",
            "7           USA  2010    0.308746 2010-01-01   America\n",
            "8           USA  2000    0.281422 2000-01-01   America\n",
            "9        Brazil  2020    0.213196 2020-01-01   America\n",
            "10       Brazil  2010    0.190756 2010-01-01   America\n",
            "11       Brazil  2000    0.174469 2000-01-01   America\n"
          ]
        }
      ],
      "source": [
        "# Criando um segundo DataFrame para junção\n",
        "continent = {'Country_Name': ['USA', 'China', 'India', 'Brazil'],\n",
        "         'Continent': [\"America\", \"Asia\", \"Asia\", \"America\"]}\n",
        "df_continent = pd.DataFrame(continent)\n",
        "print(\"Segundo data Frame\")\n",
        "print(df_continent)\n",
        "\n",
        "# Realizando a junção com base na coluna 'Country'\n",
        "merged_df = pd.merge(reset_df, df_continent, on='Country_Name')\n",
        "\n",
        "print(\"\\n\\nDataFrame após o Merge\")\n",
        "print(merged_df)"
      ]
    },
    {
      "cell_type": "markdown",
      "metadata": {
        "id": "hWXXhz4XXaVm"
      },
      "source": [
        "#### Agora com todos os países"
      ]
    },
    {
      "cell_type": "code",
      "execution_count": null,
      "metadata": {
        "colab": {
          "base_uri": "https://localhost:8080/"
        },
        "id": "WUUYEKagW-nK",
        "outputId": "eff4ee7c-f299-4a7c-c792-be37877173f1"
      },
      "outputs": [
        {
          "name": "stdout",
          "output_type": "stream",
          "text": [
            "      Country_Name  Year  Population  Year_date Continent\n",
            "0            China  2020    1.424798 2020-01-01      Asia\n",
            "1            India  2020    1.383112 2020-01-01      Asia\n",
            "2            China  2010    1.337705 2010-01-01      Asia\n",
            "3            China  2000    1.262645 2000-01-01      Asia\n",
            "4            India  2010    1.230985 2010-01-01      Asia\n",
            "5            India  2000    1.056570 2000-01-01      Asia\n",
            "6           France  2020    0.472254 2020-01-01    Europe\n",
            "7           France  2010    0.435472 2010-01-01    Europe\n",
            "8           France  2000    0.382342 2000-01-01    Europe\n",
            "9              USA  2020    0.335946 2020-01-01   America\n",
            "10             USA  2010    0.308746 2010-01-01   America\n",
            "11             USA  2000    0.281422 2000-01-01   America\n",
            "12          Brazil  2020    0.213196 2020-01-01   America\n",
            "13          Brazil  2010    0.190756 2010-01-01   America\n",
            "14          Brazil  2000    0.174469 2000-01-01   America\n",
            "15          Russia  2020    0.145617 2020-01-01      Asia\n",
            "16          Russia  2010    0.142958 2010-01-01      Asia\n",
            "17           Japan  2010    0.128057 2010-01-01      Asia\n",
            "18           Japan  2000    0.126911 2000-01-01      Asia\n",
            "19           Japan  2020    0.125245 2020-01-01      Asia\n",
            "20         Germany  2020    0.083329 2020-01-01    Europe\n",
            "21         Germany  2000    0.082431 2000-01-01    Europe\n",
            "22         Germany  2010    0.081802 2010-01-01    Europe\n",
            "23  United Kingdom  2020    0.066789 2020-01-01    Europe\n",
            "24  United Kingdom  2010    0.062766 2010-01-01    Europe\n",
            "25  United Kingdom  2000    0.059615 2000-01-01    Europe\n",
            "26          Russia  2000    0.014676 2000-01-01      Asia\n"
          ]
        }
      ],
      "source": [
        "# Criando um segundo DataFrame para junção\n",
        "continent = {'Country_Name': ['USA', 'China', 'India', 'Brazil', 'France','Russia','Japan','Germany','United Kingdom'],\n",
        "         'Continent': [\"America\", \"Asia\", \"Asia\", \"America\",\"Europe\",\"Asia\",\"Asia\",\"Europe\",\"Europe\"]}\n",
        "df_continent = pd.DataFrame(continent)\n",
        "\n",
        "# Realizando a junção com base na coluna 'Country_Name'\n",
        "merged_df = pd.merge(reset_df, df_continent, on='Country_Name')\n",
        "\n",
        "print(merged_df)"
      ]
    },
    {
      "cell_type": "markdown",
      "metadata": {
        "id": "h-gSUbJPVlRk"
      },
      "source": [
        "### group_by"
      ]
    },
    {
      "cell_type": "code",
      "execution_count": null,
      "metadata": {
        "colab": {
          "base_uri": "https://localhost:8080/"
        },
        "id": "CgvAwUR7VkLX",
        "outputId": "4f810182-d4d9-41d3-c5b5-4e772b343e00"
      },
      "outputs": [
        {
          "name": "stdout",
          "output_type": "stream",
          "text": [
            "Continent\n",
            "America    1.504534\n",
            "Asia       8.379280\n",
            "Europe     1.726801\n",
            "Name: Population, dtype: float64\n"
          ]
        }
      ],
      "source": [
        "# Agrupando por 'Year' e calculando a soma da população\n",
        "grouped_df = merged_df.groupby('Continent')['Population'].sum()\n",
        "\n",
        "print(grouped_df)"
      ]
    },
    {
      "cell_type": "markdown",
      "metadata": {
        "id": "FOpa7XTUVxMF"
      },
      "source": [
        "### crosstab *frequência*"
      ]
    },
    {
      "cell_type": "code",
      "execution_count": null,
      "metadata": {
        "colab": {
          "base_uri": "https://localhost:8080/"
        },
        "id": "hQAhI3Q-Vwml",
        "outputId": "fbbbdccf-7da4-473a-b38c-0760d871fc8f"
      },
      "outputs": [
        {
          "name": "stdout",
          "output_type": "stream",
          "text": [
            "Year       2000  2010  2020\n",
            "Continent                  \n",
            "America       2     2     2\n",
            "Asia          4     4     4\n",
            "Europe        3     3     3\n"
          ]
        }
      ],
      "source": [
        "# Calculando uma tabulação cruzada entre 'Country' e 'Year'\n",
        "cross_tab = pd.crosstab(merged_df['Continent'], merged_df['Year'])\n",
        "\n",
        "print(cross_tab)"
      ]
    },
    {
      "cell_type": "markdown",
      "metadata": {
        "id": "c4ARSikTYNlE"
      },
      "source": [
        "### crosstab *média*"
      ]
    },
    {
      "cell_type": "code",
      "execution_count": null,
      "metadata": {
        "colab": {
          "base_uri": "https://localhost:8080/"
        },
        "id": "XYXCTdD2XysC",
        "outputId": "209b3a22-2bff-461c-dc41-b85cd08fd7a3"
      },
      "outputs": [
        {
          "name": "stdout",
          "output_type": "stream",
          "text": [
            "Year           2000      2010      2020\n",
            "Continent                              \n",
            "America    0.227945  0.249751  0.274571\n",
            "Asia       0.615201  0.709926  0.769693\n",
            "Europe     0.174796  0.193347  0.207457\n"
          ]
        }
      ],
      "source": [
        "# Calculando uma tabulação cruzada entre 'Country' e 'Year'\n",
        "cross_tab = pd.crosstab(merged_df['Continent'], merged_df['Year'],values=merged_df['Population'],aggfunc=\"mean\")\n",
        "\n",
        "print(cross_tab)"
      ]
    },
    {
      "cell_type": "markdown",
      "metadata": {
        "id": "UaDgzv-AYWZO"
      },
      "source": [
        "### pivot_table"
      ]
    },
    {
      "cell_type": "code",
      "execution_count": null,
      "metadata": {
        "colab": {
          "base_uri": "https://localhost:8080/"
        },
        "id": "GuUxZhWbYV1B",
        "outputId": "afa80c49-9056-4a08-8ed1-b1688df7647f"
      },
      "outputs": [
        {
          "name": "stdout",
          "output_type": "stream",
          "text": [
            "Year           2000      2010      2020\n",
            "Continent                              \n",
            "America    0.227945  0.249751  0.274571\n",
            "Asia       0.615201  0.709926  0.769693\n",
            "Europe     0.174796  0.193347  0.207457\n"
          ]
        }
      ],
      "source": [
        "# Criando uma tabela dinâmica com 'Country' como índice, 'Year' como colunas e 'Population_2010' como valores\n",
        "pivot_df = merged_df.pivot_table(index='Continent', columns='Year', values='Population', aggfunc='mean')\n",
        "\n",
        "print(pivot_df)"
      ]
    },
    {
      "cell_type": "markdown",
      "metadata": {
        "id": "FD_9YSToY0zM"
      },
      "source": [
        "### Multi-Index"
      ]
    },
    {
      "cell_type": "markdown",
      "metadata": {
        "id": "ndBO-EvGZ5yc"
      },
      "source": [
        "The main difference between crosstab() and pivot_table() in Pandas lies in their intended use and the flexibility they offer for data aggregation and summarization:\n",
        "\n",
        "```crosstab()``` is specifically designed for computing a cross-tabulation of two or more factors.\n",
        "It provides a convenient way to calculate frequency counts of specific factors in the DataFrame.\n",
        "It is a specialized function mainly used for computing simple frequency tables.\n",
        "\n",
        "```pivot_table()``` is a more general-purpose function that creates a spreadsheet-style pivot table as a DataFrame.\n",
        "It allows for more flexibility in specifying index, columns, and aggregation functions.\n",
        "It is more powerful and versatile than crosstab() as it can handle more complex data reshaping and aggregation tasks.\n",
        "It can handle missing values more gracefully by providing options for handling them during aggregation.\n",
        "In summary, while both crosstab() and pivot_table() can be used for reshaping and summarizing data, crosstab() is specialized for computing frequency tables, while pivot_table() is a more general tool for creating pivot tables with more flexibility in data aggregation and handling missing values."
      ]
    },
    {
      "cell_type": "code",
      "execution_count": null,
      "metadata": {
        "colab": {
          "base_uri": "https://localhost:8080/"
        },
        "id": "JPTtg3pHYtDy",
        "outputId": "0efdbfbd-40dc-4162-f0b1-7b36c32e5327"
      },
      "outputs": [
        {
          "name": "stdout",
          "output_type": "stream",
          "text": [
            "Year                          2000      2010      2020\n",
            "Continent Country_Name                                \n",
            "America   Brazil          0.174469  0.190756  0.213196\n",
            "          USA             0.281422  0.308746  0.335946\n",
            "Asia      China           1.262645  1.337705  1.424798\n",
            "          India           1.056570  1.230985  1.383112\n",
            "          Japan           0.126911  0.128057  0.125245\n",
            "          Russia          0.014676  0.142958  0.145617\n",
            "Europe    France          0.382342  0.435472  0.472254\n",
            "          Germany         0.082431  0.081802  0.083329\n",
            "          United Kingdom  0.059615  0.062766  0.066789\n"
          ]
        }
      ],
      "source": [
        "# Criando uma tabela dinâmica com 'Country' e 'Continent' como índices, 'Year' como colunas e 'Population_2010' como valores\n",
        "pivot_df = merged_df.pivot_table(index=['Continent','Country_Name'], columns='Year', values='Population', aggfunc='mean')\n",
        "\n",
        "print(pivot_df)"
      ]
    },
    {
      "cell_type": "markdown",
      "metadata": {
        "id": "YTvo16_Na9oY"
      },
      "source": [
        "### resample"
      ]
    },
    {
      "cell_type": "code",
      "execution_count": null,
      "metadata": {
        "colab": {
          "base_uri": "https://localhost:8080/"
        },
        "id": "h5nfbCKZb9U1",
        "outputId": "41809e92-cf8c-4868-9fb9-86cb3b617473"
      },
      "outputs": [
        {
          "name": "stdout",
          "output_type": "stream",
          "text": [
            "Data Frame pronto para o resample, mas com os anos faltando\n",
            "           Country_Name  Year  Population Continent\n",
            "Year_date                                          \n",
            "2020-12-31       Brazil  2020    0.213196   America\n",
            "2010-12-31       Brazil  2010    0.190756   America\n",
            "2000-12-31       Brazil  2000    0.174469   America\n"
          ]
        },
        {
          "name": "stderr",
          "output_type": "stream",
          "text": [
            "/var/folders/fr/1byq_zn551q9hcfd9_hhlv5h0000gn/T/ipykernel_15279/3446776318.py:5: SettingWithCopyWarning: \n",
            "A value is trying to be set on a copy of a slice from a DataFrame.\n",
            "Try using .loc[row_indexer,col_indexer] = value instead\n",
            "\n",
            "See the caveats in the documentation: https://pandas.pydata.org/pandas-docs/stable/user_guide/indexing.html#returning-a-view-versus-a-copy\n",
            "  br_df['Year_date'] = pd.to_datetime(br_df['Year'].astype(str) + '-12-31', format='%Y-%m-%d', errors='coerce')\n"
          ]
        }
      ],
      "source": [
        "#Chose a country\n",
        "br_df = merged_df[merged_df[\"Country_Name\"]==\"Brazil\"]\n",
        "\n",
        "# set Date at the end of the Year\n",
        "br_df['Year_date'] = pd.to_datetime(br_df['Year'].astype(str) + '-12-31', format='%Y-%m-%d', errors='coerce')\n",
        "\n",
        "# set Index\n",
        "br_df.set_index('Year_date', inplace=True)\n",
        "\n",
        "print(\"Data Frame pronto para o resample, mas com os anos faltando\")\n",
        "print(br_df)"
      ]
    },
    {
      "cell_type": "code",
      "execution_count": null,
      "metadata": {
        "colab": {
          "base_uri": "https://localhost:8080/"
        },
        "id": "KmBQdTyIy3ef",
        "outputId": "2ee451da-902d-4477-d3e9-742b04d9c25c"
      },
      "outputs": [
        {
          "name": "stdout",
          "output_type": "stream",
          "text": [
            "\n",
            "\n",
            "Data Frame com os valores numéricos interpolados\n",
            "<bound method NDFrame.head of            Country_Name    Year  Population Continent\n",
            "Year_date                                            \n",
            "2000-12-31       Brazil  2000.0    0.174469   America\n",
            "2001-12-31          NaN  2001.0    0.176097       NaN\n",
            "2002-12-31          NaN  2002.0    0.177726       NaN\n",
            "2003-12-31          NaN  2003.0    0.179355       NaN\n",
            "2004-12-31          NaN  2004.0    0.180983       NaN\n",
            "2005-12-31          NaN  2005.0    0.182612       NaN\n",
            "2006-12-31          NaN  2006.0    0.184241       NaN\n",
            "2007-12-31          NaN  2007.0    0.185870       NaN\n",
            "2008-12-31          NaN  2008.0    0.187498       NaN\n",
            "2009-12-31          NaN  2009.0    0.189127       NaN\n",
            "2010-12-31       Brazil  2010.0    0.190756   America\n",
            "2011-12-31          NaN  2011.0    0.193000       NaN\n",
            "2012-12-31          NaN  2012.0    0.195244       NaN\n",
            "2013-12-31          NaN  2013.0    0.197488       NaN\n",
            "2014-12-31          NaN  2014.0    0.199732       NaN\n",
            "2015-12-31          NaN  2015.0    0.201976       NaN\n",
            "2016-12-31          NaN  2016.0    0.204220       NaN\n",
            "2017-12-31          NaN  2017.0    0.206464       NaN\n",
            "2018-12-31          NaN  2018.0    0.208708       NaN\n",
            "2019-12-31          NaN  2019.0    0.210952       NaN\n",
            "2020-12-31       Brazil  2020.0    0.213196   America>\n"
          ]
        },
        {
          "name": "stderr",
          "output_type": "stream",
          "text": [
            "/var/folders/fr/1byq_zn551q9hcfd9_hhlv5h0000gn/T/ipykernel_15279/3071040946.py:3: FutureWarning: 'Y' is deprecated and will be removed in a future version, please use 'YE' instead.\n",
            "  df_yearly = br_df.resample('Y').interpolate('linear')  # Resample yearly data to monthly and fill missing values\n",
            "/var/folders/fr/1byq_zn551q9hcfd9_hhlv5h0000gn/T/ipykernel_15279/3071040946.py:3: FutureWarning: DataFrame.interpolate with object dtype is deprecated and will raise in a future version. Call obj.infer_objects(copy=False) before interpolating instead.\n",
            "  df_yearly = br_df.resample('Y').interpolate('linear')  # Resample yearly data to monthly and fill missing values\n"
          ]
        }
      ],
      "source": [
        "# Resample from 10-year to yearly frequency\n",
        "# Interpolate to distribute yearly values evenly across years\n",
        "df_yearly = br_df.resample('Y').interpolate('linear')  # Resample yearly data to monthly and fill missing values\n",
        "print(\"\\n\\nData Frame com os valores numéricos interpolados\")\n",
        "print(df_yearly.head)"
      ]
    },
    {
      "cell_type": "code",
      "execution_count": null,
      "metadata": {
        "colab": {
          "base_uri": "https://localhost:8080/"
        },
        "id": "UxaciVrLy6hu",
        "outputId": "aece5153-7657-4a92-a356-4cdc290af7c4"
      },
      "outputs": [
        {
          "name": "stdout",
          "output_type": "stream",
          "text": [
            "\n",
            "\n",
            "Data Frame completo\n",
            "           Country_Name    Year  Population Continent\n",
            "Year_date                                            \n",
            "2000-12-31       Brazil  2000.0    0.174469   America\n",
            "2001-12-31       Brazil  2001.0    0.176097   America\n",
            "2002-12-31       Brazil  2002.0    0.177726   America\n",
            "2003-12-31       Brazil  2003.0    0.179355   America\n",
            "2004-12-31       Brazil  2004.0    0.180983   America\n",
            "2005-12-31       Brazil  2005.0    0.182612   America\n",
            "2006-12-31       Brazil  2006.0    0.184241   America\n",
            "2007-12-31       Brazil  2007.0    0.185870   America\n",
            "2008-12-31       Brazil  2008.0    0.187498   America\n",
            "2009-12-31       Brazil  2009.0    0.189127   America\n",
            "2010-12-31       Brazil  2010.0    0.190756   America\n",
            "2011-12-31       Brazil  2011.0    0.193000   America\n",
            "2012-12-31       Brazil  2012.0    0.195244   America\n",
            "2013-12-31       Brazil  2013.0    0.197488   America\n",
            "2014-12-31       Brazil  2014.0    0.199732   America\n",
            "2015-12-31       Brazil  2015.0    0.201976   America\n",
            "2016-12-31       Brazil  2016.0    0.204220   America\n",
            "2017-12-31       Brazil  2017.0    0.206464   America\n",
            "2018-12-31       Brazil  2018.0    0.208708   America\n",
            "2019-12-31       Brazil  2019.0    0.210952   America\n",
            "2020-12-31       Brazil  2020.0    0.213196   America\n"
          ]
        }
      ],
      "source": [
        "# Forward fill 'Country_Name' and 'Continent' column\n",
        "non_numeric_columns=df_yearly.select_dtypes(include='object').columns\n",
        "df_yearly[non_numeric_columns] = df_yearly[non_numeric_columns].ffill()\n",
        "\n",
        "print(\"\\n\\nData Frame completo\")\n",
        "print(df_yearly)"
      ]
    },
    {
      "cell_type": "markdown",
      "metadata": {
        "id": "JUVMwRnSQUQG"
      },
      "source": [
        "## Referências\n",
        "\n",
        "| Método           | Descrição                                         | Link na Documentação                                           |\n",
        "|------------------|---------------------------------------------------|---------------------------------------------------------------|\n",
        "| apply()          | Aplica uma função ao longo de um eixo do DataFrame | [apply()](https://pandas.pydata.org/docs/reference/api/pandas.DataFrame.apply.html) |\n",
        "| astype()         | Converte o tipo de dados de uma Series           | [astype()](https://pandas.pydata.org/docs/reference/api/pandas.Series.astype.html) |\n",
        "| concat()         | Concatena DataFrames ao longo de um eixo específico | [concat()](https://pandas.pydata.org/docs/reference/api/pandas.concat.html) |\n",
        "| crosstab()       | Calcula uma tabulação cruzada de dois ou mais fatores | [crosstab()](https://pandas.pydata.org/docs/reference/api/pandas.crosstab.html) |\n",
        "| drop()           | Descarta rótulos especificados de linhas ou colunas | [drop()](https://pandas.pydata.org/docs/reference/api/pandas.DataFrame.drop.html) |\n",
        "| drop_duplicates()| Remove linhas duplicadas de um DataFrame         | [drop_duplicates()](https://pandas.pydata.org/docs/reference/api/pandas.DataFrame.drop_duplicates.html) |\n",
        "| fillna()         | Preenche valores NA/Nan usando o método especificado | [fillna()](https://pandas.pydata.org/docs/reference/api/pandas.DataFrame.fillna.html) |\n",
        "| ffill()          | Preenche os valores ausentes para a frente usando o último valor válido conhecido | [ffill()](https://pandas.pydata.org/docs/reference/api/pandas.DataFrame.ffill.html) |\n",
        "| groupby()        | Agrupa DataFrame usando um mapeador ou por uma Series de colunas | [groupby()](https://pandas.pydata.org/docs/reference/api/pandas.DataFrame.groupby.html) |\n",
        "| iloc[]           | Acessa um grupo de linhas e colunas por posição inteira | [iloc[]](https://pandas.pydata.org/docs/reference/api/pandas.DataFrame.iloc.html) |\n",
        "| interpolate()    | Preenche valores NA/Nan interpolando entre valores válidos conhecidos | [interpolate()](https://pandas.pydata.org/docs/reference/api/pandas.DataFrame.interpolate.html) |\n",
        "| isin()           | Verifica se os elementos de um DataFrame estão contidos em outro DataFrame ou Series | [isin()](https://pandas.pydata.org/docs/reference/api/pandas.DataFrame.isin.html) |\n",
        "| loc[]            | Acessa um grupo de linhas e colunas por rótulos  | [loc[]](https://pandas.pydata.org/docs/reference/api/pandas.DataFrame.loc.html) |\n",
        "| merge()          | Junta objetos DataFrame realizando uma operação de junção estilo banco de dados | [merge()](https://pandas.pydata.org/docs/reference/api/pandas.merge.html) |\n",
        "| melt()           | Despivota um DataFrame de formato largo para longo | [melt()](https://pandas.pydata.org/docs/reference/api/pandas.melt.html) |\n",
        "| pivot_table()    | Cria uma tabela dinâmica no estilo de uma planilha como um DataFrame | [pivot_table()](https://pandas.pydata.org/docs/reference/api/pandas.pivot_table.html) |\n",
        "| rename()         | Renomeia colunas ou índices de um DataFrame     | [rename()](https://pandas.pydata.org/docs/reference/api/pandas.DataFrame.rename.html) |\n",
        "| resample()       | Realiza uma amostragem temporal em uma série de dados | [resample()](https://pandas.pydata.org/docs/reference/api/pandas.DataFrame.resample.html) |\n",
        "| reset_index()    | Redefine o índice de um DataFrame para o padrão numérico | [reset_index()](https://pandas.pydata.org/docs/reference/api/pandas.DataFrame.reset_index.html) |\n",
        "select_dtypes() |Selecionar colunas do DF segundo o tipo| [select_dtypes()](https://pandas.pydata.org/docs/reference/api/pandas.DataFrame.select_dtypes.html)|\n",
        "| set_index()      | Define o índice do DataFrame usando colunas existentes | [set_index()](https://pandas.pydata.org/docs/reference/api/pandas.DataFrame.set_index.html) |\n",
        "| sort_values()    | Ordena DataFrame pelos valores ao longo de um eixo específico | [sort_values()](https://pandas.pydata.org/docs/reference/api/pandas.DataFrame.sort_values.html) |\n",
        "| to_datetime()    | Converte argumento para datetime                 | [to_datetime()](https://pandas.pydata.org/docs/reference/api/pandas.to_datetime.html) |\n",
        "| unique()         | Obtém valores únicos em uma Series               | [unique()](https://pandas.pydata.org/docs/reference/api/pandas.Series.unique.html) |\n",
        "| value_counts()   | Conta valores únicos em uma Series               | [value_counts()](https://pandas.pydata.org/docs/reference/api/pandas.Series.value_counts.html) |\n",
        "\n",
        "\n",
        "## Autores\n",
        "\n",
        "<a href=\"https://www.linkedin.com/in/eduardopecora/\" target=\"_blank\">Eduardo Pecora</a>\n",
        "\n",
        "## Log de modificações\n",
        "\n",
        "| Data | Versão | Modificado por | Descrição |\n",
        "| -----------| ------- | ---------- | ---------------------------------- |\n",
        "| 13-05-2024       | 1.0   | Eduardo Pecora    | Estrutura Aula        |\n",
        "\n",
        "<h3 align=\"center\"> (c) Eduardo Pécora/ UFPR 2024. All rights reserved. <h3/>\n"
      ]
    }
  ],
  "metadata": {
    "colab": {
      "provenance": []
    },
    "kernelspec": {
      "display_name": "Python 3 (ipykernel)",
      "language": "python",
      "name": "python3"
    },
    "language_info": {
      "codemirror_mode": {
        "name": "ipython",
        "version": 3
      },
      "file_extension": ".py",
      "mimetype": "text/x-python",
      "name": "python",
      "nbconvert_exporter": "python",
      "pygments_lexer": "ipython3",
      "version": "3.10.14"
    }
  },
  "nbformat": 4,
  "nbformat_minor": 0
}