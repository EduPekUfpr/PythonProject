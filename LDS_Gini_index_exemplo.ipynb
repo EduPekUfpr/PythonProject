{
  "cells": [
    {
      "cell_type": "markdown",
      "source": [
        "<p style =\"text-align:center\">\n",
        "    <img src=\"http://epecora.com.br/DataFiles/BannerUFPR.png\" width=\"700\" alt=\"PPGOLD/PPGMNE Python:INTRO\"  />\n",
        "</p>\n",
        "\n",
        "\n",
        "# SAOP09 - Data Science For Business\n",
        "## Prof. Eduardo Pécora\n",
        "\n",
        "# **Gini Index**\n",
        "Tempo estimado: **30** minutos\n",
        "\n",
        "## Objetivos\n",
        "\n",
        "Após completar esta aula, você será capaz de:\n",
        "\n",
        "* Entender como é calculado o Gini Index\n",
        "* Usar o Gini na separação de conjuntos\n",
        "\n",
        "\n",
        "### Dados\n",
        "\n",
        "Esse código usa o DataFrame fictício sobre a escolha de cervejas, com os atributos:\n",
        "\n",
        "* IBU (amargor),\n",
        "* Teor_Alcool (em %),\n",
        "* Cor_SRM (que é depois categorizada em Clara ou Escura), e\n",
        "* Aceita (classe: “Sim” ou “Não”)."
      ],
      "metadata": {
        "id": "WrqJfSTqxMtG"
      },
      "id": "WrqJfSTqxMtG"
    },
    {
      "cell_type": "code",
      "execution_count": 98,
      "id": "71fcb88f",
      "metadata": {
        "colab": {
          "base_uri": "https://localhost:8080/",
          "height": 363
        },
        "id": "71fcb88f",
        "outputId": "50b75103-aa9d-44f7-dc17-35f01a9512c8"
      },
      "outputs": [
        {
          "output_type": "execute_result",
          "data": {
            "text/plain": [
              "   IBU  Teor_Alcool     Cor Aceita\n",
              "0   15          6.2   Clara    Sim\n",
              "1   60          4.5   Clara    Não\n",
              "2   20          4.8   Clara    Sim\n",
              "3   35          7.0  Escura    Não\n",
              "4   35          5.5   Clara    Não\n",
              "5   80          8.0  Escura    Não\n",
              "6   10          4.0   Clara    Sim\n",
              "7   70          6.2  Escura    Sim\n",
              "8   25          5.0   Clara    Sim\n",
              "9   35          6.8  Escura    Não"
            ],
            "text/html": [
              "\n",
              "  <div id=\"df-4f0bf93e-abdd-48f0-8dc1-0827d3ae6d24\" class=\"colab-df-container\">\n",
              "    <div>\n",
              "<style scoped>\n",
              "    .dataframe tbody tr th:only-of-type {\n",
              "        vertical-align: middle;\n",
              "    }\n",
              "\n",
              "    .dataframe tbody tr th {\n",
              "        vertical-align: top;\n",
              "    }\n",
              "\n",
              "    .dataframe thead th {\n",
              "        text-align: right;\n",
              "    }\n",
              "</style>\n",
              "<table border=\"1\" class=\"dataframe\">\n",
              "  <thead>\n",
              "    <tr style=\"text-align: right;\">\n",
              "      <th></th>\n",
              "      <th>IBU</th>\n",
              "      <th>Teor_Alcool</th>\n",
              "      <th>Cor</th>\n",
              "      <th>Aceita</th>\n",
              "    </tr>\n",
              "  </thead>\n",
              "  <tbody>\n",
              "    <tr>\n",
              "      <th>0</th>\n",
              "      <td>15</td>\n",
              "      <td>6.2</td>\n",
              "      <td>Clara</td>\n",
              "      <td>Sim</td>\n",
              "    </tr>\n",
              "    <tr>\n",
              "      <th>1</th>\n",
              "      <td>60</td>\n",
              "      <td>4.5</td>\n",
              "      <td>Clara</td>\n",
              "      <td>Não</td>\n",
              "    </tr>\n",
              "    <tr>\n",
              "      <th>2</th>\n",
              "      <td>20</td>\n",
              "      <td>4.8</td>\n",
              "      <td>Clara</td>\n",
              "      <td>Sim</td>\n",
              "    </tr>\n",
              "    <tr>\n",
              "      <th>3</th>\n",
              "      <td>35</td>\n",
              "      <td>7.0</td>\n",
              "      <td>Escura</td>\n",
              "      <td>Não</td>\n",
              "    </tr>\n",
              "    <tr>\n",
              "      <th>4</th>\n",
              "      <td>35</td>\n",
              "      <td>5.5</td>\n",
              "      <td>Clara</td>\n",
              "      <td>Não</td>\n",
              "    </tr>\n",
              "    <tr>\n",
              "      <th>5</th>\n",
              "      <td>80</td>\n",
              "      <td>8.0</td>\n",
              "      <td>Escura</td>\n",
              "      <td>Não</td>\n",
              "    </tr>\n",
              "    <tr>\n",
              "      <th>6</th>\n",
              "      <td>10</td>\n",
              "      <td>4.0</td>\n",
              "      <td>Clara</td>\n",
              "      <td>Sim</td>\n",
              "    </tr>\n",
              "    <tr>\n",
              "      <th>7</th>\n",
              "      <td>70</td>\n",
              "      <td>6.2</td>\n",
              "      <td>Escura</td>\n",
              "      <td>Sim</td>\n",
              "    </tr>\n",
              "    <tr>\n",
              "      <th>8</th>\n",
              "      <td>25</td>\n",
              "      <td>5.0</td>\n",
              "      <td>Clara</td>\n",
              "      <td>Sim</td>\n",
              "    </tr>\n",
              "    <tr>\n",
              "      <th>9</th>\n",
              "      <td>35</td>\n",
              "      <td>6.8</td>\n",
              "      <td>Escura</td>\n",
              "      <td>Não</td>\n",
              "    </tr>\n",
              "  </tbody>\n",
              "</table>\n",
              "</div>\n",
              "    <div class=\"colab-df-buttons\">\n",
              "\n",
              "  <div class=\"colab-df-container\">\n",
              "    <button class=\"colab-df-convert\" onclick=\"convertToInteractive('df-4f0bf93e-abdd-48f0-8dc1-0827d3ae6d24')\"\n",
              "            title=\"Convert this dataframe to an interactive table.\"\n",
              "            style=\"display:none;\">\n",
              "\n",
              "  <svg xmlns=\"http://www.w3.org/2000/svg\" height=\"24px\" viewBox=\"0 -960 960 960\">\n",
              "    <path d=\"M120-120v-720h720v720H120Zm60-500h600v-160H180v160Zm220 220h160v-160H400v160Zm0 220h160v-160H400v160ZM180-400h160v-160H180v160Zm440 0h160v-160H620v160ZM180-180h160v-160H180v160Zm440 0h160v-160H620v160Z\"/>\n",
              "  </svg>\n",
              "    </button>\n",
              "\n",
              "  <style>\n",
              "    .colab-df-container {\n",
              "      display:flex;\n",
              "      gap: 12px;\n",
              "    }\n",
              "\n",
              "    .colab-df-convert {\n",
              "      background-color: #E8F0FE;\n",
              "      border: none;\n",
              "      border-radius: 50%;\n",
              "      cursor: pointer;\n",
              "      display: none;\n",
              "      fill: #1967D2;\n",
              "      height: 32px;\n",
              "      padding: 0 0 0 0;\n",
              "      width: 32px;\n",
              "    }\n",
              "\n",
              "    .colab-df-convert:hover {\n",
              "      background-color: #E2EBFA;\n",
              "      box-shadow: 0px 1px 2px rgba(60, 64, 67, 0.3), 0px 1px 3px 1px rgba(60, 64, 67, 0.15);\n",
              "      fill: #174EA6;\n",
              "    }\n",
              "\n",
              "    .colab-df-buttons div {\n",
              "      margin-bottom: 4px;\n",
              "    }\n",
              "\n",
              "    [theme=dark] .colab-df-convert {\n",
              "      background-color: #3B4455;\n",
              "      fill: #D2E3FC;\n",
              "    }\n",
              "\n",
              "    [theme=dark] .colab-df-convert:hover {\n",
              "      background-color: #434B5C;\n",
              "      box-shadow: 0px 1px 3px 1px rgba(0, 0, 0, 0.15);\n",
              "      filter: drop-shadow(0px 1px 2px rgba(0, 0, 0, 0.3));\n",
              "      fill: #FFFFFF;\n",
              "    }\n",
              "  </style>\n",
              "\n",
              "    <script>\n",
              "      const buttonEl =\n",
              "        document.querySelector('#df-4f0bf93e-abdd-48f0-8dc1-0827d3ae6d24 button.colab-df-convert');\n",
              "      buttonEl.style.display =\n",
              "        google.colab.kernel.accessAllowed ? 'block' : 'none';\n",
              "\n",
              "      async function convertToInteractive(key) {\n",
              "        const element = document.querySelector('#df-4f0bf93e-abdd-48f0-8dc1-0827d3ae6d24');\n",
              "        const dataTable =\n",
              "          await google.colab.kernel.invokeFunction('convertToInteractive',\n",
              "                                                    [key], {});\n",
              "        if (!dataTable) return;\n",
              "\n",
              "        const docLinkHtml = 'Like what you see? Visit the ' +\n",
              "          '<a target=\"_blank\" href=https://colab.research.google.com/notebooks/data_table.ipynb>data table notebook</a>'\n",
              "          + ' to learn more about interactive tables.';\n",
              "        element.innerHTML = '';\n",
              "        dataTable['output_type'] = 'display_data';\n",
              "        await google.colab.output.renderOutput(dataTable, element);\n",
              "        const docLink = document.createElement('div');\n",
              "        docLink.innerHTML = docLinkHtml;\n",
              "        element.appendChild(docLink);\n",
              "      }\n",
              "    </script>\n",
              "  </div>\n",
              "\n",
              "\n",
              "    <div id=\"df-5f12401a-2533-4650-9a71-8925c87f7f07\">\n",
              "      <button class=\"colab-df-quickchart\" onclick=\"quickchart('df-5f12401a-2533-4650-9a71-8925c87f7f07')\"\n",
              "                title=\"Suggest charts\"\n",
              "                style=\"display:none;\">\n",
              "\n",
              "<svg xmlns=\"http://www.w3.org/2000/svg\" height=\"24px\"viewBox=\"0 0 24 24\"\n",
              "     width=\"24px\">\n",
              "    <g>\n",
              "        <path d=\"M19 3H5c-1.1 0-2 .9-2 2v14c0 1.1.9 2 2 2h14c1.1 0 2-.9 2-2V5c0-1.1-.9-2-2-2zM9 17H7v-7h2v7zm4 0h-2V7h2v10zm4 0h-2v-4h2v4z\"/>\n",
              "    </g>\n",
              "</svg>\n",
              "      </button>\n",
              "\n",
              "<style>\n",
              "  .colab-df-quickchart {\n",
              "      --bg-color: #E8F0FE;\n",
              "      --fill-color: #1967D2;\n",
              "      --hover-bg-color: #E2EBFA;\n",
              "      --hover-fill-color: #174EA6;\n",
              "      --disabled-fill-color: #AAA;\n",
              "      --disabled-bg-color: #DDD;\n",
              "  }\n",
              "\n",
              "  [theme=dark] .colab-df-quickchart {\n",
              "      --bg-color: #3B4455;\n",
              "      --fill-color: #D2E3FC;\n",
              "      --hover-bg-color: #434B5C;\n",
              "      --hover-fill-color: #FFFFFF;\n",
              "      --disabled-bg-color: #3B4455;\n",
              "      --disabled-fill-color: #666;\n",
              "  }\n",
              "\n",
              "  .colab-df-quickchart {\n",
              "    background-color: var(--bg-color);\n",
              "    border: none;\n",
              "    border-radius: 50%;\n",
              "    cursor: pointer;\n",
              "    display: none;\n",
              "    fill: var(--fill-color);\n",
              "    height: 32px;\n",
              "    padding: 0;\n",
              "    width: 32px;\n",
              "  }\n",
              "\n",
              "  .colab-df-quickchart:hover {\n",
              "    background-color: var(--hover-bg-color);\n",
              "    box-shadow: 0 1px 2px rgba(60, 64, 67, 0.3), 0 1px 3px 1px rgba(60, 64, 67, 0.15);\n",
              "    fill: var(--button-hover-fill-color);\n",
              "  }\n",
              "\n",
              "  .colab-df-quickchart-complete:disabled,\n",
              "  .colab-df-quickchart-complete:disabled:hover {\n",
              "    background-color: var(--disabled-bg-color);\n",
              "    fill: var(--disabled-fill-color);\n",
              "    box-shadow: none;\n",
              "  }\n",
              "\n",
              "  .colab-df-spinner {\n",
              "    border: 2px solid var(--fill-color);\n",
              "    border-color: transparent;\n",
              "    border-bottom-color: var(--fill-color);\n",
              "    animation:\n",
              "      spin 1s steps(1) infinite;\n",
              "  }\n",
              "\n",
              "  @keyframes spin {\n",
              "    0% {\n",
              "      border-color: transparent;\n",
              "      border-bottom-color: var(--fill-color);\n",
              "      border-left-color: var(--fill-color);\n",
              "    }\n",
              "    20% {\n",
              "      border-color: transparent;\n",
              "      border-left-color: var(--fill-color);\n",
              "      border-top-color: var(--fill-color);\n",
              "    }\n",
              "    30% {\n",
              "      border-color: transparent;\n",
              "      border-left-color: var(--fill-color);\n",
              "      border-top-color: var(--fill-color);\n",
              "      border-right-color: var(--fill-color);\n",
              "    }\n",
              "    40% {\n",
              "      border-color: transparent;\n",
              "      border-right-color: var(--fill-color);\n",
              "      border-top-color: var(--fill-color);\n",
              "    }\n",
              "    60% {\n",
              "      border-color: transparent;\n",
              "      border-right-color: var(--fill-color);\n",
              "    }\n",
              "    80% {\n",
              "      border-color: transparent;\n",
              "      border-right-color: var(--fill-color);\n",
              "      border-bottom-color: var(--fill-color);\n",
              "    }\n",
              "    90% {\n",
              "      border-color: transparent;\n",
              "      border-bottom-color: var(--fill-color);\n",
              "    }\n",
              "  }\n",
              "</style>\n",
              "\n",
              "      <script>\n",
              "        async function quickchart(key) {\n",
              "          const quickchartButtonEl =\n",
              "            document.querySelector('#' + key + ' button');\n",
              "          quickchartButtonEl.disabled = true;  // To prevent multiple clicks.\n",
              "          quickchartButtonEl.classList.add('colab-df-spinner');\n",
              "          try {\n",
              "            const charts = await google.colab.kernel.invokeFunction(\n",
              "                'suggestCharts', [key], {});\n",
              "          } catch (error) {\n",
              "            console.error('Error during call to suggestCharts:', error);\n",
              "          }\n",
              "          quickchartButtonEl.classList.remove('colab-df-spinner');\n",
              "          quickchartButtonEl.classList.add('colab-df-quickchart-complete');\n",
              "        }\n",
              "        (() => {\n",
              "          let quickchartButtonEl =\n",
              "            document.querySelector('#df-5f12401a-2533-4650-9a71-8925c87f7f07 button');\n",
              "          quickchartButtonEl.style.display =\n",
              "            google.colab.kernel.accessAllowed ? 'block' : 'none';\n",
              "        })();\n",
              "      </script>\n",
              "    </div>\n",
              "\n",
              "  <div id=\"id_4cd88a94-3121-4eb2-86a5-591a1e5b572a\">\n",
              "    <style>\n",
              "      .colab-df-generate {\n",
              "        background-color: #E8F0FE;\n",
              "        border: none;\n",
              "        border-radius: 50%;\n",
              "        cursor: pointer;\n",
              "        display: none;\n",
              "        fill: #1967D2;\n",
              "        height: 32px;\n",
              "        padding: 0 0 0 0;\n",
              "        width: 32px;\n",
              "      }\n",
              "\n",
              "      .colab-df-generate:hover {\n",
              "        background-color: #E2EBFA;\n",
              "        box-shadow: 0px 1px 2px rgba(60, 64, 67, 0.3), 0px 1px 3px 1px rgba(60, 64, 67, 0.15);\n",
              "        fill: #174EA6;\n",
              "      }\n",
              "\n",
              "      [theme=dark] .colab-df-generate {\n",
              "        background-color: #3B4455;\n",
              "        fill: #D2E3FC;\n",
              "      }\n",
              "\n",
              "      [theme=dark] .colab-df-generate:hover {\n",
              "        background-color: #434B5C;\n",
              "        box-shadow: 0px 1px 3px 1px rgba(0, 0, 0, 0.15);\n",
              "        filter: drop-shadow(0px 1px 2px rgba(0, 0, 0, 0.3));\n",
              "        fill: #FFFFFF;\n",
              "      }\n",
              "    </style>\n",
              "    <button class=\"colab-df-generate\" onclick=\"generateWithVariable('df')\"\n",
              "            title=\"Generate code using this dataframe.\"\n",
              "            style=\"display:none;\">\n",
              "\n",
              "  <svg xmlns=\"http://www.w3.org/2000/svg\" height=\"24px\"viewBox=\"0 0 24 24\"\n",
              "       width=\"24px\">\n",
              "    <path d=\"M7,19H8.4L18.45,9,17,7.55,7,17.6ZM5,21V16.75L18.45,3.32a2,2,0,0,1,2.83,0l1.4,1.43a1.91,1.91,0,0,1,.58,1.4,1.91,1.91,0,0,1-.58,1.4L9.25,21ZM18.45,9,17,7.55Zm-12,3A5.31,5.31,0,0,0,4.9,8.1,5.31,5.31,0,0,0,1,6.5,5.31,5.31,0,0,0,4.9,4.9,5.31,5.31,0,0,0,6.5,1,5.31,5.31,0,0,0,8.1,4.9,5.31,5.31,0,0,0,12,6.5,5.46,5.46,0,0,0,6.5,12Z\"/>\n",
              "  </svg>\n",
              "    </button>\n",
              "    <script>\n",
              "      (() => {\n",
              "      const buttonEl =\n",
              "        document.querySelector('#id_4cd88a94-3121-4eb2-86a5-591a1e5b572a button.colab-df-generate');\n",
              "      buttonEl.style.display =\n",
              "        google.colab.kernel.accessAllowed ? 'block' : 'none';\n",
              "\n",
              "      buttonEl.onclick = () => {\n",
              "        google.colab.notebook.generateWithVariable('df');\n",
              "      }\n",
              "      })();\n",
              "    </script>\n",
              "  </div>\n",
              "\n",
              "    </div>\n",
              "  </div>\n"
            ],
            "application/vnd.google.colaboratory.intrinsic+json": {
              "type": "dataframe",
              "variable_name": "df",
              "summary": "{\n  \"name\": \"df\",\n  \"rows\": 10,\n  \"fields\": [\n    {\n      \"column\": \"IBU\",\n      \"properties\": {\n        \"dtype\": \"number\",\n        \"std\": 23,\n        \"min\": 10,\n        \"max\": 80,\n        \"num_unique_values\": 8,\n        \"samples\": [\n          60,\n          10,\n          15\n        ],\n        \"semantic_type\": \"\",\n        \"description\": \"\"\n      }\n    },\n    {\n      \"column\": \"Teor_Alcool\",\n      \"properties\": {\n        \"dtype\": \"number\",\n        \"std\": 1.2587471725666137,\n        \"min\": 4.0,\n        \"max\": 8.0,\n        \"num_unique_values\": 9,\n        \"samples\": [\n          5.0,\n          4.5,\n          8.0\n        ],\n        \"semantic_type\": \"\",\n        \"description\": \"\"\n      }\n    },\n    {\n      \"column\": \"Cor\",\n      \"properties\": {\n        \"dtype\": \"category\",\n        \"num_unique_values\": 2,\n        \"samples\": [\n          \"Escura\",\n          \"Clara\"\n        ],\n        \"semantic_type\": \"\",\n        \"description\": \"\"\n      }\n    },\n    {\n      \"column\": \"Aceita\",\n      \"properties\": {\n        \"dtype\": \"category\",\n        \"num_unique_values\": 2,\n        \"samples\": [\n          \"N\\u00e3o\",\n          \"Sim\"\n        ],\n        \"semantic_type\": \"\",\n        \"description\": \"\"\n      }\n    }\n  ]\n}"
            }
          },
          "metadata": {},
          "execution_count": 98
        }
      ],
      "source": [
        "import pandas as pd\n",
        "\n",
        "# Dados exemplo sobre cervejas\n",
        "data = {\n",
        "    'IBU': [15, 60, 20, 35, 35, 80, 10, 70, 25, 35],\n",
        "    'Teor_Alcool': [6.2, 4.5, 4.8, 7.0, 5.5, 8.0, 4.0, 6.2, 5.0, 6.8],\n",
        "    'Cor': [\"Clara\", \"Clara\", \"Clara\", \"Escura\", \"Clara\", \"Escura\", \"Clara\", \"Escura\", \"Clara\", \"Escura\"],\n",
        "    'Aceita': ['Sim', 'Não', 'Sim', 'Não', 'Não', 'Não', 'Sim', 'Sim', 'Sim', 'Não']\n",
        "}\n",
        "\n",
        "df = pd.DataFrame(data)\n",
        "\n",
        "df"
      ]
    },
    {
      "cell_type": "markdown",
      "source": [
        "## O que é o Gini Index?\n",
        "\n",
        "O Gini Index mede a \"impureza\" de um conjunto de dados, ou como eu digo o quão bom (puros) os dados ficarão ao separarmos. Quanto menor o índice menor a impureza.\n",
        "\n",
        "Para um problema com duas classes temos:\n",
        "\n",
        "$Gini = 1 - p_1^2 - p_2^2$\n",
        "\n",
        "Para um problema com várias classes temos:\n",
        "\n",
        "$Gini = 1 - \\sum_{c \\in Classes} p_c^2 $\n"
      ],
      "metadata": {
        "id": "O--6bRSazBws"
      },
      "id": "O--6bRSazBws"
    },
    {
      "cell_type": "markdown",
      "source": [
        "# Exemplo\n",
        "\n",
        "## Calcular o Gini para a Cor\n",
        "\n",
        "### 1. Separar o DF original em dois DFs (grupos - claro e escuro)"
      ],
      "metadata": {
        "id": "WX6lgemMANXt"
      },
      "id": "WX6lgemMANXt"
    },
    {
      "cell_type": "code",
      "source": [
        "group_clara = df[df['Cor'] == 'Clara']\n",
        "group_escura = df[df['Cor'] == 'Escura']\n",
        "\n",
        "print(group_clara)\n",
        "print(group_escura)"
      ],
      "metadata": {
        "colab": {
          "base_uri": "https://localhost:8080/"
        },
        "id": "3Q0vA8vzAUQA",
        "outputId": "bcede101-55fc-43df-91c9-ce5875eb3799"
      },
      "id": "3Q0vA8vzAUQA",
      "execution_count": 99,
      "outputs": [
        {
          "output_type": "stream",
          "name": "stdout",
          "text": [
            "   IBU  Teor_Alcool    Cor Aceita\n",
            "0   15          6.2  Clara    Sim\n",
            "1   60          4.5  Clara    Não\n",
            "2   20          4.8  Clara    Sim\n",
            "4   35          5.5  Clara    Não\n",
            "6   10          4.0  Clara    Sim\n",
            "8   25          5.0  Clara    Sim\n",
            "   IBU  Teor_Alcool     Cor Aceita\n",
            "3   35          7.0  Escura    Não\n",
            "5   80          8.0  Escura    Não\n",
            "7   70          6.2  Escura    Sim\n",
            "9   35          6.8  Escura    Não\n"
          ]
        }
      ]
    },
    {
      "cell_type": "markdown",
      "source": [
        "## 2. Calcula o Gini para cada classe\n",
        "\n",
        "### Clara"
      ],
      "metadata": {
        "id": "nhp0QVmSAk_M"
      },
      "id": "nhp0QVmSAk_M"
    },
    {
      "cell_type": "code",
      "source": [
        "size_clara = len(group_clara['Aceita'])\n",
        "print(f\"Tamanho do DF Clara: {size_clara}\\n\")\n",
        "\n",
        "gr = group_clara.groupby(\"Aceita\")[\"Cor\"].count()\n",
        "print(f\"Quantidade de elementos em cada classe:\")\n",
        "print(gr)\n",
        "\n",
        "print(f\"\\n% de elementos em cada classe:\")\n",
        "gr = gr/size_clara\n",
        "print(gr)\n",
        "\n",
        "print(f\"\\n% de elementos ao quadrado em cada classe:\")\n",
        "gr = gr**2\n",
        "print(gr)\n",
        "\n",
        "print(f\"\\nSoma de todos os quadrados: {gr.sum()}\")\n",
        "\n",
        "gini_clara = 1 - gr.sum()\n",
        "\n",
        "print(f\"Gini Index da cerveja clara {gini_clara}\")"
      ],
      "metadata": {
        "colab": {
          "base_uri": "https://localhost:8080/"
        },
        "id": "yB5-fnsLAqbu",
        "outputId": "1bba13ed-f5cd-4ccf-956f-1fc440e5ebfa"
      },
      "id": "yB5-fnsLAqbu",
      "execution_count": 100,
      "outputs": [
        {
          "output_type": "stream",
          "name": "stdout",
          "text": [
            "Tamanho do DF Clara: 6\n",
            "\n",
            "Quantidade de elementos em cada classe:\n",
            "Aceita\n",
            "Não    2\n",
            "Sim    4\n",
            "Name: Cor, dtype: int64\n",
            "\n",
            "% de elementos em cada classe:\n",
            "Aceita\n",
            "Não    0.333333\n",
            "Sim    0.666667\n",
            "Name: Cor, dtype: float64\n",
            "\n",
            "% de elementos ao quadrado em cada classe:\n",
            "Aceita\n",
            "Não    0.111111\n",
            "Sim    0.444444\n",
            "Name: Cor, dtype: float64\n",
            "\n",
            "Soma de todos os quadrados: 0.5555555555555556\n",
            "Gini Index da cerveja clara 0.4444444444444444\n"
          ]
        }
      ]
    },
    {
      "cell_type": "markdown",
      "source": [
        "### Escura"
      ],
      "metadata": {
        "id": "aN2oelItaFa2"
      },
      "id": "aN2oelItaFa2"
    },
    {
      "cell_type": "code",
      "source": [
        "size_escura = len(group_escura['Aceita'])\n",
        "print(f\"Tamanho do DF Escura: {size_escura}\\n\")\n",
        "\n",
        "gr = group_escura.groupby(\"Aceita\")[\"Cor\"].count()\n",
        "print(f\"Quantidade de elementos em cada classe:\")\n",
        "print(gr)\n",
        "\n",
        "gr = gr/size_escura\n",
        "print(f\"\\n% de elementos em cada classe:\")\n",
        "print(gr)\n",
        "\n",
        "gr = gr**2\n",
        "print(f\"\\n% de elementos ao quadrado em cada classe:\")\n",
        "print(gr)\n",
        "\n",
        "print(f\"\\nSoma de todos os quadrados: {gr.sum()}\")\n",
        "\n",
        "gini_escura = 1 - gr.sum()\n",
        "print(f\"Gini Index da cerveja clara {gini_escura}\")"
      ],
      "metadata": {
        "colab": {
          "base_uri": "https://localhost:8080/"
        },
        "id": "5aSUF2QJDPzt",
        "outputId": "e874a8b5-a358-4979-83a3-21cc36f66f3f"
      },
      "id": "5aSUF2QJDPzt",
      "execution_count": 101,
      "outputs": [
        {
          "output_type": "stream",
          "name": "stdout",
          "text": [
            "Tamanho do DF Escura: 4\n",
            "\n",
            "Quantidade de elementos em cada classe:\n",
            "Aceita\n",
            "Não    3\n",
            "Sim    1\n",
            "Name: Cor, dtype: int64\n",
            "\n",
            "% de elementos em cada classe:\n",
            "Aceita\n",
            "Não    0.75\n",
            "Sim    0.25\n",
            "Name: Cor, dtype: float64\n",
            "\n",
            "% de elementos ao quadrado em cada classe:\n",
            "Aceita\n",
            "Não    0.5625\n",
            "Sim    0.0625\n",
            "Name: Cor, dtype: float64\n",
            "\n",
            "Soma de todos os quadrados: 0.625\n",
            "Gini Index da cerveja clara 0.375\n"
          ]
        }
      ]
    },
    {
      "cell_type": "markdown",
      "source": [
        "## 3. Agregar os Gini indexes de cada classe com uma soma ponderada pelo tamanho da classe"
      ],
      "metadata": {
        "id": "nNZd_cz-GHcs"
      },
      "id": "nNZd_cz-GHcs"
    },
    {
      "cell_type": "code",
      "source": [
        "# Soma ponderada\n",
        "gini_cor = (gini_clara * size_clara + gini_escura * size_escura)/(size_clara + size_escura)\n",
        "print(gini_cor)"
      ],
      "metadata": {
        "colab": {
          "base_uri": "https://localhost:8080/"
        },
        "id": "nBM54DJEDqBP",
        "outputId": "2d93a278-e88b-4dc4-b253-ea1dfc6e3dbc"
      },
      "id": "nBM54DJEDqBP",
      "execution_count": 89,
      "outputs": [
        {
          "output_type": "stream",
          "name": "stdout",
          "text": [
            "0.41666666666666663\n"
          ]
        }
      ]
    },
    {
      "cell_type": "markdown",
      "source": [
        "## Entenderam? Então vamos usar uma função pra isso"
      ],
      "metadata": {
        "id": "gQXApMkMGU6y"
      },
      "id": "gQXApMkMGU6y"
    },
    {
      "cell_type": "code",
      "source": [
        "def gini_index(groups, classes):\n",
        "    total = sum(len(group) for group in groups)\n",
        "    gini = 0.0\n",
        "    for group in groups:\n",
        "        size = len(group)\n",
        "        if size == 0:\n",
        "            continue\n",
        "        score = 0.0\n",
        "        for class_val in classes:\n",
        "            p = list(group['Aceita']).count(class_val) / size\n",
        "            score += p ** 2\n",
        "        gini += (1.0 - score) * (size / total)\n",
        "    return gini"
      ],
      "metadata": {
        "id": "v20RI0mBGYUz"
      },
      "id": "v20RI0mBGYUz",
      "execution_count": 94,
      "outputs": []
    },
    {
      "cell_type": "markdown",
      "source": [
        "## Gini da Cor"
      ],
      "metadata": {
        "id": "2P4sgHgeGbQy"
      },
      "id": "2P4sgHgeGbQy"
    },
    {
      "cell_type": "code",
      "source": [
        "gini_cor = gini_index([group_clara, group_escura], ['Sim', 'Não'])\n",
        "\n",
        "print(gini_cor)"
      ],
      "metadata": {
        "colab": {
          "base_uri": "https://localhost:8080/"
        },
        "id": "xzMqJW1Cxjuu",
        "outputId": "64c2cea9-0ea2-4dd6-8ccf-062646ab7a24"
      },
      "id": "xzMqJW1Cxjuu",
      "execution_count": 95,
      "outputs": [
        {
          "output_type": "stream",
          "name": "stdout",
          "text": [
            "0.4166666666666667\n"
          ]
        }
      ]
    },
    {
      "cell_type": "markdown",
      "source": [
        "## Gini do IBU = 40"
      ],
      "metadata": {
        "id": "ly1T0mK3GhTA"
      },
      "id": "ly1T0mK3GhTA"
    },
    {
      "cell_type": "code",
      "source": [
        "gini_ibu = gini_index(\n",
        "    [df[df['IBU'] <= 40], df[df['IBU'] > 40]],\n",
        "    ['Sim', 'Não']\n",
        ")\n",
        "\n",
        "print(gini_ibu)"
      ],
      "metadata": {
        "colab": {
          "base_uri": "https://localhost:8080/"
        },
        "id": "2BORpWbXxkiS",
        "outputId": "333ffe5e-0cd2-457f-ecab-4dcfbe27a500"
      },
      "id": "2BORpWbXxkiS",
      "execution_count": 96,
      "outputs": [
        {
          "output_type": "stream",
          "name": "stdout",
          "text": [
            "0.4761904761904763\n"
          ]
        }
      ]
    },
    {
      "cell_type": "markdown",
      "source": [
        "## Gini do Alcool = 5.5"
      ],
      "metadata": {
        "id": "CS0Kj9O1Gj8O"
      },
      "id": "CS0Kj9O1Gj8O"
    },
    {
      "cell_type": "code",
      "source": [
        "gini_alcool = gini_index(\n",
        "    [df[df['Teor_Alcool'] <= 5.5], df[df['Teor_Alcool'] > 5.5]],\n",
        "    ['Sim', 'Não']\n",
        ")\n",
        "\n",
        "print(gini_alcool)"
      ],
      "metadata": {
        "colab": {
          "base_uri": "https://localhost:8080/"
        },
        "id": "7AYfDkOFxr0J",
        "outputId": "b73a157b-2c40-4486-f1d3-b66bb8c3c913"
      },
      "id": "7AYfDkOFxr0J",
      "execution_count": 97,
      "outputs": [
        {
          "output_type": "stream",
          "name": "stdout",
          "text": [
            "0.48\n"
          ]
        }
      ]
    },
    {
      "cell_type": "markdown",
      "source": [
        "No algoritmo de Árvores de Decisão a separação sempre começa com o menor Gini (menor impureza), no nosso exemplo a Cor é a melhor separação."
      ],
      "metadata": {
        "id": "v0IPXWvbH-nT"
      },
      "id": "v0IPXWvbH-nT"
    },
    {
      "cell_type": "markdown",
      "source": [
        "## Fique Conectado\n",
        "\n",
        "- [![YouTube](https://img.icons8.com/?size=40&id=19318&format=png&color=000000)](https://www.youtube.com/@LigaDataScience/videos)  \n",
        "  Explore nossos vídeos educacionais e webinars sobre ciência de dados, machine learning e inteligência artificial. Inscreva-se para não perder nenhuma atualização!\n",
        "\n",
        "- [![LinkedIn](https://img.icons8.com/?size=40&id=13930&format=png&color=000000)](https://www.linkedin.com/company/liga-data-science-ufpr/)  \n",
        "  Siga-nos no LinkedIn para as últimas novidades, oportunidades de carreira e networking profissional no campo da ciência de dados.\n",
        "\n",
        "- [![Instagram](https://img.icons8.com/?size=40&id=32323&format=png&color=000000)](https://www.instagram.com/ligadatascience/)  \n",
        "  Confira nosso Instagram para conteúdos dos bastidores, destaques de eventos e o dia a dia da Liga Data Science. Faça parte da nossa jornada!\n",
        "  \n",
        "  ## Autores\n",
        "\n",
        "<a href=\"https://www.linkedin.com/in/eduardopecora/\" target=\"_blank\">Eduardo Pecora</a>\n",
        "\n",
        "## Log de modificações\n",
        "\n",
        "| Data | Versão | Modificado por | Descrição |\n",
        "| ----------------- | ------- | ---------- | ---------------------------------- |\n",
        "| 29-05-2025       | 1.0     | Eduardo Pecora | Inicial               |\n",
        "\n",
        "<hr>\n",
        "\n",
        "## <h3 align=\"center\"> (c) Liga Data Science/ UFPR 2025. All rights reserved. <h3/>"
      ],
      "metadata": {
        "id": "WFlw3Qc3aZt3"
      },
      "id": "WFlw3Qc3aZt3"
    }
  ],
  "metadata": {
    "colab": {
      "provenance": []
    },
    "language_info": {
      "name": "python"
    },
    "kernelspec": {
      "name": "python3",
      "display_name": "Python 3"
    }
  },
  "nbformat": 4,
  "nbformat_minor": 5
}